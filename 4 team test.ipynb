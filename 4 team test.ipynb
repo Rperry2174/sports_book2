{
 "cells": [
  {
   "cell_type": "code",
   "execution_count": 42,
   "metadata": {},
   "outputs": [],
   "source": [
    "import os\n",
    "import numpy as np"
   ]
  },
  {
   "cell_type": "code",
   "execution_count": 43,
   "metadata": {},
   "outputs": [],
   "source": [
    "from classes.money_line import MoneyLine\n",
    "from classes.parlay_system import ParlaySystem"
   ]
  },
  {
   "cell_type": "code",
   "execution_count": 44,
   "metadata": {
    "pycharm": {
     "name": "#%%\n"
    }
   },
   "outputs": [],
   "source": [
    "match_a_team_1 = MoneyLine(event=\"clippers\",\n",
    "                           bet_amount=100,\n",
    "                           money_line_odds=-136)\n",
    "# match_a_team_1.df_stats"
   ]
  },
  {
   "cell_type": "code",
   "execution_count": 45,
   "metadata": {
    "pycharm": {
     "name": "#%%\n"
    }
   },
   "outputs": [],
   "source": [
    "match_a_team_2 = MoneyLine(event=\"mavs\",\n",
    "                           bet_amount=100,\n",
    "                           money_line_odds=114)\n",
    "# match_a_team_2.df_stats"
   ]
  },
  {
   "cell_type": "code",
   "execution_count": 46,
   "metadata": {
    "pycharm": {
     "name": "#%%\n"
    }
   },
   "outputs": [],
   "source": [
    "match_b_team_1 = MoneyLine(event=\"bucks\",\n",
    "                           bet_amount=100,\n",
    "                           money_line_odds=145)\n",
    "\n",
    "# match_b_team_1.df_stats"
   ]
  },
  {
   "cell_type": "code",
   "execution_count": 47,
   "metadata": {
    "pycharm": {
     "name": "#%%\n"
    }
   },
   "outputs": [],
   "source": [
    "match_b_team_2 = MoneyLine(event=\"nets\",\n",
    "                           bet_amount=100,\n",
    "                           money_line_odds=-177)\n",
    "\n",
    "# match_b_team_2.df_stats"
   ]
  },
  {
   "cell_type": "code",
   "execution_count": 48,
   "metadata": {
    "pycharm": {
     "name": "#%%\n"
    }
   },
   "outputs": [],
   "source": [
    "match_c_team_1 = MoneyLine(event=\"hawks\",\n",
    "                           bet_amount=100,\n",
    "                           money_line_odds=116)\n",
    "\n",
    "# match_c_team_1.df_stats"
   ]
  },
  {
   "cell_type": "code",
   "execution_count": 49,
   "metadata": {},
   "outputs": [],
   "source": [
    "match_c_team_2 = MoneyLine(event=\"sixers\",\n",
    "                           bet_amount=100,\n",
    "                           money_line_odds=-137)\n",
    "\n",
    "# match_c_team_2.df_stats"
   ]
  },
  {
   "cell_type": "code",
   "execution_count": 50,
   "metadata": {
    "pycharm": {
     "name": "#%%\n"
    }
   },
   "outputs": [],
   "source": [
    "binaries = [\n",
    "    [match_a_team_1, match_a_team_2],\n",
    "    [match_b_team_1, match_b_team_2],\n",
    "    [match_c_team_1, match_c_team_2],\n",
    "    [match_b_team_1, match_b_team_2],\n",
    "]"
   ]
  },
  {
   "cell_type": "code",
   "execution_count": 51,
   "metadata": {
    "pycharm": {
     "name": "#%%\n"
    }
   },
   "outputs": [
    {
     "name": "stdout",
     "output_type": "stream",
     "text": [
      "\n",
      "            constraints:\n",
      "            [{'type': 'ineq', 'fun': <function ParlaySystem.slsqp_solver.<locals>.<listcomp>.<lambda> at 0x1425e1710>}, {'type': 'ineq', 'fun': <function ParlaySystem.slsqp_solver.<locals>.<listcomp>.<lambda> at 0x1425e1830>}, {'type': 'ineq', 'fun': <function ParlaySystem.slsqp_solver.<locals>.<listcomp>.<lambda> at 0x1425e17a0>}, {'type': 'ineq', 'fun': <function ParlaySystem.slsqp_solver.<locals>.<listcomp>.<lambda> at 0x10fad9a70>}, {'type': 'ineq', 'fun': <function ParlaySystem.slsqp_solver.<locals>.<listcomp>.<lambda> at 0x10fab9710>}, {'type': 'ineq', 'fun': <function ParlaySystem.slsqp_solver.<locals>.<listcomp>.<lambda> at 0x14269cef0>}, {'type': 'ineq', 'fun': <function ParlaySystem.slsqp_solver.<locals>.<listcomp>.<lambda> at 0x142636c20>}, {'type': 'ineq', 'fun': <function ParlaySystem.slsqp_solver.<locals>.<listcomp>.<lambda> at 0x142636200>}, {'type': 'ineq', 'fun': <function ParlaySystem.slsqp_solver.<locals>.<listcomp>.<lambda> at 0x1426360e0>}, {'type': 'ineq', 'fun': <function ParlaySystem.slsqp_solver.<locals>.<listcomp>.<lambda> at 0x1426365f0>}, {'type': 'ineq', 'fun': <function ParlaySystem.slsqp_solver.<locals>.<listcomp>.<lambda> at 0x142636f80>}, {'type': 'ineq', 'fun': <function ParlaySystem.slsqp_solver.<locals>.<listcomp>.<lambda> at 0x142636050>}, {'type': 'ineq', 'fun': <function ParlaySystem.slsqp_solver.<locals>.<listcomp>.<lambda> at 0x142636560>}, {'type': 'ineq', 'fun': <function ParlaySystem.slsqp_solver.<locals>.<listcomp>.<lambda> at 0x142636680>}, {'type': 'ineq', 'fun': <function ParlaySystem.slsqp_solver.<locals>.<listcomp>.<lambda> at 0x142636e60>}, {'type': 'ineq', 'fun': <function ParlaySystem.slsqp_solver.<locals>.<listcomp>.<lambda> at 0x142636440>}]\n",
      "        \n",
      "\n",
      "            final_val:\n",
      "                 fun: -0.0014468544262062448\n",
      "     jac: array([-0.73412225, -0.4061739 , -0.38884487, -0.12619361, -0.10769483,\n",
      "       -0.10769483,  0.10178676,  0.10178676,  0.11285592,  0.11285592,\n",
      "        0.28062809,  0.28062809,  0.29244444,  0.42625374,  0.43332432,\n",
      "        0.54049113])\n",
      " message: 'Positive directional derivative for linesearch'\n",
      "    nfev: 322\n",
      "     nit: 18\n",
      "    njev: 14\n",
      "  status: 8\n",
      " success: False\n",
      "       x: array([0.02206545, 0.02721157, 0.02755109, 0.03397657, 0.03454399,\n",
      "       0.03454399, 0.03329707, 0.03329707, 0.03280022, 0.03280022,\n",
      "       0.02339747, 0.02339747, 0.02256715, 0.01077784, 0.01      ,\n",
      "       0.01      ])\n",
      "        \n",
      "\n",
      "            ['bucks_bucks_hawks_mavs', 'bucks_bucks_clippers_hawks', 'bucks_bucks_mavs_sixers', 'bucks_bucks_clippers_sixers', 'bucks_hawks_mavs_nets', 'bucks_hawks_mavs_nets', 'bucks_clippers_hawks_nets', 'bucks_clippers_hawks_nets', 'bucks_mavs_nets_sixers', 'bucks_mavs_nets_sixers', 'bucks_clippers_nets_sixers', 'bucks_clippers_nets_sixers', 'hawks_mavs_nets_nets', 'clippers_hawks_nets_nets', 'mavs_nets_nets_sixers', 'clippers_nets_nets_sixers']\n",
      "            [2674.5956, 2149.878235294118, 2122.1517883211677, 1701.909778875054, 1672.3117288135593, 1672.3117288135593, 1337.1411764705886, 1337.1411764705886, 1319.4305208462204, 1319.4305208462204, 1050.9950622584804, 1050.9950622584802, 1032.0888939959782, 817.9940179461615, 806.6810890681495, 635.2141871223314]\n",
      "            [0.0221, 0.0272, 0.0276, 0.034, 0.0345, 0.0345, 0.0333, 0.0333, 0.0328, 0.0328, 0.0234, 0.0234, 0.0226, 0.0108, 0.01, 0.01]\n",
      "            [27.746, 22.4988, 22.2215, 18.0191, 17.7231, 17.7231, 14.3714, 14.3714, 14.1943, 14.1943, 11.51, 11.51, 11.3209, 9.1799, 9.0668, 7.3521]\n",
      "            [0.03604128832324249, 0.044446849803374974, 0.0450014263317043, 0.05549667423550516, 0.056423482604238656, 0.056423482604238656, 0.06958258634380345, 0.06958258634380345, 0.07045078891243166, 0.07045078891243166, 0.0868813457842123, 0.08688134578421232, 0.08833228603367542, 0.10893317172559701, 0.11029236321976892, 0.13601478555712518]\n",
      "            [0.6122, 0.6122, 0.6122, 0.6122, 0.6122, 0.6122, 0.4785, 0.4785, 0.4656, 0.4656, 0.2693, 0.2693, 0.2555, 0.0989, 0.0907, 0.0735]\n",
      "            [0.2, 0.2, 0.2, 0.2, 0.2, 0.2, 0.066, 0.066, 0.053, 0.053, -0.143, -0.143, -0.157, -0.313, -0.322, -0.339]\n",
      "        \n",
      "\n",
      "            Parlay system total bet 0.41:\n",
      "        \n"
     ]
    }
   ],
   "source": [
    "parlay_system = ParlaySystem(binaries=binaries,\n",
    "                             target_profit=0.2,\n",
    "                             bounds=(0.01, 50))\n",
    "\n",
    "# results = parlay_system.slsqp_solver(profit_type='avg_implied_profit')\n",
    "results = parlay_system.slsqp_solver(profit_type='avg_profit')"
   ]
  },
  {
   "cell_type": "code",
   "execution_count": 52,
   "metadata": {
    "pycharm": {
     "name": "#%%\n"
    }
   },
   "outputs": [],
   "source": [
    "results.head(10)\n",
    "results.to_csv('/Users/ramp/Desktop/projects/sports_book2/data/spread_betting.csv', header=True, index=False)\n",
    "\n",
    "# results_implied_profit.head(10)"
   ]
  },
  {
   "cell_type": "code",
   "execution_count": 53,
   "metadata": {
    "pycharm": {
     "name": "#%%\n"
    }
   },
   "outputs": [
    {
     "name": "stdout",
     "output_type": "stream",
     "text": [
      "\n",
      "    Total Bet Amount: 0.4123\n",
      "    Total Implied Probability: 1.1912352525193655\n",
      "    Average Profit: 0.001312500000000008\n",
      "\n"
     ]
    }
   ],
   "source": [
    "print(f'''\n",
    "    Total Bet Amount: {results['bet'].sum()}\n",
    "    Total Implied Probability: {results['implied_prob'].sum()}\n",
    "    Average Profit: {results['profit'].mean()}\n",
    "''')"
   ]
  },
  {
   "cell_type": "code",
   "execution_count": 54,
   "metadata": {
    "pycharm": {
     "name": "#%%\n"
    }
   },
   "outputs": [
    {
     "data": {
      "text/html": [
       "<div>\n",
       "<style scoped>\n",
       "    .dataframe tbody tr th:only-of-type {\n",
       "        vertical-align: middle;\n",
       "    }\n",
       "\n",
       "    .dataframe tbody tr th {\n",
       "        vertical-align: top;\n",
       "    }\n",
       "\n",
       "    .dataframe thead th {\n",
       "        text-align: right;\n",
       "    }\n",
       "</style>\n",
       "<table border=\"1\" class=\"dataframe\">\n",
       "  <thead>\n",
       "    <tr style=\"text-align: right;\">\n",
       "      <th></th>\n",
       "      <th>event</th>\n",
       "      <th>bet</th>\n",
       "      <th>dec_odds</th>\n",
       "      <th>implied_prob</th>\n",
       "      <th>payout</th>\n",
       "      <th>profit</th>\n",
       "      <th>expected_value</th>\n",
       "    </tr>\n",
       "  </thead>\n",
       "  <tbody>\n",
       "    <tr>\n",
       "      <th>0</th>\n",
       "      <td>bucks_bucks_hawks_mavs</td>\n",
       "      <td>0.0221</td>\n",
       "      <td>27.7460</td>\n",
       "      <td>0.036041</td>\n",
       "      <td>0.6122</td>\n",
       "      <td>0.200</td>\n",
       "      <td>0.007208</td>\n",
       "    </tr>\n",
       "    <tr>\n",
       "      <th>1</th>\n",
       "      <td>bucks_bucks_clippers_hawks</td>\n",
       "      <td>0.0272</td>\n",
       "      <td>22.4988</td>\n",
       "      <td>0.044447</td>\n",
       "      <td>0.6122</td>\n",
       "      <td>0.200</td>\n",
       "      <td>0.008889</td>\n",
       "    </tr>\n",
       "    <tr>\n",
       "      <th>2</th>\n",
       "      <td>bucks_bucks_mavs_sixers</td>\n",
       "      <td>0.0276</td>\n",
       "      <td>22.2215</td>\n",
       "      <td>0.045001</td>\n",
       "      <td>0.6122</td>\n",
       "      <td>0.200</td>\n",
       "      <td>0.009000</td>\n",
       "    </tr>\n",
       "    <tr>\n",
       "      <th>3</th>\n",
       "      <td>bucks_bucks_clippers_sixers</td>\n",
       "      <td>0.0340</td>\n",
       "      <td>18.0191</td>\n",
       "      <td>0.055497</td>\n",
       "      <td>0.6122</td>\n",
       "      <td>0.200</td>\n",
       "      <td>0.011099</td>\n",
       "    </tr>\n",
       "    <tr>\n",
       "      <th>4</th>\n",
       "      <td>bucks_hawks_mavs_nets</td>\n",
       "      <td>0.0345</td>\n",
       "      <td>17.7231</td>\n",
       "      <td>0.056423</td>\n",
       "      <td>0.6122</td>\n",
       "      <td>0.200</td>\n",
       "      <td>0.011285</td>\n",
       "    </tr>\n",
       "    <tr>\n",
       "      <th>5</th>\n",
       "      <td>bucks_hawks_mavs_nets</td>\n",
       "      <td>0.0345</td>\n",
       "      <td>17.7231</td>\n",
       "      <td>0.056423</td>\n",
       "      <td>0.6122</td>\n",
       "      <td>0.200</td>\n",
       "      <td>0.011285</td>\n",
       "    </tr>\n",
       "    <tr>\n",
       "      <th>6</th>\n",
       "      <td>bucks_clippers_hawks_nets</td>\n",
       "      <td>0.0333</td>\n",
       "      <td>14.3714</td>\n",
       "      <td>0.069583</td>\n",
       "      <td>0.4785</td>\n",
       "      <td>0.066</td>\n",
       "      <td>0.004592</td>\n",
       "    </tr>\n",
       "    <tr>\n",
       "      <th>7</th>\n",
       "      <td>bucks_clippers_hawks_nets</td>\n",
       "      <td>0.0333</td>\n",
       "      <td>14.3714</td>\n",
       "      <td>0.069583</td>\n",
       "      <td>0.4785</td>\n",
       "      <td>0.066</td>\n",
       "      <td>0.004592</td>\n",
       "    </tr>\n",
       "    <tr>\n",
       "      <th>8</th>\n",
       "      <td>bucks_mavs_nets_sixers</td>\n",
       "      <td>0.0328</td>\n",
       "      <td>14.1943</td>\n",
       "      <td>0.070451</td>\n",
       "      <td>0.4656</td>\n",
       "      <td>0.053</td>\n",
       "      <td>0.003734</td>\n",
       "    </tr>\n",
       "    <tr>\n",
       "      <th>9</th>\n",
       "      <td>bucks_mavs_nets_sixers</td>\n",
       "      <td>0.0328</td>\n",
       "      <td>14.1943</td>\n",
       "      <td>0.070451</td>\n",
       "      <td>0.4656</td>\n",
       "      <td>0.053</td>\n",
       "      <td>0.003734</td>\n",
       "    </tr>\n",
       "    <tr>\n",
       "      <th>10</th>\n",
       "      <td>bucks_clippers_nets_sixers</td>\n",
       "      <td>0.0234</td>\n",
       "      <td>11.5100</td>\n",
       "      <td>0.086881</td>\n",
       "      <td>0.2693</td>\n",
       "      <td>-0.143</td>\n",
       "      <td>-0.012424</td>\n",
       "    </tr>\n",
       "    <tr>\n",
       "      <th>11</th>\n",
       "      <td>bucks_clippers_nets_sixers</td>\n",
       "      <td>0.0234</td>\n",
       "      <td>11.5100</td>\n",
       "      <td>0.086881</td>\n",
       "      <td>0.2693</td>\n",
       "      <td>-0.143</td>\n",
       "      <td>-0.012424</td>\n",
       "    </tr>\n",
       "    <tr>\n",
       "      <th>12</th>\n",
       "      <td>hawks_mavs_nets_nets</td>\n",
       "      <td>0.0226</td>\n",
       "      <td>11.3209</td>\n",
       "      <td>0.088332</td>\n",
       "      <td>0.2555</td>\n",
       "      <td>-0.157</td>\n",
       "      <td>-0.013868</td>\n",
       "    </tr>\n",
       "    <tr>\n",
       "      <th>13</th>\n",
       "      <td>clippers_hawks_nets_nets</td>\n",
       "      <td>0.0108</td>\n",
       "      <td>9.1799</td>\n",
       "      <td>0.108933</td>\n",
       "      <td>0.0989</td>\n",
       "      <td>-0.313</td>\n",
       "      <td>-0.034096</td>\n",
       "    </tr>\n",
       "    <tr>\n",
       "      <th>14</th>\n",
       "      <td>mavs_nets_nets_sixers</td>\n",
       "      <td>0.0100</td>\n",
       "      <td>9.0668</td>\n",
       "      <td>0.110292</td>\n",
       "      <td>0.0907</td>\n",
       "      <td>-0.322</td>\n",
       "      <td>-0.035514</td>\n",
       "    </tr>\n",
       "    <tr>\n",
       "      <th>15</th>\n",
       "      <td>clippers_nets_nets_sixers</td>\n",
       "      <td>0.0100</td>\n",
       "      <td>7.3521</td>\n",
       "      <td>0.136015</td>\n",
       "      <td>0.0735</td>\n",
       "      <td>-0.339</td>\n",
       "      <td>-0.046109</td>\n",
       "    </tr>\n",
       "  </tbody>\n",
       "</table>\n",
       "</div>"
      ],
      "text/plain": [
       "                          event     bet  dec_odds  implied_prob  payout  profit  expected_value\n",
       "0        bucks_bucks_hawks_mavs  0.0221   27.7460      0.036041  0.6122   0.200        0.007208\n",
       "1    bucks_bucks_clippers_hawks  0.0272   22.4988      0.044447  0.6122   0.200        0.008889\n",
       "2       bucks_bucks_mavs_sixers  0.0276   22.2215      0.045001  0.6122   0.200        0.009000\n",
       "3   bucks_bucks_clippers_sixers  0.0340   18.0191      0.055497  0.6122   0.200        0.011099\n",
       "4         bucks_hawks_mavs_nets  0.0345   17.7231      0.056423  0.6122   0.200        0.011285\n",
       "5         bucks_hawks_mavs_nets  0.0345   17.7231      0.056423  0.6122   0.200        0.011285\n",
       "6     bucks_clippers_hawks_nets  0.0333   14.3714      0.069583  0.4785   0.066        0.004592\n",
       "7     bucks_clippers_hawks_nets  0.0333   14.3714      0.069583  0.4785   0.066        0.004592\n",
       "8        bucks_mavs_nets_sixers  0.0328   14.1943      0.070451  0.4656   0.053        0.003734\n",
       "9        bucks_mavs_nets_sixers  0.0328   14.1943      0.070451  0.4656   0.053        0.003734\n",
       "10   bucks_clippers_nets_sixers  0.0234   11.5100      0.086881  0.2693  -0.143       -0.012424\n",
       "11   bucks_clippers_nets_sixers  0.0234   11.5100      0.086881  0.2693  -0.143       -0.012424\n",
       "12         hawks_mavs_nets_nets  0.0226   11.3209      0.088332  0.2555  -0.157       -0.013868\n",
       "13     clippers_hawks_nets_nets  0.0108    9.1799      0.108933  0.0989  -0.313       -0.034096\n",
       "14        mavs_nets_nets_sixers  0.0100    9.0668      0.110292  0.0907  -0.322       -0.035514\n",
       "15    clippers_nets_nets_sixers  0.0100    7.3521      0.136015  0.0735  -0.339       -0.046109"
      ]
     },
     "execution_count": 54,
     "metadata": {},
     "output_type": "execute_result"
    }
   ],
   "source": [
    "results['expected_value'] = results['implied_prob'] * results['profit']\n",
    "results[['event', 'bet', 'dec_odds', 'implied_prob', 'payout','profit', 'expected_value']].head(30)"
   ]
  },
  {
   "cell_type": "code",
   "execution_count": 55,
   "metadata": {
    "pycharm": {
     "name": "#%%\n"
    }
   },
   "outputs": [
    {
     "name": "stdout",
     "output_type": "stream",
     "text": [
      "\n",
      "    Total Bet           : 0.4123\n",
      "    Total Expected value: -0.079016144009754\n",
      "\n"
     ]
    }
   ],
   "source": [
    "\n",
    "print(f'''\n",
    "    Total Bet           : {results['bet'].sum()}\n",
    "    Total Expected value: {results['expected_value'].sum()}\n",
    "''')"
   ]
  },
  {
   "cell_type": "code",
   "execution_count": 56,
   "metadata": {
    "pycharm": {
     "name": "#%%\n"
    }
   },
   "outputs": [
    {
     "data": {
      "text/html": [
       "<div>\n",
       "<style scoped>\n",
       "    .dataframe tbody tr th:only-of-type {\n",
       "        vertical-align: middle;\n",
       "    }\n",
       "\n",
       "    .dataframe tbody tr th {\n",
       "        vertical-align: top;\n",
       "    }\n",
       "\n",
       "    .dataframe thead th {\n",
       "        text-align: right;\n",
       "    }\n",
       "</style>\n",
       "<table border=\"1\" class=\"dataframe\">\n",
       "  <thead>\n",
       "    <tr style=\"text-align: right;\">\n",
       "      <th></th>\n",
       "      <th>event</th>\n",
       "      <th>ml_odds</th>\n",
       "      <th>dec_odds</th>\n",
       "      <th>bet</th>\n",
       "      <th>implied_prob</th>\n",
       "      <th>payout</th>\n",
       "      <th>profit</th>\n",
       "      <th>expected_value</th>\n",
       "    </tr>\n",
       "  </thead>\n",
       "  <tbody>\n",
       "    <tr>\n",
       "      <th>0</th>\n",
       "      <td>bucks_bucks_hawks_mavs</td>\n",
       "      <td>2674.595600</td>\n",
       "      <td>27.7460</td>\n",
       "      <td>0.0221</td>\n",
       "      <td>0.036041</td>\n",
       "      <td>0.6122</td>\n",
       "      <td>0.200</td>\n",
       "      <td>0.007208</td>\n",
       "    </tr>\n",
       "    <tr>\n",
       "      <th>1</th>\n",
       "      <td>bucks_bucks_clippers_hawks</td>\n",
       "      <td>2149.878235</td>\n",
       "      <td>22.4988</td>\n",
       "      <td>0.0272</td>\n",
       "      <td>0.044447</td>\n",
       "      <td>0.6122</td>\n",
       "      <td>0.200</td>\n",
       "      <td>0.008889</td>\n",
       "    </tr>\n",
       "    <tr>\n",
       "      <th>2</th>\n",
       "      <td>bucks_bucks_mavs_sixers</td>\n",
       "      <td>2122.151788</td>\n",
       "      <td>22.2215</td>\n",
       "      <td>0.0276</td>\n",
       "      <td>0.045001</td>\n",
       "      <td>0.6122</td>\n",
       "      <td>0.200</td>\n",
       "      <td>0.009000</td>\n",
       "    </tr>\n",
       "    <tr>\n",
       "      <th>3</th>\n",
       "      <td>bucks_bucks_clippers_sixers</td>\n",
       "      <td>1701.909779</td>\n",
       "      <td>18.0191</td>\n",
       "      <td>0.0340</td>\n",
       "      <td>0.055497</td>\n",
       "      <td>0.6122</td>\n",
       "      <td>0.200</td>\n",
       "      <td>0.011099</td>\n",
       "    </tr>\n",
       "    <tr>\n",
       "      <th>4</th>\n",
       "      <td>bucks_hawks_mavs_nets</td>\n",
       "      <td>1672.311729</td>\n",
       "      <td>17.7231</td>\n",
       "      <td>0.0345</td>\n",
       "      <td>0.056423</td>\n",
       "      <td>0.6122</td>\n",
       "      <td>0.200</td>\n",
       "      <td>0.011285</td>\n",
       "    </tr>\n",
       "    <tr>\n",
       "      <th>5</th>\n",
       "      <td>bucks_hawks_mavs_nets</td>\n",
       "      <td>1672.311729</td>\n",
       "      <td>17.7231</td>\n",
       "      <td>0.0345</td>\n",
       "      <td>0.056423</td>\n",
       "      <td>0.6122</td>\n",
       "      <td>0.200</td>\n",
       "      <td>0.011285</td>\n",
       "    </tr>\n",
       "    <tr>\n",
       "      <th>6</th>\n",
       "      <td>bucks_clippers_hawks_nets</td>\n",
       "      <td>1337.141176</td>\n",
       "      <td>14.3714</td>\n",
       "      <td>0.0333</td>\n",
       "      <td>0.069583</td>\n",
       "      <td>0.4785</td>\n",
       "      <td>0.066</td>\n",
       "      <td>0.004592</td>\n",
       "    </tr>\n",
       "    <tr>\n",
       "      <th>7</th>\n",
       "      <td>bucks_clippers_hawks_nets</td>\n",
       "      <td>1337.141176</td>\n",
       "      <td>14.3714</td>\n",
       "      <td>0.0333</td>\n",
       "      <td>0.069583</td>\n",
       "      <td>0.4785</td>\n",
       "      <td>0.066</td>\n",
       "      <td>0.004592</td>\n",
       "    </tr>\n",
       "    <tr>\n",
       "      <th>8</th>\n",
       "      <td>bucks_mavs_nets_sixers</td>\n",
       "      <td>1319.430521</td>\n",
       "      <td>14.1943</td>\n",
       "      <td>0.0328</td>\n",
       "      <td>0.070451</td>\n",
       "      <td>0.4656</td>\n",
       "      <td>0.053</td>\n",
       "      <td>0.003734</td>\n",
       "    </tr>\n",
       "    <tr>\n",
       "      <th>9</th>\n",
       "      <td>bucks_mavs_nets_sixers</td>\n",
       "      <td>1319.430521</td>\n",
       "      <td>14.1943</td>\n",
       "      <td>0.0328</td>\n",
       "      <td>0.070451</td>\n",
       "      <td>0.4656</td>\n",
       "      <td>0.053</td>\n",
       "      <td>0.003734</td>\n",
       "    </tr>\n",
       "  </tbody>\n",
       "</table>\n",
       "</div>"
      ],
      "text/plain": [
       "                         event      ml_odds  dec_odds     bet  implied_prob  payout  profit  expected_value\n",
       "0       bucks_bucks_hawks_mavs  2674.595600   27.7460  0.0221      0.036041  0.6122   0.200        0.007208\n",
       "1   bucks_bucks_clippers_hawks  2149.878235   22.4988  0.0272      0.044447  0.6122   0.200        0.008889\n",
       "2      bucks_bucks_mavs_sixers  2122.151788   22.2215  0.0276      0.045001  0.6122   0.200        0.009000\n",
       "3  bucks_bucks_clippers_sixers  1701.909779   18.0191  0.0340      0.055497  0.6122   0.200        0.011099\n",
       "4        bucks_hawks_mavs_nets  1672.311729   17.7231  0.0345      0.056423  0.6122   0.200        0.011285\n",
       "5        bucks_hawks_mavs_nets  1672.311729   17.7231  0.0345      0.056423  0.6122   0.200        0.011285\n",
       "6    bucks_clippers_hawks_nets  1337.141176   14.3714  0.0333      0.069583  0.4785   0.066        0.004592\n",
       "7    bucks_clippers_hawks_nets  1337.141176   14.3714  0.0333      0.069583  0.4785   0.066        0.004592\n",
       "8       bucks_mavs_nets_sixers  1319.430521   14.1943  0.0328      0.070451  0.4656   0.053        0.003734\n",
       "9       bucks_mavs_nets_sixers  1319.430521   14.1943  0.0328      0.070451  0.4656   0.053        0.003734"
      ]
     },
     "execution_count": 56,
     "metadata": {},
     "output_type": "execute_result"
    }
   ],
   "source": [
    "pos_results = results.loc[results['profit'] > -0.005] \n",
    "pos_results"
   ]
  },
  {
   "cell_type": "code",
   "execution_count": 57,
   "metadata": {},
   "outputs": [
    {
     "data": {
      "text/plain": [
       "0.5738999544147744"
      ]
     },
     "execution_count": 57,
     "metadata": {},
     "output_type": "execute_result"
    }
   ],
   "source": [
    "pos_results['implied_prob'].sum()"
   ]
  },
  {
   "cell_type": "code",
   "execution_count": null,
   "metadata": {},
   "outputs": [],
   "source": []
  }
 ],
 "metadata": {
  "kernelspec": {
   "display_name": "Python 3",
   "language": "python",
   "name": "python3"
  },
  "language_info": {
   "codemirror_mode": {
    "name": "ipython",
    "version": 3
   },
   "file_extension": ".py",
   "mimetype": "text/x-python",
   "name": "python",
   "nbconvert_exporter": "python",
   "pygments_lexer": "ipython3",
   "version": "3.7.10"
  }
 },
 "nbformat": 4,
 "nbformat_minor": 1
}
