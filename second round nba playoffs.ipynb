{
 "cells": [
  {
   "cell_type": "code",
   "execution_count": 1,
   "metadata": {},
   "outputs": [],
   "source": [
    "import os\n",
    "import numpy as np"
   ]
  },
  {
   "cell_type": "code",
   "execution_count": 2,
   "metadata": {},
   "outputs": [],
   "source": [
    "from classes.money_line import MoneyLine\n",
    "from classes.parlay_system import ParlaySystem"
   ]
  },
  {
   "cell_type": "code",
   "execution_count": 3,
   "metadata": {
    "pycharm": {
     "name": "#%%\n"
    }
   },
   "outputs": [],
   "source": [
    "match_a_team_1 = MoneyLine(event=\"clippers\",\n",
    "                           bet_amount=100,\n",
    "                           money_line_odds=-265)\n",
    "# match_a_team_1.df_stats"
   ]
  },
  {
   "cell_type": "code",
   "execution_count": 4,
   "metadata": {
    "pycharm": {
     "name": "#%%\n"
    }
   },
   "outputs": [],
   "source": [
    "match_a_team_2 = MoneyLine(event=\"mavs\",\n",
    "                           bet_amount=100,\n",
    "                           money_line_odds=215)\n",
    "# match_a_team_2.df_stats"
   ]
  },
  {
   "cell_type": "code",
   "execution_count": 5,
   "metadata": {
    "pycharm": {
     "name": "#%%\n"
    }
   },
   "outputs": [],
   "source": [
    "match_b_team_1 = MoneyLine(event=\"nuggets\",\n",
    "                           bet_amount=100,\n",
    "                           money_line_odds=165)\n",
    "\n",
    "# match_b_team_1.df_stats"
   ]
  },
  {
   "cell_type": "code",
   "execution_count": 6,
   "metadata": {
    "pycharm": {
     "name": "#%%\n"
    }
   },
   "outputs": [],
   "source": [
    "match_b_team_2 = MoneyLine(event=\"suns\",\n",
    "                           bet_amount=100,\n",
    "                           money_line_odds=-200)\n",
    "\n",
    "# match_b_team_2.df_stats"
   ]
  },
  {
   "cell_type": "code",
   "execution_count": 7,
   "metadata": {
    "pycharm": {
     "name": "#%%\n"
    }
   },
   "outputs": [],
   "source": [
    "match_c_team_1 = MoneyLine(event=\"hawks\",\n",
    "                           bet_amount=100,\n",
    "                           money_line_odds=170)\n",
    "\n",
    "# match_c_team_1.df_stats"
   ]
  },
  {
   "cell_type": "code",
   "execution_count": 8,
   "metadata": {},
   "outputs": [],
   "source": [
    "match_c_team_2 = MoneyLine(event=\"sixers\",\n",
    "                           bet_amount=100,\n",
    "                           money_line_odds=-205)\n",
    "\n",
    "# match_c_team_2.df_stats"
   ]
  },
  {
   "cell_type": "code",
   "execution_count": 9,
   "metadata": {
    "pycharm": {
     "name": "#%%\n"
    }
   },
   "outputs": [],
   "source": [
    "binaries = [\n",
    "    [match_a_team_1, match_a_team_2],\n",
    "    [match_b_team_1, match_b_team_2],\n",
    "    [match_c_team_1, match_c_team_2]\n",
    "]"
   ]
  },
  {
   "cell_type": "code",
   "execution_count": 17,
   "metadata": {
    "pycharm": {
     "name": "#%%\n"
    }
   },
   "outputs": [
    {
     "name": "stdout",
     "output_type": "stream",
     "text": [
      "\n",
      "            constraints:\n",
      "            [{'type': 'ineq', 'fun': <function ParlaySystem.slsqp_solver.<locals>.<listcomp>.<lambda> at 0x1424fa950>}, {'type': 'ineq', 'fun': <function ParlaySystem.slsqp_solver.<locals>.<listcomp>.<lambda> at 0x1424fa9e0>}, {'type': 'ineq', 'fun': <function ParlaySystem.slsqp_solver.<locals>.<listcomp>.<lambda> at 0x1424faa70>}, {'type': 'ineq', 'fun': <function ParlaySystem.slsqp_solver.<locals>.<listcomp>.<lambda> at 0x1424fab00>}, {'type': 'ineq', 'fun': <function ParlaySystem.slsqp_solver.<locals>.<listcomp>.<lambda> at 0x1424fab90>}, {'type': 'ineq', 'fun': <function ParlaySystem.slsqp_solver.<locals>.<listcomp>.<lambda> at 0x1424fac20>}, {'type': 'ineq', 'fun': <function ParlaySystem.slsqp_solver.<locals>.<listcomp>.<lambda> at 0x1424facb0>}, {'type': 'ineq', 'fun': <function ParlaySystem.slsqp_solver.<locals>.<listcomp>.<lambda> at 0x1424fad40>}]\n",
      "        \n",
      "\n",
      "            final_val:\n",
      "                 fun: 0.0025560223289790717\n",
      "     jac: array([0.01696622, 0.01696622, 0.01696622, 0.01696622, 0.01696622,\n",
      "       0.01696622, 0.01696622, 0.01696622])\n",
      " message: 'Positive directional derivative for linesearch'\n",
      "    nfev: 197\n",
      "     nit: 19\n",
      "    njev: 15\n",
      "  status: 8\n",
      " success: False\n",
      "       x: array([0.01001203, 0.01768792, 0.01816937, 0.02289737, 0.02630499,\n",
      "       0.02300826, 0.02257368, 0.01      ])\n",
      "        \n",
      "\n",
      "            ['hawks_mavs_nuggets', 'hawks_mavs_suns', 'mavs_nuggets_sixers', 'clippers_hawks_nuggets', 'mavs_sixers_suns', 'clippers_hawks_suns', 'clippers_nuggets_sixers', 'clippers_sixers_suns']\n",
      "            [2153.8250000000003, 1175.75, 1141.9451219512196, 885.4999999999999, 602.9878048780487, 457.8301886792452, 443.04878048780483, 207.38610216290837]\n",
      "            [0.01, 0.0177, 0.0182, 0.0229, 0.0263, 0.023, 0.0226, 0.01]\n",
      "            [22.5382, 12.7575, 12.4195, 9.855, 7.0299, 5.5783, 5.4305, 3.0739]\n",
      "            [0.044369017115348346, 0.07838526357044875, 0.0805188556503125, 0.10147133434804669, 0.1422499783155521, 0.17926602401488248, 0.1841455198742421, 0.3253237517778277]\n",
      "            [0.2257, 0.2257, 0.2257, 0.2257, 0.1849, 0.1283, 0.1226, 0.0307]\n",
      "            [0.075, 0.075, 0.075, 0.075, 0.034, -0.022, -0.028, -0.12]\n",
      "        \n",
      "\n",
      "            Parlay system total bet 0.15:\n",
      "        \n"
     ]
    }
   ],
   "source": [
    "parlay_system = ParlaySystem(binaries=binaries,\n",
    "                             target_profit=0.075,\n",
    "                             bounds=(0.01, 50))\n",
    "\n",
    "results = parlay_system.slsqp_solver(profit_type='avg_implied_profit')\n",
    "# results = parlay_system.slsqp_solver(profit_type='avg_profit')"
   ]
  },
  {
   "cell_type": "code",
   "execution_count": 18,
   "metadata": {
    "pycharm": {
     "name": "#%%\n"
    }
   },
   "outputs": [],
   "source": [
    "results.head(10)\n",
    "results.to_csv('/Users/ramp/Desktop/projects/sports_book2/data/spread_betting.csv', header=True, index=False)\n",
    "\n",
    "# results_implied_profit.head(10)"
   ]
  },
  {
   "cell_type": "code",
   "execution_count": 19,
   "metadata": {
    "pycharm": {
     "name": "#%%\n"
    }
   },
   "outputs": [
    {
     "name": "stdout",
     "output_type": "stream",
     "text": [
      "\n",
      "    Total Bet Amount: 0.1507\n",
      "    Total Implied Probability: 1.1357297446666608\n",
      "    Average Profit: 0.0205\n",
      "\n"
     ]
    }
   ],
   "source": [
    "print(f'''\n",
    "    Total Bet Amount: {results['bet'].sum()}\n",
    "    Total Implied Probability: {results['implied_prob'].sum()}\n",
    "    Average Profit: {results['profit'].mean()}\n",
    "''')"
   ]
  },
  {
   "cell_type": "code",
   "execution_count": 20,
   "metadata": {
    "pycharm": {
     "name": "#%%\n"
    }
   },
   "outputs": [
    {
     "data": {
      "text/html": [
       "<div>\n",
       "<style scoped>\n",
       "    .dataframe tbody tr th:only-of-type {\n",
       "        vertical-align: middle;\n",
       "    }\n",
       "\n",
       "    .dataframe tbody tr th {\n",
       "        vertical-align: top;\n",
       "    }\n",
       "\n",
       "    .dataframe thead th {\n",
       "        text-align: right;\n",
       "    }\n",
       "</style>\n",
       "<table border=\"1\" class=\"dataframe\">\n",
       "  <thead>\n",
       "    <tr style=\"text-align: right;\">\n",
       "      <th></th>\n",
       "      <th>event</th>\n",
       "      <th>bet</th>\n",
       "      <th>dec_odds</th>\n",
       "      <th>implied_prob</th>\n",
       "      <th>payout</th>\n",
       "      <th>profit</th>\n",
       "      <th>expected_value</th>\n",
       "    </tr>\n",
       "  </thead>\n",
       "  <tbody>\n",
       "    <tr>\n",
       "      <th>0</th>\n",
       "      <td>hawks_mavs_nuggets</td>\n",
       "      <td>0.0100</td>\n",
       "      <td>22.5382</td>\n",
       "      <td>0.044369</td>\n",
       "      <td>0.2257</td>\n",
       "      <td>0.075</td>\n",
       "      <td>0.003328</td>\n",
       "    </tr>\n",
       "    <tr>\n",
       "      <th>1</th>\n",
       "      <td>hawks_mavs_suns</td>\n",
       "      <td>0.0177</td>\n",
       "      <td>12.7575</td>\n",
       "      <td>0.078385</td>\n",
       "      <td>0.2257</td>\n",
       "      <td>0.075</td>\n",
       "      <td>0.005879</td>\n",
       "    </tr>\n",
       "    <tr>\n",
       "      <th>2</th>\n",
       "      <td>mavs_nuggets_sixers</td>\n",
       "      <td>0.0182</td>\n",
       "      <td>12.4195</td>\n",
       "      <td>0.080519</td>\n",
       "      <td>0.2257</td>\n",
       "      <td>0.075</td>\n",
       "      <td>0.006039</td>\n",
       "    </tr>\n",
       "    <tr>\n",
       "      <th>3</th>\n",
       "      <td>clippers_hawks_nuggets</td>\n",
       "      <td>0.0229</td>\n",
       "      <td>9.8550</td>\n",
       "      <td>0.101471</td>\n",
       "      <td>0.2257</td>\n",
       "      <td>0.075</td>\n",
       "      <td>0.007610</td>\n",
       "    </tr>\n",
       "    <tr>\n",
       "      <th>4</th>\n",
       "      <td>mavs_sixers_suns</td>\n",
       "      <td>0.0263</td>\n",
       "      <td>7.0299</td>\n",
       "      <td>0.142250</td>\n",
       "      <td>0.1849</td>\n",
       "      <td>0.034</td>\n",
       "      <td>0.004836</td>\n",
       "    </tr>\n",
       "    <tr>\n",
       "      <th>5</th>\n",
       "      <td>clippers_hawks_suns</td>\n",
       "      <td>0.0230</td>\n",
       "      <td>5.5783</td>\n",
       "      <td>0.179266</td>\n",
       "      <td>0.1283</td>\n",
       "      <td>-0.022</td>\n",
       "      <td>-0.003944</td>\n",
       "    </tr>\n",
       "    <tr>\n",
       "      <th>6</th>\n",
       "      <td>clippers_nuggets_sixers</td>\n",
       "      <td>0.0226</td>\n",
       "      <td>5.4305</td>\n",
       "      <td>0.184146</td>\n",
       "      <td>0.1226</td>\n",
       "      <td>-0.028</td>\n",
       "      <td>-0.005156</td>\n",
       "    </tr>\n",
       "    <tr>\n",
       "      <th>7</th>\n",
       "      <td>clippers_sixers_suns</td>\n",
       "      <td>0.0100</td>\n",
       "      <td>3.0739</td>\n",
       "      <td>0.325324</td>\n",
       "      <td>0.0307</td>\n",
       "      <td>-0.120</td>\n",
       "      <td>-0.039039</td>\n",
       "    </tr>\n",
       "  </tbody>\n",
       "</table>\n",
       "</div>"
      ],
      "text/plain": [
       "                     event     bet  dec_odds  implied_prob  payout  profit  expected_value\n",
       "0       hawks_mavs_nuggets  0.0100   22.5382      0.044369  0.2257   0.075        0.003328\n",
       "1          hawks_mavs_suns  0.0177   12.7575      0.078385  0.2257   0.075        0.005879\n",
       "2      mavs_nuggets_sixers  0.0182   12.4195      0.080519  0.2257   0.075        0.006039\n",
       "3   clippers_hawks_nuggets  0.0229    9.8550      0.101471  0.2257   0.075        0.007610\n",
       "4         mavs_sixers_suns  0.0263    7.0299      0.142250  0.1849   0.034        0.004836\n",
       "5      clippers_hawks_suns  0.0230    5.5783      0.179266  0.1283  -0.022       -0.003944\n",
       "6  clippers_nuggets_sixers  0.0226    5.4305      0.184146  0.1226  -0.028       -0.005156\n",
       "7     clippers_sixers_suns  0.0100    3.0739      0.325324  0.0307  -0.120       -0.039039"
      ]
     },
     "execution_count": 20,
     "metadata": {},
     "output_type": "execute_result"
    }
   ],
   "source": [
    "results['expected_value'] = results['implied_prob'] * results['profit']\n",
    "results[['event', 'bet', 'dec_odds', 'implied_prob', 'payout','profit', 'expected_value']].head(10)"
   ]
  },
  {
   "cell_type": "code",
   "execution_count": 21,
   "metadata": {
    "pycharm": {
     "name": "#%%\n"
    }
   },
   "outputs": [
    {
     "name": "stdout",
     "output_type": "stream",
     "text": [
      "\n",
      "    Total Bet           : 0.1507\n",
      "    Total Expected value: -0.02044644273410502\n",
      "\n"
     ]
    }
   ],
   "source": [
    "\n",
    "print(f'''\n",
    "    Total Bet           : {results['bet'].sum()}\n",
    "    Total Expected value: {results['expected_value'].sum()}\n",
    "''')"
   ]
  },
  {
   "cell_type": "code",
   "execution_count": 22,
   "metadata": {
    "pycharm": {
     "name": "#%%\n"
    }
   },
   "outputs": [
    {
     "data": {
      "text/html": [
       "<div>\n",
       "<style scoped>\n",
       "    .dataframe tbody tr th:only-of-type {\n",
       "        vertical-align: middle;\n",
       "    }\n",
       "\n",
       "    .dataframe tbody tr th {\n",
       "        vertical-align: top;\n",
       "    }\n",
       "\n",
       "    .dataframe thead th {\n",
       "        text-align: right;\n",
       "    }\n",
       "</style>\n",
       "<table border=\"1\" class=\"dataframe\">\n",
       "  <thead>\n",
       "    <tr style=\"text-align: right;\">\n",
       "      <th></th>\n",
       "      <th>event</th>\n",
       "      <th>ml_odds</th>\n",
       "      <th>dec_odds</th>\n",
       "      <th>bet</th>\n",
       "      <th>implied_prob</th>\n",
       "      <th>payout</th>\n",
       "      <th>profit</th>\n",
       "      <th>expected_value</th>\n",
       "    </tr>\n",
       "  </thead>\n",
       "  <tbody>\n",
       "    <tr>\n",
       "      <th>0</th>\n",
       "      <td>hawks_mavs_nuggets</td>\n",
       "      <td>2153.825000</td>\n",
       "      <td>22.5382</td>\n",
       "      <td>0.0100</td>\n",
       "      <td>0.044369</td>\n",
       "      <td>0.2257</td>\n",
       "      <td>0.075</td>\n",
       "      <td>0.003328</td>\n",
       "    </tr>\n",
       "    <tr>\n",
       "      <th>1</th>\n",
       "      <td>hawks_mavs_suns</td>\n",
       "      <td>1175.750000</td>\n",
       "      <td>12.7575</td>\n",
       "      <td>0.0177</td>\n",
       "      <td>0.078385</td>\n",
       "      <td>0.2257</td>\n",
       "      <td>0.075</td>\n",
       "      <td>0.005879</td>\n",
       "    </tr>\n",
       "    <tr>\n",
       "      <th>2</th>\n",
       "      <td>mavs_nuggets_sixers</td>\n",
       "      <td>1141.945122</td>\n",
       "      <td>12.4195</td>\n",
       "      <td>0.0182</td>\n",
       "      <td>0.080519</td>\n",
       "      <td>0.2257</td>\n",
       "      <td>0.075</td>\n",
       "      <td>0.006039</td>\n",
       "    </tr>\n",
       "    <tr>\n",
       "      <th>3</th>\n",
       "      <td>clippers_hawks_nuggets</td>\n",
       "      <td>885.500000</td>\n",
       "      <td>9.8550</td>\n",
       "      <td>0.0229</td>\n",
       "      <td>0.101471</td>\n",
       "      <td>0.2257</td>\n",
       "      <td>0.075</td>\n",
       "      <td>0.007610</td>\n",
       "    </tr>\n",
       "    <tr>\n",
       "      <th>4</th>\n",
       "      <td>mavs_sixers_suns</td>\n",
       "      <td>602.987805</td>\n",
       "      <td>7.0299</td>\n",
       "      <td>0.0263</td>\n",
       "      <td>0.142250</td>\n",
       "      <td>0.1849</td>\n",
       "      <td>0.034</td>\n",
       "      <td>0.004836</td>\n",
       "    </tr>\n",
       "  </tbody>\n",
       "</table>\n",
       "</div>"
      ],
      "text/plain": [
       "                    event      ml_odds  dec_odds     bet  implied_prob  payout  profit  expected_value\n",
       "0      hawks_mavs_nuggets  2153.825000   22.5382  0.0100      0.044369  0.2257   0.075        0.003328\n",
       "1         hawks_mavs_suns  1175.750000   12.7575  0.0177      0.078385  0.2257   0.075        0.005879\n",
       "2     mavs_nuggets_sixers  1141.945122   12.4195  0.0182      0.080519  0.2257   0.075        0.006039\n",
       "3  clippers_hawks_nuggets   885.500000    9.8550  0.0229      0.101471  0.2257   0.075        0.007610\n",
       "4        mavs_sixers_suns   602.987805    7.0299  0.0263      0.142250  0.1849   0.034        0.004836"
      ]
     },
     "execution_count": 22,
     "metadata": {},
     "output_type": "execute_result"
    }
   ],
   "source": [
    "pos_results = results.loc[results['profit'] > -0.005] \n",
    "pos_results"
   ]
  },
  {
   "cell_type": "code",
   "execution_count": 23,
   "metadata": {},
   "outputs": [
    {
     "data": {
      "text/plain": [
       "0.4469944489997084"
      ]
     },
     "execution_count": 23,
     "metadata": {},
     "output_type": "execute_result"
    }
   ],
   "source": [
    "pos_results['implied_prob'].sum()"
   ]
  },
  {
   "cell_type": "code",
   "execution_count": null,
   "metadata": {},
   "outputs": [],
   "source": []
  }
 ],
 "metadata": {
  "kernelspec": {
   "display_name": "Python 3",
   "language": "python",
   "name": "python3"
  },
  "language_info": {
   "codemirror_mode": {
    "name": "ipython",
    "version": 3
   },
   "file_extension": ".py",
   "mimetype": "text/x-python",
   "name": "python",
   "nbconvert_exporter": "python",
   "pygments_lexer": "ipython3",
   "version": "3.7.10"
  }
 },
 "nbformat": 4,
 "nbformat_minor": 1
}
