{
 "cells": [
  {
   "cell_type": "code",
   "execution_count": 981,
   "source": [
    "import os\n",
    "import numpy as np"
   ],
   "outputs": [],
   "metadata": {}
  },
  {
   "cell_type": "code",
   "execution_count": 982,
   "source": [
    "from classes.money_line import MoneyLine\n",
    "from classes.parlay_system import ParlaySystem"
   ],
   "outputs": [],
   "metadata": {}
  },
  {
   "cell_type": "code",
   "execution_count": 983,
   "source": [
    "match_a_team_1 = MoneyLine(event=\"min\", \n",
    "                           bet_amount=100, \n",
    "                           money_line_odds=130)\n",
    "\n",
    "# match_a_team_1.update_money_line_odds(new_money_line_odds=(match_a_team_1.money_line_odds * 1.5)) \n",
    "# match_a_team_1.df_stats\n"
   ],
   "outputs": [],
   "metadata": {
    "pycharm": {
     "name": "#%%\n"
    }
   }
  },
  {
   "cell_type": "code",
   "execution_count": 984,
   "source": [
    "match_a_team_2 = MoneyLine(event=\"ny\",\n",
    "                           bet_amount=100,\n",
    "                           money_line_odds=-150)\n",
    "\n",
    "# match_a_team_2.update_money_line_odds(new_money_line_odds=(match_a_team_2.money_line_odds * 1.5)) \n",
    "# match_a_team_2.df_stats"
   ],
   "outputs": [],
   "metadata": {
    "pycharm": {
     "name": "#%%\n"
    }
   }
  },
  {
   "cell_type": "code",
   "execution_count": 985,
   "source": [
    "match_b_team_1 = MoneyLine(event=\"mia\",\n",
    "                           bet_amount=100,\n",
    "                           money_line_odds=110)\n",
    "\n",
    "# match_b_team_1.update_money_line_odds(new_money_line_odds=(match_b_team_1.money_line_odds * 1.5)) \n",
    "# match_b_team_1.df_stats\n"
   ],
   "outputs": [],
   "metadata": {
    "pycharm": {
     "name": "#%%\n"
    }
   }
  },
  {
   "cell_type": "code",
   "execution_count": 986,
   "source": [
    "match_b_team_2 = MoneyLine(event=\"was\",\n",
    "                           bet_amount=100,\n",
    "                           money_line_odds=-130)\n",
    "\n",
    "# match_b_team_2.update_money_line_odds(new_money_line_odds=(match_b_team_2.money_line_odds * 1.5)) \n",
    "# match_b_team_2.df_stats"
   ],
   "outputs": [],
   "metadata": {
    "pycharm": {
     "name": "#%%\n"
    }
   }
  },
  {
   "cell_type": "code",
   "execution_count": 987,
   "source": [
    "match_c_team_1 = MoneyLine(event=\"sd\",\n",
    "                           bet_amount=100,\n",
    "                           money_line_odds=-120)\n",
    "\n",
    "# match_c_team_1.update_money_line_odds(new_money_line_odds=(match_c_team_1.money_line_odds * 1.5)) \n",
    "# match_c_team_1.df_stats"
   ],
   "outputs": [],
   "metadata": {
    "pycharm": {
     "name": "#%%\n"
    }
   }
  },
  {
   "cell_type": "code",
   "execution_count": 988,
   "source": [
    "match_c_team_2 = MoneyLine(event=\"sixers\",\n",
    "                           bet_amount=100,\n",
    "                           money_line_odds=100)\n",
    "\n",
    "# match_c_team_2.update_money_line_odds(new_money_line_odds=(match_c_team_2.money_line_odds * 1.5)) \n",
    "# match_c_team_2.df_stats"
   ],
   "outputs": [],
   "metadata": {}
  },
  {
   "cell_type": "code",
   "execution_count": 989,
   "source": [
    "# for i in range(0, 8):\n",
    "#     print(i)"
   ],
   "outputs": [],
   "metadata": {}
  },
  {
   "cell_type": "code",
   "execution_count": 990,
   "source": [
    "binaries = [\n",
    "    [match_a_team_1, match_a_team_2],\n",
    "    [match_b_team_1, match_b_team_2],\n",
    "    [match_c_team_1, match_c_team_2]\n",
    "]"
   ],
   "outputs": [],
   "metadata": {
    "pycharm": {
     "name": "#%%\n"
    }
   }
  },
  {
   "cell_type": "code",
   "execution_count": 991,
   "source": [
    "parlay_system = ParlaySystem(binaries=binaries,\n",
    "                             target_profit=0.02,\n",
    "                             bounds=(0.01, 50),\n",
    "                             profit_boost_parlay=7, \n",
    "                             profit_boost_multiplier=1.5)\n",
    "\n",
    "results = parlay_system.slsqp_solver(profit_type='avg_implied_profit')\n",
    "# results = parlay_system.slsqp_solver(profit_type='avg_profit')"
   ],
   "outputs": [
    {
     "output_type": "stream",
     "name": "stdout",
     "text": [
      "\n",
      "            constraints:\n",
      "            [{'type': 'ineq', 'fun': <function ParlaySystem.slsqp_solver.<locals>.<listcomp>.<lambda> at 0x13f278c20>}, {'type': 'ineq', 'fun': <function ParlaySystem.slsqp_solver.<locals>.<listcomp>.<lambda> at 0x13f2784d0>}, {'type': 'ineq', 'fun': <function ParlaySystem.slsqp_solver.<locals>.<listcomp>.<lambda> at 0x13f2783b0>}, {'type': 'ineq', 'fun': <function ParlaySystem.slsqp_solver.<locals>.<listcomp>.<lambda> at 0x13f2788c0>}, {'type': 'ineq', 'fun': <function ParlaySystem.slsqp_solver.<locals>.<listcomp>.<lambda> at 0x13f278200>}, {'type': 'ineq', 'fun': <function ParlaySystem.slsqp_solver.<locals>.<listcomp>.<lambda> at 0x13f278b00>}, {'type': 'ineq', 'fun': <function ParlaySystem.slsqp_solver.<locals>.<listcomp>.<lambda> at 0x13f278e60>}, {'type': 'ineq', 'fun': <function ParlaySystem.slsqp_solver.<locals>.<listcomp>.<lambda> at 0x13f2780e0>}]\n",
      "        \n",
      "\n",
      "            final_val:\n",
      "                 fun: 0.0011326767832415567\n",
      "     jac: array([0.00960805, 0.00960805, 0.00960805, 0.00960805, 0.00960805,\n",
      "       0.00960805, 0.00960805, 0.00960805])\n",
      " message: 'Positive directional derivative for linesearch'\n",
      "    nfev: 163\n",
      "     nit: 15\n",
      "    njev: 11\n",
      "  status: 8\n",
      " success: False\n",
      "       x: array([0.01427415, 0.01557179, 0.01652117, 0.01694277, 0.01607692,\n",
      "       0.01502544, 0.01347604, 0.01      ])\n",
      "        \n",
      "\n",
      "            ['mia_min_sixers', 'mia_min_sd', 'ny_sixers_was', 'min_sixers_was', 'min_sd_was', 'mia_ny_sixers', 'mia_ny_sd', 'ny_sd_was']\n",
      "            [866.0, 785.5, 734.6153846153845, 713.8461538461538, 646.025641025641, 600.0, 541.6666666666667, 440.59829059829065]\n",
      "            [0.0143, 0.0156, 0.0165, 0.0169, 0.0161, 0.015, 0.0135, 0.01]\n",
      "            [9.66, 8.855, 8.3462, 8.1385, 7.4603, 7.0, 6.4167, 5.406]\n",
      "            [0.10351966873706005, 0.11293054771315642, 0.11981566820276499, 0.1228733459357278, 0.13404365011170305, 0.14285714285714285, 0.1558441558441558, 0.18498023715415018]\n",
      "            [0.1379, 0.1379, 0.1379, 0.1379, 0.1199, 0.1052, 0.0865, 0.0541]\n",
      "            [0, 0, 1, 0, 0, 0, 0, 0]\n",
      "            [0.02, 0.02, 0.02, 0.02, 0.002, -0.013, -0.031, -0.064]\n",
      "        \n",
      "\n",
      "            Parlay system total bet 0.12:\n",
      "        \n"
     ]
    }
   ],
   "metadata": {
    "pycharm": {
     "name": "#%%\n"
    }
   }
  },
  {
   "cell_type": "code",
   "execution_count": 992,
   "source": [
    "results\n",
    "# results_implied_profit.head(10)"
   ],
   "outputs": [
    {
     "output_type": "execute_result",
     "data": {
      "text/html": [
       "<div>\n",
       "<style scoped>\n",
       "    .dataframe tbody tr th:only-of-type {\n",
       "        vertical-align: middle;\n",
       "    }\n",
       "\n",
       "    .dataframe tbody tr th {\n",
       "        vertical-align: top;\n",
       "    }\n",
       "\n",
       "    .dataframe thead th {\n",
       "        text-align: right;\n",
       "    }\n",
       "</style>\n",
       "<table border=\"1\" class=\"dataframe\">\n",
       "  <thead>\n",
       "    <tr style=\"text-align: right;\">\n",
       "      <th></th>\n",
       "      <th>event</th>\n",
       "      <th>ml_odds</th>\n",
       "      <th>dec_odds</th>\n",
       "      <th>bet</th>\n",
       "      <th>implied_prob</th>\n",
       "      <th>payout</th>\n",
       "      <th>override</th>\n",
       "      <th>profit</th>\n",
       "    </tr>\n",
       "  </thead>\n",
       "  <tbody>\n",
       "    <tr>\n",
       "      <th>0</th>\n",
       "      <td>mia_min_sixers</td>\n",
       "      <td>866.000000</td>\n",
       "      <td>9.6600</td>\n",
       "      <td>0.0143</td>\n",
       "      <td>0.103520</td>\n",
       "      <td>0.1379</td>\n",
       "      <td>0</td>\n",
       "      <td>0.020</td>\n",
       "    </tr>\n",
       "    <tr>\n",
       "      <th>1</th>\n",
       "      <td>mia_min_sd</td>\n",
       "      <td>785.500000</td>\n",
       "      <td>8.8550</td>\n",
       "      <td>0.0156</td>\n",
       "      <td>0.112931</td>\n",
       "      <td>0.1379</td>\n",
       "      <td>0</td>\n",
       "      <td>0.020</td>\n",
       "    </tr>\n",
       "    <tr>\n",
       "      <th>2</th>\n",
       "      <td>ny_sixers_was</td>\n",
       "      <td>734.615385</td>\n",
       "      <td>8.3462</td>\n",
       "      <td>0.0165</td>\n",
       "      <td>0.119816</td>\n",
       "      <td>0.1379</td>\n",
       "      <td>1</td>\n",
       "      <td>0.020</td>\n",
       "    </tr>\n",
       "    <tr>\n",
       "      <th>3</th>\n",
       "      <td>min_sixers_was</td>\n",
       "      <td>713.846154</td>\n",
       "      <td>8.1385</td>\n",
       "      <td>0.0169</td>\n",
       "      <td>0.122873</td>\n",
       "      <td>0.1379</td>\n",
       "      <td>0</td>\n",
       "      <td>0.020</td>\n",
       "    </tr>\n",
       "    <tr>\n",
       "      <th>4</th>\n",
       "      <td>min_sd_was</td>\n",
       "      <td>646.025641</td>\n",
       "      <td>7.4603</td>\n",
       "      <td>0.0161</td>\n",
       "      <td>0.134044</td>\n",
       "      <td>0.1199</td>\n",
       "      <td>0</td>\n",
       "      <td>0.002</td>\n",
       "    </tr>\n",
       "    <tr>\n",
       "      <th>5</th>\n",
       "      <td>mia_ny_sixers</td>\n",
       "      <td>600.000000</td>\n",
       "      <td>7.0000</td>\n",
       "      <td>0.0150</td>\n",
       "      <td>0.142857</td>\n",
       "      <td>0.1052</td>\n",
       "      <td>0</td>\n",
       "      <td>-0.013</td>\n",
       "    </tr>\n",
       "    <tr>\n",
       "      <th>6</th>\n",
       "      <td>mia_ny_sd</td>\n",
       "      <td>541.666667</td>\n",
       "      <td>6.4167</td>\n",
       "      <td>0.0135</td>\n",
       "      <td>0.155844</td>\n",
       "      <td>0.0865</td>\n",
       "      <td>0</td>\n",
       "      <td>-0.031</td>\n",
       "    </tr>\n",
       "    <tr>\n",
       "      <th>7</th>\n",
       "      <td>ny_sd_was</td>\n",
       "      <td>440.598291</td>\n",
       "      <td>5.4060</td>\n",
       "      <td>0.0100</td>\n",
       "      <td>0.184980</td>\n",
       "      <td>0.0541</td>\n",
       "      <td>0</td>\n",
       "      <td>-0.064</td>\n",
       "    </tr>\n",
       "  </tbody>\n",
       "</table>\n",
       "</div>"
      ],
      "text/plain": [
       "            event     ml_odds  dec_odds     bet  implied_prob  payout  override  profit\n",
       "0  mia_min_sixers  866.000000    9.6600  0.0143      0.103520  0.1379         0   0.020\n",
       "1      mia_min_sd  785.500000    8.8550  0.0156      0.112931  0.1379         0   0.020\n",
       "2   ny_sixers_was  734.615385    8.3462  0.0165      0.119816  0.1379         1   0.020\n",
       "3  min_sixers_was  713.846154    8.1385  0.0169      0.122873  0.1379         0   0.020\n",
       "4      min_sd_was  646.025641    7.4603  0.0161      0.134044  0.1199         0   0.002\n",
       "5   mia_ny_sixers  600.000000    7.0000  0.0150      0.142857  0.1052         0  -0.013\n",
       "6       mia_ny_sd  541.666667    6.4167  0.0135      0.155844  0.0865         0  -0.031\n",
       "7       ny_sd_was  440.598291    5.4060  0.0100      0.184980  0.0541         0  -0.064"
      ]
     },
     "metadata": {},
     "execution_count": 992
    }
   ],
   "metadata": {
    "pycharm": {
     "name": "#%%\n"
    }
   }
  },
  {
   "cell_type": "code",
   "execution_count": 993,
   "source": [
    "print(f'''\n",
    "    Total Bet Amount: {results['bet'].sum()}\n",
    "    Total Implied Probability: {results['implied_prob'].sum()}\n",
    "    Average Profit: {results['profit'].mean()}\n",
    "''')"
   ],
   "outputs": [
    {
     "output_type": "stream",
     "name": "stdout",
     "text": [
      "\n",
      "    Total Bet Amount: 0.11789999999999999\n",
      "    Total Implied Probability: 1.0768644165558612\n",
      "    Average Profit: -0.0032499999999999994\n",
      "\n"
     ]
    }
   ],
   "metadata": {
    "pycharm": {
     "name": "#%%\n"
    }
   }
  },
  {
   "cell_type": "code",
   "execution_count": 994,
   "source": [
    "results['expected_value'] = results['implied_prob'] * results['profit']\n",
    "results[['event', 'bet', 'dec_odds', 'implied_prob', 'payout','profit', 'override', 'expected_value']].head(10)"
   ],
   "outputs": [
    {
     "output_type": "execute_result",
     "data": {
      "text/html": [
       "<div>\n",
       "<style scoped>\n",
       "    .dataframe tbody tr th:only-of-type {\n",
       "        vertical-align: middle;\n",
       "    }\n",
       "\n",
       "    .dataframe tbody tr th {\n",
       "        vertical-align: top;\n",
       "    }\n",
       "\n",
       "    .dataframe thead th {\n",
       "        text-align: right;\n",
       "    }\n",
       "</style>\n",
       "<table border=\"1\" class=\"dataframe\">\n",
       "  <thead>\n",
       "    <tr style=\"text-align: right;\">\n",
       "      <th></th>\n",
       "      <th>event</th>\n",
       "      <th>bet</th>\n",
       "      <th>dec_odds</th>\n",
       "      <th>implied_prob</th>\n",
       "      <th>payout</th>\n",
       "      <th>profit</th>\n",
       "      <th>override</th>\n",
       "      <th>expected_value</th>\n",
       "    </tr>\n",
       "  </thead>\n",
       "  <tbody>\n",
       "    <tr>\n",
       "      <th>0</th>\n",
       "      <td>mia_min_sixers</td>\n",
       "      <td>0.0143</td>\n",
       "      <td>9.6600</td>\n",
       "      <td>0.103520</td>\n",
       "      <td>0.1379</td>\n",
       "      <td>0.020</td>\n",
       "      <td>0</td>\n",
       "      <td>0.002070</td>\n",
       "    </tr>\n",
       "    <tr>\n",
       "      <th>1</th>\n",
       "      <td>mia_min_sd</td>\n",
       "      <td>0.0156</td>\n",
       "      <td>8.8550</td>\n",
       "      <td>0.112931</td>\n",
       "      <td>0.1379</td>\n",
       "      <td>0.020</td>\n",
       "      <td>0</td>\n",
       "      <td>0.002259</td>\n",
       "    </tr>\n",
       "    <tr>\n",
       "      <th>2</th>\n",
       "      <td>ny_sixers_was</td>\n",
       "      <td>0.0165</td>\n",
       "      <td>8.3462</td>\n",
       "      <td>0.119816</td>\n",
       "      <td>0.1379</td>\n",
       "      <td>0.020</td>\n",
       "      <td>1</td>\n",
       "      <td>0.002396</td>\n",
       "    </tr>\n",
       "    <tr>\n",
       "      <th>3</th>\n",
       "      <td>min_sixers_was</td>\n",
       "      <td>0.0169</td>\n",
       "      <td>8.1385</td>\n",
       "      <td>0.122873</td>\n",
       "      <td>0.1379</td>\n",
       "      <td>0.020</td>\n",
       "      <td>0</td>\n",
       "      <td>0.002457</td>\n",
       "    </tr>\n",
       "    <tr>\n",
       "      <th>4</th>\n",
       "      <td>min_sd_was</td>\n",
       "      <td>0.0161</td>\n",
       "      <td>7.4603</td>\n",
       "      <td>0.134044</td>\n",
       "      <td>0.1199</td>\n",
       "      <td>0.002</td>\n",
       "      <td>0</td>\n",
       "      <td>0.000268</td>\n",
       "    </tr>\n",
       "    <tr>\n",
       "      <th>5</th>\n",
       "      <td>mia_ny_sixers</td>\n",
       "      <td>0.0150</td>\n",
       "      <td>7.0000</td>\n",
       "      <td>0.142857</td>\n",
       "      <td>0.1052</td>\n",
       "      <td>-0.013</td>\n",
       "      <td>0</td>\n",
       "      <td>-0.001857</td>\n",
       "    </tr>\n",
       "    <tr>\n",
       "      <th>6</th>\n",
       "      <td>mia_ny_sd</td>\n",
       "      <td>0.0135</td>\n",
       "      <td>6.4167</td>\n",
       "      <td>0.155844</td>\n",
       "      <td>0.0865</td>\n",
       "      <td>-0.031</td>\n",
       "      <td>0</td>\n",
       "      <td>-0.004831</td>\n",
       "    </tr>\n",
       "    <tr>\n",
       "      <th>7</th>\n",
       "      <td>ny_sd_was</td>\n",
       "      <td>0.0100</td>\n",
       "      <td>5.4060</td>\n",
       "      <td>0.184980</td>\n",
       "      <td>0.0541</td>\n",
       "      <td>-0.064</td>\n",
       "      <td>0</td>\n",
       "      <td>-0.011839</td>\n",
       "    </tr>\n",
       "  </tbody>\n",
       "</table>\n",
       "</div>"
      ],
      "text/plain": [
       "            event     bet  dec_odds  implied_prob  payout  profit  override  expected_value\n",
       "0  mia_min_sixers  0.0143    9.6600      0.103520  0.1379   0.020         0        0.002070\n",
       "1      mia_min_sd  0.0156    8.8550      0.112931  0.1379   0.020         0        0.002259\n",
       "2   ny_sixers_was  0.0165    8.3462      0.119816  0.1379   0.020         1        0.002396\n",
       "3  min_sixers_was  0.0169    8.1385      0.122873  0.1379   0.020         0        0.002457\n",
       "4      min_sd_was  0.0161    7.4603      0.134044  0.1199   0.002         0        0.000268\n",
       "5   mia_ny_sixers  0.0150    7.0000      0.142857  0.1052  -0.013         0       -0.001857\n",
       "6       mia_ny_sd  0.0135    6.4167      0.155844  0.0865  -0.031         0       -0.004831\n",
       "7       ny_sd_was  0.0100    5.4060      0.184980  0.0541  -0.064         0       -0.011839"
      ]
     },
     "metadata": {},
     "execution_count": 994
    }
   ],
   "metadata": {
    "pycharm": {
     "name": "#%%\n"
    }
   }
  },
  {
   "cell_type": "code",
   "execution_count": 995,
   "source": [
    "overridden_result_df = results.loc[results['override'] == 1] \n",
    "overridden_result = overridden_result_df['event'].to_string(index=False)\n",
    "overridden_result"
   ],
   "outputs": [
    {
     "output_type": "execute_result",
     "data": {
      "text/plain": [
       "'ny_sixers_was'"
      ]
     },
     "metadata": {},
     "execution_count": 995
    }
   ],
   "metadata": {}
  },
  {
   "cell_type": "code",
   "execution_count": 996,
   "source": [
    "results.to_csv(f'/Users/ramp/Desktop/projects/sports_book2/data/{overridden_result}_mlb_profit_boost.csv', header=True, index=False)\n"
   ],
   "outputs": [],
   "metadata": {}
  },
  {
   "cell_type": "code",
   "execution_count": 997,
   "source": [
    "\n",
    "print(f'''\n",
    "    Total Bet           : {results['bet'].sum()}\n",
    "    Total Expected value: {results['expected_value'].sum()}\n",
    "''')"
   ],
   "outputs": [
    {
     "output_type": "stream",
     "name": "stdout",
     "text": [
      "\n",
      "    Total Bet           : 0.11789999999999999\n",
      "    Total Expected value: -0.009076174954179707\n",
      "\n"
     ]
    }
   ],
   "metadata": {
    "pycharm": {
     "name": "#%%\n"
    }
   }
  },
  {
   "cell_type": "code",
   "execution_count": 998,
   "source": [
    "all_results = results.loc[results['profit'] != 0.000000000] \n",
    "all_results"
   ],
   "outputs": [
    {
     "output_type": "execute_result",
     "data": {
      "text/html": [
       "<div>\n",
       "<style scoped>\n",
       "    .dataframe tbody tr th:only-of-type {\n",
       "        vertical-align: middle;\n",
       "    }\n",
       "\n",
       "    .dataframe tbody tr th {\n",
       "        vertical-align: top;\n",
       "    }\n",
       "\n",
       "    .dataframe thead th {\n",
       "        text-align: right;\n",
       "    }\n",
       "</style>\n",
       "<table border=\"1\" class=\"dataframe\">\n",
       "  <thead>\n",
       "    <tr style=\"text-align: right;\">\n",
       "      <th></th>\n",
       "      <th>event</th>\n",
       "      <th>ml_odds</th>\n",
       "      <th>dec_odds</th>\n",
       "      <th>bet</th>\n",
       "      <th>implied_prob</th>\n",
       "      <th>payout</th>\n",
       "      <th>override</th>\n",
       "      <th>profit</th>\n",
       "      <th>expected_value</th>\n",
       "    </tr>\n",
       "  </thead>\n",
       "  <tbody>\n",
       "    <tr>\n",
       "      <th>0</th>\n",
       "      <td>mia_min_sixers</td>\n",
       "      <td>866.000000</td>\n",
       "      <td>9.6600</td>\n",
       "      <td>0.0143</td>\n",
       "      <td>0.103520</td>\n",
       "      <td>0.1379</td>\n",
       "      <td>0</td>\n",
       "      <td>0.020</td>\n",
       "      <td>0.002070</td>\n",
       "    </tr>\n",
       "    <tr>\n",
       "      <th>1</th>\n",
       "      <td>mia_min_sd</td>\n",
       "      <td>785.500000</td>\n",
       "      <td>8.8550</td>\n",
       "      <td>0.0156</td>\n",
       "      <td>0.112931</td>\n",
       "      <td>0.1379</td>\n",
       "      <td>0</td>\n",
       "      <td>0.020</td>\n",
       "      <td>0.002259</td>\n",
       "    </tr>\n",
       "    <tr>\n",
       "      <th>2</th>\n",
       "      <td>ny_sixers_was</td>\n",
       "      <td>734.615385</td>\n",
       "      <td>8.3462</td>\n",
       "      <td>0.0165</td>\n",
       "      <td>0.119816</td>\n",
       "      <td>0.1379</td>\n",
       "      <td>1</td>\n",
       "      <td>0.020</td>\n",
       "      <td>0.002396</td>\n",
       "    </tr>\n",
       "    <tr>\n",
       "      <th>3</th>\n",
       "      <td>min_sixers_was</td>\n",
       "      <td>713.846154</td>\n",
       "      <td>8.1385</td>\n",
       "      <td>0.0169</td>\n",
       "      <td>0.122873</td>\n",
       "      <td>0.1379</td>\n",
       "      <td>0</td>\n",
       "      <td>0.020</td>\n",
       "      <td>0.002457</td>\n",
       "    </tr>\n",
       "    <tr>\n",
       "      <th>4</th>\n",
       "      <td>min_sd_was</td>\n",
       "      <td>646.025641</td>\n",
       "      <td>7.4603</td>\n",
       "      <td>0.0161</td>\n",
       "      <td>0.134044</td>\n",
       "      <td>0.1199</td>\n",
       "      <td>0</td>\n",
       "      <td>0.002</td>\n",
       "      <td>0.000268</td>\n",
       "    </tr>\n",
       "    <tr>\n",
       "      <th>5</th>\n",
       "      <td>mia_ny_sixers</td>\n",
       "      <td>600.000000</td>\n",
       "      <td>7.0000</td>\n",
       "      <td>0.0150</td>\n",
       "      <td>0.142857</td>\n",
       "      <td>0.1052</td>\n",
       "      <td>0</td>\n",
       "      <td>-0.013</td>\n",
       "      <td>-0.001857</td>\n",
       "    </tr>\n",
       "    <tr>\n",
       "      <th>6</th>\n",
       "      <td>mia_ny_sd</td>\n",
       "      <td>541.666667</td>\n",
       "      <td>6.4167</td>\n",
       "      <td>0.0135</td>\n",
       "      <td>0.155844</td>\n",
       "      <td>0.0865</td>\n",
       "      <td>0</td>\n",
       "      <td>-0.031</td>\n",
       "      <td>-0.004831</td>\n",
       "    </tr>\n",
       "    <tr>\n",
       "      <th>7</th>\n",
       "      <td>ny_sd_was</td>\n",
       "      <td>440.598291</td>\n",
       "      <td>5.4060</td>\n",
       "      <td>0.0100</td>\n",
       "      <td>0.184980</td>\n",
       "      <td>0.0541</td>\n",
       "      <td>0</td>\n",
       "      <td>-0.064</td>\n",
       "      <td>-0.011839</td>\n",
       "    </tr>\n",
       "  </tbody>\n",
       "</table>\n",
       "</div>"
      ],
      "text/plain": [
       "            event     ml_odds  dec_odds     bet  implied_prob  payout  override  profit  expected_value\n",
       "0  mia_min_sixers  866.000000    9.6600  0.0143      0.103520  0.1379         0   0.020        0.002070\n",
       "1      mia_min_sd  785.500000    8.8550  0.0156      0.112931  0.1379         0   0.020        0.002259\n",
       "2   ny_sixers_was  734.615385    8.3462  0.0165      0.119816  0.1379         1   0.020        0.002396\n",
       "3  min_sixers_was  713.846154    8.1385  0.0169      0.122873  0.1379         0   0.020        0.002457\n",
       "4      min_sd_was  646.025641    7.4603  0.0161      0.134044  0.1199         0   0.002        0.000268\n",
       "5   mia_ny_sixers  600.000000    7.0000  0.0150      0.142857  0.1052         0  -0.013       -0.001857\n",
       "6       mia_ny_sd  541.666667    6.4167  0.0135      0.155844  0.0865         0  -0.031       -0.004831\n",
       "7       ny_sd_was  440.598291    5.4060  0.0100      0.184980  0.0541         0  -0.064       -0.011839"
      ]
     },
     "metadata": {},
     "execution_count": 998
    }
   ],
   "metadata": {}
  },
  {
   "cell_type": "code",
   "execution_count": 999,
   "source": [
    "pos_results = results.loc[results['profit'] > -0.005] \n",
    "pos_results"
   ],
   "outputs": [
    {
     "output_type": "execute_result",
     "data": {
      "text/html": [
       "<div>\n",
       "<style scoped>\n",
       "    .dataframe tbody tr th:only-of-type {\n",
       "        vertical-align: middle;\n",
       "    }\n",
       "\n",
       "    .dataframe tbody tr th {\n",
       "        vertical-align: top;\n",
       "    }\n",
       "\n",
       "    .dataframe thead th {\n",
       "        text-align: right;\n",
       "    }\n",
       "</style>\n",
       "<table border=\"1\" class=\"dataframe\">\n",
       "  <thead>\n",
       "    <tr style=\"text-align: right;\">\n",
       "      <th></th>\n",
       "      <th>event</th>\n",
       "      <th>ml_odds</th>\n",
       "      <th>dec_odds</th>\n",
       "      <th>bet</th>\n",
       "      <th>implied_prob</th>\n",
       "      <th>payout</th>\n",
       "      <th>override</th>\n",
       "      <th>profit</th>\n",
       "      <th>expected_value</th>\n",
       "    </tr>\n",
       "  </thead>\n",
       "  <tbody>\n",
       "    <tr>\n",
       "      <th>0</th>\n",
       "      <td>mia_min_sixers</td>\n",
       "      <td>866.000000</td>\n",
       "      <td>9.6600</td>\n",
       "      <td>0.0143</td>\n",
       "      <td>0.103520</td>\n",
       "      <td>0.1379</td>\n",
       "      <td>0</td>\n",
       "      <td>0.020</td>\n",
       "      <td>0.002070</td>\n",
       "    </tr>\n",
       "    <tr>\n",
       "      <th>1</th>\n",
       "      <td>mia_min_sd</td>\n",
       "      <td>785.500000</td>\n",
       "      <td>8.8550</td>\n",
       "      <td>0.0156</td>\n",
       "      <td>0.112931</td>\n",
       "      <td>0.1379</td>\n",
       "      <td>0</td>\n",
       "      <td>0.020</td>\n",
       "      <td>0.002259</td>\n",
       "    </tr>\n",
       "    <tr>\n",
       "      <th>2</th>\n",
       "      <td>ny_sixers_was</td>\n",
       "      <td>734.615385</td>\n",
       "      <td>8.3462</td>\n",
       "      <td>0.0165</td>\n",
       "      <td>0.119816</td>\n",
       "      <td>0.1379</td>\n",
       "      <td>1</td>\n",
       "      <td>0.020</td>\n",
       "      <td>0.002396</td>\n",
       "    </tr>\n",
       "    <tr>\n",
       "      <th>3</th>\n",
       "      <td>min_sixers_was</td>\n",
       "      <td>713.846154</td>\n",
       "      <td>8.1385</td>\n",
       "      <td>0.0169</td>\n",
       "      <td>0.122873</td>\n",
       "      <td>0.1379</td>\n",
       "      <td>0</td>\n",
       "      <td>0.020</td>\n",
       "      <td>0.002457</td>\n",
       "    </tr>\n",
       "    <tr>\n",
       "      <th>4</th>\n",
       "      <td>min_sd_was</td>\n",
       "      <td>646.025641</td>\n",
       "      <td>7.4603</td>\n",
       "      <td>0.0161</td>\n",
       "      <td>0.134044</td>\n",
       "      <td>0.1199</td>\n",
       "      <td>0</td>\n",
       "      <td>0.002</td>\n",
       "      <td>0.000268</td>\n",
       "    </tr>\n",
       "  </tbody>\n",
       "</table>\n",
       "</div>"
      ],
      "text/plain": [
       "            event     ml_odds  dec_odds     bet  implied_prob  payout  override  profit  expected_value\n",
       "0  mia_min_sixers  866.000000    9.6600  0.0143      0.103520  0.1379         0   0.020        0.002070\n",
       "1      mia_min_sd  785.500000    8.8550  0.0156      0.112931  0.1379         0   0.020        0.002259\n",
       "2   ny_sixers_was  734.615385    8.3462  0.0165      0.119816  0.1379         1   0.020        0.002396\n",
       "3  min_sixers_was  713.846154    8.1385  0.0169      0.122873  0.1379         0   0.020        0.002457\n",
       "4      min_sd_was  646.025641    7.4603  0.0161      0.134044  0.1199         0   0.002        0.000268"
      ]
     },
     "metadata": {},
     "execution_count": 999
    }
   ],
   "metadata": {
    "pycharm": {
     "name": "#%%\n"
    }
   }
  },
  {
   "cell_type": "code",
   "execution_count": 1000,
   "source": [
    "pos_results['implied_prob'].sum()"
   ],
   "outputs": [
    {
     "output_type": "execute_result",
     "data": {
      "text/plain": [
       "0.5931828807004123"
      ]
     },
     "metadata": {},
     "execution_count": 1000
    }
   ],
   "metadata": {}
  },
  {
   "cell_type": "code",
   "execution_count": null,
   "source": [],
   "outputs": [],
   "metadata": {}
  }
 ],
 "metadata": {
  "kernelspec": {
   "name": "python3",
   "display_name": "Python 3.7.10 64-bit ('sports_book2-XNYDZ0u0': pipenv)"
  },
  "language_info": {
   "codemirror_mode": {
    "name": "ipython",
    "version": 3
   },
   "file_extension": ".py",
   "mimetype": "text/x-python",
   "name": "python",
   "nbconvert_exporter": "python",
   "pygments_lexer": "ipython3",
   "version": "3.7.10"
  },
  "interpreter": {
   "hash": "7f2eb1d2e80d0edcbfffa5e6e7b1da9cf64b46c836d91354f7bbc5d93327dc81"
  }
 },
 "nbformat": 4,
 "nbformat_minor": 1
}