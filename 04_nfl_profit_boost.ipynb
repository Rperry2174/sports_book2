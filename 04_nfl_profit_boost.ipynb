{
 "cells": [
  {
   "cell_type": "code",
   "execution_count": 34,
   "metadata": {},
   "outputs": [],
   "source": [
    "import os\n",
    "import numpy as np\n"
   ]
  },
  {
   "cell_type": "code",
   "execution_count": 35,
   "metadata": {},
   "outputs": [],
   "source": [
    "from classes.money_line import MoneyLine\n",
    "from classes.parlay_system import ParlaySystem"
   ]
  },
  {
   "cell_type": "code",
   "execution_count": 36,
   "metadata": {
    "pycharm": {
     "name": "#%%\n"
    }
   },
   "outputs": [],
   "source": [
    "match_a_team_1 = MoneyLine(event=\"KC\", \n",
    "                           bet_amount=100, \n",
    "                        #    money_line_odds=100) # with profit boost\n",
    "                           money_line_odds=-550) \n",
    "\n",
    "# match_a_team_1.df_stats\n"
   ]
  },
  {
   "cell_type": "code",
   "execution_count": 37,
   "metadata": {
    "pycharm": {
     "name": "#%%\n"
    }
   },
   "outputs": [],
   "source": [
    "match_a_team_2 = MoneyLine(event=\"ny\",\n",
    "                           bet_amount=100,\n",
    "                           money_line_odds=400)\n",
    "# match_a_team_2.df_stats"
   ]
  },
  {
   "cell_type": "code",
   "execution_count": 38,
   "metadata": {
    "pycharm": {
     "name": "#%%\n"
    }
   },
   "outputs": [],
   "source": [
    "match_b_team_1 = MoneyLine(event=\"pats\",\n",
    "                           bet_amount=100,\n",
    "                           money_line_odds=-190)\n",
    "\n",
    "# match_b_team_1.df_stats\n"
   ]
  },
  {
   "cell_type": "code",
   "execution_count": 39,
   "metadata": {
    "pycharm": {
     "name": "#%%\n"
    }
   },
   "outputs": [],
   "source": [
    "match_b_team_2 = MoneyLine(event=\"panthers\",\n",
    "                           bet_amount=100,\n",
    "                           money_line_odds=160)\n",
    "\n",
    "# match_b_team_2.df_stats"
   ]
  },
  {
   "cell_type": "code",
   "execution_count": 40,
   "metadata": {
    "pycharm": {
     "name": "#%%\n"
    }
   },
   "outputs": [],
   "source": [
    "match_c_team_1 = MoneyLine(event=\"ATL\",\n",
    "                           bet_amount=100,\n",
    "                           money_line_odds=215)\n",
    "\n",
    "# match_c_team_1.df_stats"
   ]
  },
  {
   "cell_type": "code",
   "execution_count": 41,
   "metadata": {},
   "outputs": [],
   "source": [
    "match_c_team_2 = MoneyLine(event=\"saints\",\n",
    "                           bet_amount=100,\n",
    "                           money_line_odds=-265)\n",
    "\n",
    "# match_c_team_2.df_stats"
   ]
  },
  {
   "cell_type": "code",
   "execution_count": 42,
   "metadata": {
    "pycharm": {
     "name": "#%%\n"
    }
   },
   "outputs": [],
   "source": [
    "binaries = [\n",
    "    [match_a_team_1, match_a_team_2],\n",
    "    [match_b_team_1, match_b_team_2],\n",
    "    [match_c_team_1, match_c_team_2]\n",
    "]"
   ]
  },
  {
   "cell_type": "code",
   "execution_count": 43,
   "metadata": {
    "pycharm": {
     "name": "#%%\n"
    }
   },
   "outputs": [
    {
     "name": "stdout",
     "output_type": "stream",
     "text": [
      "\n",
      "            constraints:\n",
      "            [{'type': 'ineq', 'fun': <function ParlaySystem.slsqp_solver.<locals>.<listcomp>.<lambda> at 0x13da01b90>}, {'type': 'ineq', 'fun': <function ParlaySystem.slsqp_solver.<locals>.<listcomp>.<lambda> at 0x13da01c20>}, {'type': 'ineq', 'fun': <function ParlaySystem.slsqp_solver.<locals>.<listcomp>.<lambda> at 0x13da01f80>}, {'type': 'ineq', 'fun': <function ParlaySystem.slsqp_solver.<locals>.<listcomp>.<lambda> at 0x13d98ae60>}, {'type': 'ineq', 'fun': <function ParlaySystem.slsqp_solver.<locals>.<listcomp>.<lambda> at 0x13d959c20>}, {'type': 'ineq', 'fun': <function ParlaySystem.slsqp_solver.<locals>.<listcomp>.<lambda> at 0x13d959f80>}, {'type': 'ineq', 'fun': <function ParlaySystem.slsqp_solver.<locals>.<listcomp>.<lambda> at 0x13d9815f0>}, {'type': 'ineq', 'fun': <function ParlaySystem.slsqp_solver.<locals>.<listcomp>.<lambda> at 0x13d9814d0>}]\n",
      "        \n",
      "\n",
      "            final_val:\n",
      "                 fun: 0.0020122931364397623\n",
      "     jac: array([0.01688537, 0.01688537, 0.01688537, 0.01688537, 0.01688537,\n",
      "       0.01688537, 0.01688537, 0.01688537])\n",
      " message: 'Positive directional derivative for linesearch'\n",
      "    nfev: 160\n",
      "     nit: 16\n",
      "    njev: 12\n",
      "  status: 8\n",
      " success: False\n",
      "       x: array([0.01      , 0.01      , 0.01084427, 0.01847264, 0.02006115,\n",
      "       0.02141735, 0.01837834, 0.01      ])\n",
      "        \n",
      "\n",
      "            ['ATL_ny_panthers', 'ATL_ny_pats', 'ny_panthers_saints', 'ny_pats_saints', 'ATL_KC_panthers', 'ATL_KC_pats', 'KC_panthers_saints', 'KC_pats_saints']\n",
      "            [3994.9999999999995, 2303.9473684210525, 1690.566037735849, 951.1420059582917, 867.909090909091, 468.20574162679424, 323.2246998284735, 148.451746862869]\n",
      "            [0.01, 0.01, 0.0108, 0.0185, 0.0201, 0.0214, 0.0184, 0.01]\n",
      "            [40.95, 24.0395, 17.9057, 10.5114, 9.6791, 5.6821, 4.2322, 2.4845]\n",
      "            [0.024420024420024423, 0.04159824849480022, 0.05584826132771338, 0.09513462446858764, 0.10331548793087254, 0.17599258978569327, 0.23628110561724888, 0.40249264198248613]\n",
      "            [0.4095, 0.2404, 0.1942, 0.1942, 0.1942, 0.1217, 0.0778, 0.0248]\n",
      "            [0, 0, 0, 0, 0, 0, 0, 0]\n",
      "            [0.29, 0.121, 0.075, 0.075, 0.075, 0.003, -0.041, -0.094]\n",
      "        \n",
      "\n",
      "            Parlay system total bet 0.12:\n",
      "        \n"
     ]
    }
   ],
   "source": [
    "parlay_system = ParlaySystem(binaries=binaries,\n",
    "                             target_profit=0.075,\n",
    "                             bounds=(0.01, 50))\n",
    "\n",
    "results = parlay_system.slsqp_solver(profit_type='avg_implied_profit')\n",
    "# results = parlay_system.slsqp_solver(profit_type='avg_profit')"
   ]
  },
  {
   "cell_type": "code",
   "execution_count": 44,
   "metadata": {
    "pycharm": {
     "name": "#%%\n"
    }
   },
   "outputs": [],
   "source": [
    "results.head(10)\n",
    "results.to_csv('/Users/ramp/Desktop/projects/sports_book2/data/nfl_profit_boost.csv', header=True, index=False)\n",
    "\n",
    "# results_implied_profit.head(10)"
   ]
  },
  {
   "cell_type": "code",
   "execution_count": 45,
   "metadata": {
    "pycharm": {
     "name": "#%%\n"
    }
   },
   "outputs": [
    {
     "name": "stdout",
     "output_type": "stream",
     "text": [
      "\n",
      "    Total Bet Amount: 0.11919999999999999\n",
      "    Total Implied Probability: 1.1350829840274264\n",
      "    Average Profit: 0.06299999999999999\n",
      "\n"
     ]
    }
   ],
   "source": [
    "print(f'''\n",
    "    Total Bet Amount: {results['bet'].sum()}\n",
    "    Total Implied Probability: {results['implied_prob'].sum()}\n",
    "    Average Profit: {results['profit'].mean()}\n",
    "''')"
   ]
  },
  {
   "cell_type": "code",
   "execution_count": 46,
   "metadata": {
    "pycharm": {
     "name": "#%%\n"
    }
   },
   "outputs": [
    {
     "data": {
      "text/html": [
       "<div>\n",
       "<style scoped>\n",
       "    .dataframe tbody tr th:only-of-type {\n",
       "        vertical-align: middle;\n",
       "    }\n",
       "\n",
       "    .dataframe tbody tr th {\n",
       "        vertical-align: top;\n",
       "    }\n",
       "\n",
       "    .dataframe thead th {\n",
       "        text-align: right;\n",
       "    }\n",
       "</style>\n",
       "<table border=\"1\" class=\"dataframe\">\n",
       "  <thead>\n",
       "    <tr style=\"text-align: right;\">\n",
       "      <th></th>\n",
       "      <th>event</th>\n",
       "      <th>bet</th>\n",
       "      <th>dec_odds</th>\n",
       "      <th>implied_prob</th>\n",
       "      <th>payout</th>\n",
       "      <th>profit</th>\n",
       "      <th>expected_value</th>\n",
       "    </tr>\n",
       "  </thead>\n",
       "  <tbody>\n",
       "    <tr>\n",
       "      <th>0</th>\n",
       "      <td>ATL_ny_panthers</td>\n",
       "      <td>0.0100</td>\n",
       "      <td>40.9500</td>\n",
       "      <td>0.024420</td>\n",
       "      <td>0.4095</td>\n",
       "      <td>0.290</td>\n",
       "      <td>0.007082</td>\n",
       "    </tr>\n",
       "    <tr>\n",
       "      <th>1</th>\n",
       "      <td>ATL_ny_pats</td>\n",
       "      <td>0.0100</td>\n",
       "      <td>24.0395</td>\n",
       "      <td>0.041598</td>\n",
       "      <td>0.2404</td>\n",
       "      <td>0.121</td>\n",
       "      <td>0.005033</td>\n",
       "    </tr>\n",
       "    <tr>\n",
       "      <th>2</th>\n",
       "      <td>ny_panthers_saints</td>\n",
       "      <td>0.0108</td>\n",
       "      <td>17.9057</td>\n",
       "      <td>0.055848</td>\n",
       "      <td>0.1942</td>\n",
       "      <td>0.075</td>\n",
       "      <td>0.004189</td>\n",
       "    </tr>\n",
       "    <tr>\n",
       "      <th>3</th>\n",
       "      <td>ny_pats_saints</td>\n",
       "      <td>0.0185</td>\n",
       "      <td>10.5114</td>\n",
       "      <td>0.095135</td>\n",
       "      <td>0.1942</td>\n",
       "      <td>0.075</td>\n",
       "      <td>0.007135</td>\n",
       "    </tr>\n",
       "    <tr>\n",
       "      <th>4</th>\n",
       "      <td>ATL_KC_panthers</td>\n",
       "      <td>0.0201</td>\n",
       "      <td>9.6791</td>\n",
       "      <td>0.103315</td>\n",
       "      <td>0.1942</td>\n",
       "      <td>0.075</td>\n",
       "      <td>0.007749</td>\n",
       "    </tr>\n",
       "    <tr>\n",
       "      <th>5</th>\n",
       "      <td>ATL_KC_pats</td>\n",
       "      <td>0.0214</td>\n",
       "      <td>5.6821</td>\n",
       "      <td>0.175993</td>\n",
       "      <td>0.1217</td>\n",
       "      <td>0.003</td>\n",
       "      <td>0.000528</td>\n",
       "    </tr>\n",
       "    <tr>\n",
       "      <th>6</th>\n",
       "      <td>KC_panthers_saints</td>\n",
       "      <td>0.0184</td>\n",
       "      <td>4.2322</td>\n",
       "      <td>0.236281</td>\n",
       "      <td>0.0778</td>\n",
       "      <td>-0.041</td>\n",
       "      <td>-0.009688</td>\n",
       "    </tr>\n",
       "    <tr>\n",
       "      <th>7</th>\n",
       "      <td>KC_pats_saints</td>\n",
       "      <td>0.0100</td>\n",
       "      <td>2.4845</td>\n",
       "      <td>0.402493</td>\n",
       "      <td>0.0248</td>\n",
       "      <td>-0.094</td>\n",
       "      <td>-0.037834</td>\n",
       "    </tr>\n",
       "  </tbody>\n",
       "</table>\n",
       "</div>"
      ],
      "text/plain": [
       "                event     bet  dec_odds  implied_prob  payout  profit  expected_value\n",
       "0     ATL_ny_panthers  0.0100   40.9500      0.024420  0.4095   0.290        0.007082\n",
       "1         ATL_ny_pats  0.0100   24.0395      0.041598  0.2404   0.121        0.005033\n",
       "2  ny_panthers_saints  0.0108   17.9057      0.055848  0.1942   0.075        0.004189\n",
       "3      ny_pats_saints  0.0185   10.5114      0.095135  0.1942   0.075        0.007135\n",
       "4     ATL_KC_panthers  0.0201    9.6791      0.103315  0.1942   0.075        0.007749\n",
       "5         ATL_KC_pats  0.0214    5.6821      0.175993  0.1217   0.003        0.000528\n",
       "6  KC_panthers_saints  0.0184    4.2322      0.236281  0.0778  -0.041       -0.009688\n",
       "7      KC_pats_saints  0.0100    2.4845      0.402493  0.0248  -0.094       -0.037834"
      ]
     },
     "execution_count": 46,
     "metadata": {},
     "output_type": "execute_result"
    }
   ],
   "source": [
    "results['expected_value'] = results['implied_prob'] * results['profit']\n",
    "results[['event', 'bet', 'dec_odds', 'implied_prob', 'payout','profit', 'expected_value']].head(10)"
   ]
  },
  {
   "cell_type": "code",
   "execution_count": 47,
   "metadata": {
    "pycharm": {
     "name": "#%%\n"
    }
   },
   "outputs": [
    {
     "name": "stdout",
     "output_type": "stream",
     "text": [
      "\n",
      "    Total Bet           : 0.11919999999999999\n",
      "    Total Expected value: -0.0158062827280879\n",
      "\n"
     ]
    }
   ],
   "source": [
    "\n",
    "print(f'''\n",
    "    Total Bet           : {results['bet'].sum()}\n",
    "    Total Expected value: {results['expected_value'].sum()}\n",
    "''')"
   ]
  },
  {
   "cell_type": "code",
   "execution_count": 48,
   "metadata": {},
   "outputs": [
    {
     "data": {
      "text/html": [
       "<div>\n",
       "<style scoped>\n",
       "    .dataframe tbody tr th:only-of-type {\n",
       "        vertical-align: middle;\n",
       "    }\n",
       "\n",
       "    .dataframe tbody tr th {\n",
       "        vertical-align: top;\n",
       "    }\n",
       "\n",
       "    .dataframe thead th {\n",
       "        text-align: right;\n",
       "    }\n",
       "</style>\n",
       "<table border=\"1\" class=\"dataframe\">\n",
       "  <thead>\n",
       "    <tr style=\"text-align: right;\">\n",
       "      <th></th>\n",
       "      <th>event</th>\n",
       "      <th>ml_odds</th>\n",
       "      <th>dec_odds</th>\n",
       "      <th>bet</th>\n",
       "      <th>implied_prob</th>\n",
       "      <th>payout</th>\n",
       "      <th>override</th>\n",
       "      <th>profit</th>\n",
       "      <th>expected_value</th>\n",
       "    </tr>\n",
       "  </thead>\n",
       "  <tbody>\n",
       "    <tr>\n",
       "      <th>0</th>\n",
       "      <td>ATL_ny_panthers</td>\n",
       "      <td>3995.000000</td>\n",
       "      <td>40.9500</td>\n",
       "      <td>0.0100</td>\n",
       "      <td>0.024420</td>\n",
       "      <td>0.4095</td>\n",
       "      <td>0</td>\n",
       "      <td>0.290</td>\n",
       "      <td>0.007082</td>\n",
       "    </tr>\n",
       "    <tr>\n",
       "      <th>1</th>\n",
       "      <td>ATL_ny_pats</td>\n",
       "      <td>2303.947368</td>\n",
       "      <td>24.0395</td>\n",
       "      <td>0.0100</td>\n",
       "      <td>0.041598</td>\n",
       "      <td>0.2404</td>\n",
       "      <td>0</td>\n",
       "      <td>0.121</td>\n",
       "      <td>0.005033</td>\n",
       "    </tr>\n",
       "    <tr>\n",
       "      <th>2</th>\n",
       "      <td>ny_panthers_saints</td>\n",
       "      <td>1690.566038</td>\n",
       "      <td>17.9057</td>\n",
       "      <td>0.0108</td>\n",
       "      <td>0.055848</td>\n",
       "      <td>0.1942</td>\n",
       "      <td>0</td>\n",
       "      <td>0.075</td>\n",
       "      <td>0.004189</td>\n",
       "    </tr>\n",
       "    <tr>\n",
       "      <th>3</th>\n",
       "      <td>ny_pats_saints</td>\n",
       "      <td>951.142006</td>\n",
       "      <td>10.5114</td>\n",
       "      <td>0.0185</td>\n",
       "      <td>0.095135</td>\n",
       "      <td>0.1942</td>\n",
       "      <td>0</td>\n",
       "      <td>0.075</td>\n",
       "      <td>0.007135</td>\n",
       "    </tr>\n",
       "    <tr>\n",
       "      <th>4</th>\n",
       "      <td>ATL_KC_panthers</td>\n",
       "      <td>867.909091</td>\n",
       "      <td>9.6791</td>\n",
       "      <td>0.0201</td>\n",
       "      <td>0.103315</td>\n",
       "      <td>0.1942</td>\n",
       "      <td>0</td>\n",
       "      <td>0.075</td>\n",
       "      <td>0.007749</td>\n",
       "    </tr>\n",
       "    <tr>\n",
       "      <th>5</th>\n",
       "      <td>ATL_KC_pats</td>\n",
       "      <td>468.205742</td>\n",
       "      <td>5.6821</td>\n",
       "      <td>0.0214</td>\n",
       "      <td>0.175993</td>\n",
       "      <td>0.1217</td>\n",
       "      <td>0</td>\n",
       "      <td>0.003</td>\n",
       "      <td>0.000528</td>\n",
       "    </tr>\n",
       "    <tr>\n",
       "      <th>6</th>\n",
       "      <td>KC_panthers_saints</td>\n",
       "      <td>323.224700</td>\n",
       "      <td>4.2322</td>\n",
       "      <td>0.0184</td>\n",
       "      <td>0.236281</td>\n",
       "      <td>0.0778</td>\n",
       "      <td>0</td>\n",
       "      <td>-0.041</td>\n",
       "      <td>-0.009688</td>\n",
       "    </tr>\n",
       "    <tr>\n",
       "      <th>7</th>\n",
       "      <td>KC_pats_saints</td>\n",
       "      <td>148.451747</td>\n",
       "      <td>2.4845</td>\n",
       "      <td>0.0100</td>\n",
       "      <td>0.402493</td>\n",
       "      <td>0.0248</td>\n",
       "      <td>0</td>\n",
       "      <td>-0.094</td>\n",
       "      <td>-0.037834</td>\n",
       "    </tr>\n",
       "  </tbody>\n",
       "</table>\n",
       "</div>"
      ],
      "text/plain": [
       "                event      ml_odds  dec_odds     bet  implied_prob  payout  override  profit  expected_value\n",
       "0     ATL_ny_panthers  3995.000000   40.9500  0.0100      0.024420  0.4095         0   0.290        0.007082\n",
       "1         ATL_ny_pats  2303.947368   24.0395  0.0100      0.041598  0.2404         0   0.121        0.005033\n",
       "2  ny_panthers_saints  1690.566038   17.9057  0.0108      0.055848  0.1942         0   0.075        0.004189\n",
       "3      ny_pats_saints   951.142006   10.5114  0.0185      0.095135  0.1942         0   0.075        0.007135\n",
       "4     ATL_KC_panthers   867.909091    9.6791  0.0201      0.103315  0.1942         0   0.075        0.007749\n",
       "5         ATL_KC_pats   468.205742    5.6821  0.0214      0.175993  0.1217         0   0.003        0.000528\n",
       "6  KC_panthers_saints   323.224700    4.2322  0.0184      0.236281  0.0778         0  -0.041       -0.009688\n",
       "7      KC_pats_saints   148.451747    2.4845  0.0100      0.402493  0.0248         0  -0.094       -0.037834"
      ]
     },
     "execution_count": 48,
     "metadata": {},
     "output_type": "execute_result"
    }
   ],
   "source": [
    "all_results = results.loc[results['profit'] != 0.000000000] \n",
    "all_results"
   ]
  },
  {
   "cell_type": "code",
   "execution_count": 49,
   "metadata": {
    "pycharm": {
     "name": "#%%\n"
    }
   },
   "outputs": [
    {
     "data": {
      "text/html": [
       "<div>\n",
       "<style scoped>\n",
       "    .dataframe tbody tr th:only-of-type {\n",
       "        vertical-align: middle;\n",
       "    }\n",
       "\n",
       "    .dataframe tbody tr th {\n",
       "        vertical-align: top;\n",
       "    }\n",
       "\n",
       "    .dataframe thead th {\n",
       "        text-align: right;\n",
       "    }\n",
       "</style>\n",
       "<table border=\"1\" class=\"dataframe\">\n",
       "  <thead>\n",
       "    <tr style=\"text-align: right;\">\n",
       "      <th></th>\n",
       "      <th>event</th>\n",
       "      <th>ml_odds</th>\n",
       "      <th>dec_odds</th>\n",
       "      <th>bet</th>\n",
       "      <th>implied_prob</th>\n",
       "      <th>payout</th>\n",
       "      <th>override</th>\n",
       "      <th>profit</th>\n",
       "      <th>expected_value</th>\n",
       "    </tr>\n",
       "  </thead>\n",
       "  <tbody>\n",
       "    <tr>\n",
       "      <th>0</th>\n",
       "      <td>ATL_ny_panthers</td>\n",
       "      <td>3995.000000</td>\n",
       "      <td>40.9500</td>\n",
       "      <td>0.0100</td>\n",
       "      <td>0.024420</td>\n",
       "      <td>0.4095</td>\n",
       "      <td>0</td>\n",
       "      <td>0.290</td>\n",
       "      <td>0.007082</td>\n",
       "    </tr>\n",
       "    <tr>\n",
       "      <th>1</th>\n",
       "      <td>ATL_ny_pats</td>\n",
       "      <td>2303.947368</td>\n",
       "      <td>24.0395</td>\n",
       "      <td>0.0100</td>\n",
       "      <td>0.041598</td>\n",
       "      <td>0.2404</td>\n",
       "      <td>0</td>\n",
       "      <td>0.121</td>\n",
       "      <td>0.005033</td>\n",
       "    </tr>\n",
       "    <tr>\n",
       "      <th>2</th>\n",
       "      <td>ny_panthers_saints</td>\n",
       "      <td>1690.566038</td>\n",
       "      <td>17.9057</td>\n",
       "      <td>0.0108</td>\n",
       "      <td>0.055848</td>\n",
       "      <td>0.1942</td>\n",
       "      <td>0</td>\n",
       "      <td>0.075</td>\n",
       "      <td>0.004189</td>\n",
       "    </tr>\n",
       "    <tr>\n",
       "      <th>3</th>\n",
       "      <td>ny_pats_saints</td>\n",
       "      <td>951.142006</td>\n",
       "      <td>10.5114</td>\n",
       "      <td>0.0185</td>\n",
       "      <td>0.095135</td>\n",
       "      <td>0.1942</td>\n",
       "      <td>0</td>\n",
       "      <td>0.075</td>\n",
       "      <td>0.007135</td>\n",
       "    </tr>\n",
       "    <tr>\n",
       "      <th>4</th>\n",
       "      <td>ATL_KC_panthers</td>\n",
       "      <td>867.909091</td>\n",
       "      <td>9.6791</td>\n",
       "      <td>0.0201</td>\n",
       "      <td>0.103315</td>\n",
       "      <td>0.1942</td>\n",
       "      <td>0</td>\n",
       "      <td>0.075</td>\n",
       "      <td>0.007749</td>\n",
       "    </tr>\n",
       "    <tr>\n",
       "      <th>5</th>\n",
       "      <td>ATL_KC_pats</td>\n",
       "      <td>468.205742</td>\n",
       "      <td>5.6821</td>\n",
       "      <td>0.0214</td>\n",
       "      <td>0.175993</td>\n",
       "      <td>0.1217</td>\n",
       "      <td>0</td>\n",
       "      <td>0.003</td>\n",
       "      <td>0.000528</td>\n",
       "    </tr>\n",
       "  </tbody>\n",
       "</table>\n",
       "</div>"
      ],
      "text/plain": [
       "                event      ml_odds  dec_odds     bet  implied_prob  payout  override  profit  expected_value\n",
       "0     ATL_ny_panthers  3995.000000   40.9500  0.0100      0.024420  0.4095         0   0.290        0.007082\n",
       "1         ATL_ny_pats  2303.947368   24.0395  0.0100      0.041598  0.2404         0   0.121        0.005033\n",
       "2  ny_panthers_saints  1690.566038   17.9057  0.0108      0.055848  0.1942         0   0.075        0.004189\n",
       "3      ny_pats_saints   951.142006   10.5114  0.0185      0.095135  0.1942         0   0.075        0.007135\n",
       "4     ATL_KC_panthers   867.909091    9.6791  0.0201      0.103315  0.1942         0   0.075        0.007749\n",
       "5         ATL_KC_pats   468.205742    5.6821  0.0214      0.175993  0.1217         0   0.003        0.000528"
      ]
     },
     "execution_count": 49,
     "metadata": {},
     "output_type": "execute_result"
    }
   ],
   "source": [
    "pos_results = results.loc[results['profit'] > -0.005] \n",
    "pos_results"
   ]
  },
  {
   "cell_type": "code",
   "execution_count": 50,
   "metadata": {},
   "outputs": [
    {
     "data": {
      "text/plain": [
       "0.4963092364276915"
      ]
     },
     "execution_count": 50,
     "metadata": {},
     "output_type": "execute_result"
    }
   ],
   "source": [
    "pos_results['implied_prob'].sum()"
   ]
  },
  {
   "cell_type": "code",
   "execution_count": null,
   "metadata": {},
   "outputs": [],
   "source": []
  }
 ],
 "metadata": {
  "interpreter": {
   "hash": "99531256b8050aeca1ee543c35617bdcaff069eb0f8b650f182f40d1e58f5678"
  },
  "kernelspec": {
   "display_name": "Python 3.7.10 64-bit ('sports_book2-XNYDZ0u0': pipenv)",
   "name": "python3"
  },
  "language_info": {
   "codemirror_mode": {
    "name": "ipython",
    "version": 3
   },
   "file_extension": ".py",
   "mimetype": "text/x-python",
   "name": "python",
   "nbconvert_exporter": "python",
   "pygments_lexer": "ipython3",
   "version": "3.7.10"
  }
 },
 "nbformat": 4,
 "nbformat_minor": 1
}
