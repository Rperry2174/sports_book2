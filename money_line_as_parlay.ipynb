{
 "cells": [
  {
   "cell_type": "code",
   "execution_count": 8,
   "metadata": {},
   "outputs": [],
   "source": [
    "import os\n",
    "import numpy as np"
   ]
  },
  {
   "cell_type": "code",
   "execution_count": 9,
   "metadata": {},
   "outputs": [],
   "source": [
    "from classes.money_line import MoneyLine\n",
    "from classes.parlay import Parlay\n",
    "from classes.parlay_system import ParlaySystem"
   ]
  },
  {
   "cell_type": "markdown",
   "metadata": {},
   "source": [
    "### Moneyline Example\n",
    "\n",
    "Draftkings sometimes promotes a \"50% profit boost\". That means that they multiply moneyline odds by 1.5x. This checks that that works correctly"
   ]
  },
  {
   "cell_type": "code",
   "execution_count": 10,
   "metadata": {
    "pycharm": {
     "name": "#%%\n"
    }
   },
   "outputs": [
    {
     "data": {
      "text/html": [
       "<div>\n",
       "<style scoped>\n",
       "    .dataframe tbody tr th:only-of-type {\n",
       "        vertical-align: middle;\n",
       "    }\n",
       "\n",
       "    .dataframe tbody tr th {\n",
       "        vertical-align: top;\n",
       "    }\n",
       "\n",
       "    .dataframe thead th {\n",
       "        text-align: right;\n",
       "    }\n",
       "</style>\n",
       "<table border=\"1\" class=\"dataframe\">\n",
       "  <thead>\n",
       "    <tr style=\"text-align: right;\">\n",
       "      <th></th>\n",
       "      <th>event_Rockies</th>\n",
       "      <th>bet_amount_Rockies</th>\n",
       "      <th>money_line_odds_Rockies</th>\n",
       "      <th>decimal_odds_Rockies</th>\n",
       "      <th>fractional_odds_Rockies</th>\n",
       "      <th>implied_prob_Rockies</th>\n",
       "      <th>payout_Rockies</th>\n",
       "      <th>expected_value_Rockies</th>\n",
       "    </tr>\n",
       "    <tr>\n",
       "      <th>join_index</th>\n",
       "      <th></th>\n",
       "      <th></th>\n",
       "      <th></th>\n",
       "      <th></th>\n",
       "      <th></th>\n",
       "      <th></th>\n",
       "      <th></th>\n",
       "      <th></th>\n",
       "    </tr>\n",
       "  </thead>\n",
       "  <tbody>\n",
       "    <tr>\n",
       "      <th>0</th>\n",
       "      <td>Rockies</td>\n",
       "      <td>100</td>\n",
       "      <td>337.5</td>\n",
       "      <td>4.375</td>\n",
       "      <td>22/5</td>\n",
       "      <td>0.228571</td>\n",
       "      <td>437.5</td>\n",
       "      <td>100.0</td>\n",
       "    </tr>\n",
       "  </tbody>\n",
       "</table>\n",
       "</div>"
      ],
      "text/plain": [
       "           event_Rockies  bet_amount_Rockies  money_line_odds_Rockies  decimal_odds_Rockies fractional_odds_Rockies  implied_prob_Rockies  payout_Rockies  expected_value_Rockies\n",
       "join_index                                                                                                                                                                       \n",
       "0                Rockies                 100                    337.5                 4.375                    22/5              0.228571           437.5                   100.0"
      ]
     },
     "execution_count": 10,
     "metadata": {},
     "output_type": "execute_result"
    }
   ],
   "source": [
    "match_a_team_1 = MoneyLine(event=\"Rockies\",\n",
    "                           bet_amount=100,\n",
    "                           money_line_odds=225,\n",
    "                           )\n",
    "\n",
    "match_a_team_1.update_money_line_odds(new_money_line_odds=(match_a_team_1.money_line_odds * 1.5))                                                      \n",
    "match_a_team_1.df_stats"
   ]
  },
  {
   "cell_type": "markdown",
   "metadata": {},
   "source": [
    "### Parlay Example"
   ]
  },
  {
   "cell_type": "code",
   "execution_count": 11,
   "metadata": {},
   "outputs": [],
   "source": [
    "match_b_team_1 = MoneyLine(event=\"cin reds\",\n",
    "                           bet_amount=100,\n",
    "                           money_line_odds=-125)\n",
    "\n",
    "# match_b_team_1.df_stats"
   ]
  },
  {
   "cell_type": "code",
   "execution_count": 12,
   "metadata": {},
   "outputs": [],
   "source": [
    "match_b_team_2 = MoneyLine(event=\"sf giants\",\n",
    "                           bet_amount=100,\n",
    "                           money_line_odds=-220)\n",
    "\n",
    "# match_b_team_2.df_stats"
   ]
  },
  {
   "cell_type": "code",
   "execution_count": 14,
   "metadata": {},
   "outputs": [
    {
     "data": {
      "text/html": [
       "<div>\n",
       "<style scoped>\n",
       "    .dataframe tbody tr th:only-of-type {\n",
       "        vertical-align: middle;\n",
       "    }\n",
       "\n",
       "    .dataframe tbody tr th {\n",
       "        vertical-align: top;\n",
       "    }\n",
       "\n",
       "    .dataframe thead th {\n",
       "        text-align: right;\n",
       "    }\n",
       "</style>\n",
       "<table border=\"1\" class=\"dataframe\">\n",
       "  <thead>\n",
       "    <tr style=\"text-align: right;\">\n",
       "      <th></th>\n",
       "      <th>join_index</th>\n",
       "      <th>event_cin reds</th>\n",
       "      <th>bet_amount_cin reds</th>\n",
       "      <th>money_line_odds_cin reds</th>\n",
       "      <th>decimal_odds_cin reds</th>\n",
       "      <th>fractional_odds_cin reds</th>\n",
       "      <th>implied_prob_cin reds</th>\n",
       "      <th>payout_cin reds</th>\n",
       "      <th>expected_value_cin reds</th>\n",
       "      <th>event_parlay</th>\n",
       "      <th>decimal_parlay</th>\n",
       "      <th>implied_prob</th>\n",
       "      <th>money_line_odds_parlay</th>\n",
       "      <th>implied_prob_parlay</th>\n",
       "      <th>fractional_odds_parlay</th>\n",
       "      <th>payout_parlay</th>\n",
       "      <th>expected_value_parlay</th>\n",
       "    </tr>\n",
       "  </thead>\n",
       "  <tbody>\n",
       "    <tr>\n",
       "      <th>0</th>\n",
       "      <td>0</td>\n",
       "      <td>cin reds</td>\n",
       "      <td>100</td>\n",
       "      <td>-125</td>\n",
       "      <td>1.8</td>\n",
       "      <td>9/5</td>\n",
       "      <td>0.555556</td>\n",
       "      <td>180.0</td>\n",
       "      <td>100.0</td>\n",
       "      <td>cin reds</td>\n",
       "      <td>2.25</td>\n",
       "      <td>0.555556</td>\n",
       "      <td>125.0</td>\n",
       "      <td>0.444444</td>\n",
       "      <td>9/4</td>\n",
       "      <td>225.0</td>\n",
       "      <td>100.0</td>\n",
       "    </tr>\n",
       "  </tbody>\n",
       "</table>\n",
       "</div>"
      ],
      "text/plain": [
       "   join_index event_cin reds  bet_amount_cin reds  money_line_odds_cin reds  decimal_odds_cin reds fractional_odds_cin reds  implied_prob_cin reds  payout_cin reds  expected_value_cin reds event_parlay  decimal_parlay  implied_prob  money_line_odds_parlay  implied_prob_parlay fractional_odds_parlay  payout_parlay  expected_value_parlay\n",
       "0           0       cin reds                  100                      -125                    1.8                      9/5               0.555556            180.0                    100.0     cin reds            2.25      0.555556                   125.0             0.444444                    9/4          225.0                  100.0"
      ]
     },
     "execution_count": 14,
     "metadata": {},
     "output_type": "execute_result"
    }
   ],
   "source": [
    "parlay = Parlay(money_line_arr=[match_b_team_1], bet_amount=100)\n",
    "parlay.df_stats"
   ]
  }
 ],
 "metadata": {
  "interpreter": {
   "hash": "7f2eb1d2e80d0edcbfffa5e6e7b1da9cf64b46c836d91354f7bbc5d93327dc81"
  },
  "kernelspec": {
   "display_name": "Python 3.7.10 64-bit ('sports_book2-XNYDZ0u0': pipenv)",
   "name": "python3"
  },
  "language_info": {
   "codemirror_mode": {
    "name": "ipython",
    "version": 3
   },
   "file_extension": ".py",
   "mimetype": "text/x-python",
   "name": "python",
   "nbconvert_exporter": "python",
   "pygments_lexer": "ipython3",
   "version": "3.7.10"
  }
 },
 "nbformat": 4,
 "nbformat_minor": 1
}
