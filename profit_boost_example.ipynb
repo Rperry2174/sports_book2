{
 "cells": [
  {
   "cell_type": "code",
   "execution_count": 1,
   "source": [
    "import os\n",
    "import numpy as np"
   ],
   "outputs": [],
   "metadata": {}
  },
  {
   "cell_type": "code",
   "execution_count": 2,
   "source": [
    "from classes.money_line import MoneyLine\n",
    "from classes.parlay_system import ParlaySystem"
   ],
   "outputs": [],
   "metadata": {}
  },
  {
   "cell_type": "markdown",
   "source": [
    "Draftkings sometimes promotes a \"50% profit boost\". That means that they multiply moneyline odds by 1.5x. This checks that that works correctly.\n",
    "\n"
   ],
   "metadata": {}
  },
  {
   "cell_type": "code",
   "execution_count": 7,
   "source": [
    "match_a_team_1 = MoneyLine(event=\"Rockies\",\n",
    "                           bet_amount=100,\n",
    "                           money_line_odds=225,\n",
    "                           )\n",
    "\n",
    "match_a_team_1.update_money_line_odds(match_a_team_1.money_line_odds * 1.5)                                                      \n",
    "match_a_team_1.df_stats"
   ],
   "outputs": [
    {
     "output_type": "execute_result",
     "data": {
      "text/html": [
       "<div>\n",
       "<style scoped>\n",
       "    .dataframe tbody tr th:only-of-type {\n",
       "        vertical-align: middle;\n",
       "    }\n",
       "\n",
       "    .dataframe tbody tr th {\n",
       "        vertical-align: top;\n",
       "    }\n",
       "\n",
       "    .dataframe thead th {\n",
       "        text-align: right;\n",
       "    }\n",
       "</style>\n",
       "<table border=\"1\" class=\"dataframe\">\n",
       "  <thead>\n",
       "    <tr style=\"text-align: right;\">\n",
       "      <th></th>\n",
       "      <th>event_Rockies</th>\n",
       "      <th>bet_amount_Rockies</th>\n",
       "      <th>money_line_odds_Rockies</th>\n",
       "      <th>decimal_odds_Rockies</th>\n",
       "      <th>fractional_odds_Rockies</th>\n",
       "      <th>implied_prob_Rockies</th>\n",
       "      <th>payout_Rockies</th>\n",
       "      <th>expected_value_Rockies</th>\n",
       "    </tr>\n",
       "    <tr>\n",
       "      <th>join_index</th>\n",
       "      <th></th>\n",
       "      <th></th>\n",
       "      <th></th>\n",
       "      <th></th>\n",
       "      <th></th>\n",
       "      <th></th>\n",
       "      <th></th>\n",
       "      <th></th>\n",
       "    </tr>\n",
       "  </thead>\n",
       "  <tbody>\n",
       "    <tr>\n",
       "      <th>0</th>\n",
       "      <td>Rockies</td>\n",
       "      <td>100</td>\n",
       "      <td>337.5</td>\n",
       "      <td>4.375</td>\n",
       "      <td>22/5</td>\n",
       "      <td>0.228571</td>\n",
       "      <td>437.5</td>\n",
       "      <td>100.0</td>\n",
       "    </tr>\n",
       "  </tbody>\n",
       "</table>\n",
       "</div>"
      ],
      "text/plain": [
       "           event_Rockies  bet_amount_Rockies  money_line_odds_Rockies  decimal_odds_Rockies fractional_odds_Rockies  implied_prob_Rockies  payout_Rockies  expected_value_Rockies\n",
       "join_index                                                                                                                                                                       \n",
       "0                Rockies                 100                    337.5                 4.375                    22/5              0.228571           437.5                   100.0"
      ]
     },
     "metadata": {},
     "execution_count": 7
    }
   ],
   "metadata": {
    "pycharm": {
     "name": "#%%\n"
    }
   }
  }
 ],
 "metadata": {
  "kernelspec": {
   "name": "python3",
   "display_name": "Python 3.7.10 64-bit ('sports_book2-XNYDZ0u0': pipenv)"
  },
  "language_info": {
   "codemirror_mode": {
    "name": "ipython",
    "version": 3
   },
   "file_extension": ".py",
   "mimetype": "text/x-python",
   "name": "python",
   "nbconvert_exporter": "python",
   "pygments_lexer": "ipython3",
   "version": "3.7.10"
  },
  "interpreter": {
   "hash": "7f2eb1d2e80d0edcbfffa5e6e7b1da9cf64b46c836d91354f7bbc5d93327dc81"
  }
 },
 "nbformat": 4,
 "nbformat_minor": 1
}