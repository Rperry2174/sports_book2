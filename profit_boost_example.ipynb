{
 "cells": [
  {
   "cell_type": "code",
   "execution_count": 2,
   "source": [
    "import os\n",
    "import numpy as np"
   ],
   "outputs": [],
   "metadata": {}
  },
  {
   "cell_type": "code",
   "execution_count": 3,
   "source": [
    "from classes.money_line import MoneyLine\n",
    "from classes.parlay import Parlay\n",
    "from classes.parlay_system import ParlaySystem"
   ],
   "outputs": [],
   "metadata": {}
  },
  {
   "cell_type": "markdown",
   "source": [
    "### Moneyline Example\n",
    "\n",
    "Draftkings sometimes promotes a \"50% profit boost\". That means that they multiply moneyline odds by 1.5x. This checks that that works correctly"
   ],
   "metadata": {}
  },
  {
   "cell_type": "code",
   "execution_count": 15,
   "source": [
    "match_a_team_1 = MoneyLine(event=\"Rockies\",\n",
    "                           bet_amount=100,\n",
    "                           money_line_odds=225,\n",
    "                           )\n",
    "\n",
    "match_a_team_1.update_money_line_odds(new_money_line_odds=(match_a_team_1.money_line_odds * 1.5))                                                      \n",
    "match_a_team_1.df_stats"
   ],
   "outputs": [
    {
     "output_type": "execute_result",
     "data": {
      "text/html": [
       "<div>\n",
       "<style scoped>\n",
       "    .dataframe tbody tr th:only-of-type {\n",
       "        vertical-align: middle;\n",
       "    }\n",
       "\n",
       "    .dataframe tbody tr th {\n",
       "        vertical-align: top;\n",
       "    }\n",
       "\n",
       "    .dataframe thead th {\n",
       "        text-align: right;\n",
       "    }\n",
       "</style>\n",
       "<table border=\"1\" class=\"dataframe\">\n",
       "  <thead>\n",
       "    <tr style=\"text-align: right;\">\n",
       "      <th></th>\n",
       "      <th>event_Rockies</th>\n",
       "      <th>bet_amount_Rockies</th>\n",
       "      <th>money_line_odds_Rockies</th>\n",
       "      <th>decimal_odds_Rockies</th>\n",
       "      <th>fractional_odds_Rockies</th>\n",
       "      <th>implied_prob_Rockies</th>\n",
       "      <th>payout_Rockies</th>\n",
       "      <th>expected_value_Rockies</th>\n",
       "    </tr>\n",
       "    <tr>\n",
       "      <th>join_index</th>\n",
       "      <th></th>\n",
       "      <th></th>\n",
       "      <th></th>\n",
       "      <th></th>\n",
       "      <th></th>\n",
       "      <th></th>\n",
       "      <th></th>\n",
       "      <th></th>\n",
       "    </tr>\n",
       "  </thead>\n",
       "  <tbody>\n",
       "    <tr>\n",
       "      <th>0</th>\n",
       "      <td>Rockies</td>\n",
       "      <td>100</td>\n",
       "      <td>337.5</td>\n",
       "      <td>4.375</td>\n",
       "      <td>22/5</td>\n",
       "      <td>0.228571</td>\n",
       "      <td>437.5</td>\n",
       "      <td>100.0</td>\n",
       "    </tr>\n",
       "  </tbody>\n",
       "</table>\n",
       "</div>"
      ],
      "text/plain": [
       "           event_Rockies  bet_amount_Rockies  money_line_odds_Rockies  decimal_odds_Rockies fractional_odds_Rockies  implied_prob_Rockies  payout_Rockies  expected_value_Rockies\n",
       "join_index                                                                                                                                                                       \n",
       "0                Rockies                 100                    337.5                 4.375                    22/5              0.228571           437.5                   100.0"
      ]
     },
     "metadata": {},
     "execution_count": 15
    }
   ],
   "metadata": {
    "pycharm": {
     "name": "#%%\n"
    }
   }
  },
  {
   "cell_type": "markdown",
   "source": [
    "### Parlay Example"
   ],
   "metadata": {}
  },
  {
   "cell_type": "code",
   "execution_count": 11,
   "source": [
    "match_b_team_1 = MoneyLine(event=\"cin reds\",\n",
    "                           bet_amount=100,\n",
    "                           money_line_odds=-125)\n",
    "\n",
    "# match_b_team_1.df_stats"
   ],
   "outputs": [],
   "metadata": {}
  },
  {
   "cell_type": "code",
   "execution_count": 12,
   "source": [
    "match_b_team_2 = MoneyLine(event=\"sf giants\",\n",
    "                           bet_amount=100,\n",
    "                           money_line_odds=-220)\n",
    "\n",
    "# match_b_team_2.df_stats"
   ],
   "outputs": [],
   "metadata": {}
  },
  {
   "cell_type": "code",
   "execution_count": 13,
   "source": [
    "parlay = Parlay(money_line_arr=[match_b_team_1, match_b_team_2], bet_amount=100)\n",
    "parlay.df_stats"
   ],
   "outputs": [
    {
     "output_type": "execute_result",
     "data": {
      "text/html": [
       "<div>\n",
       "<style scoped>\n",
       "    .dataframe tbody tr th:only-of-type {\n",
       "        vertical-align: middle;\n",
       "    }\n",
       "\n",
       "    .dataframe tbody tr th {\n",
       "        vertical-align: top;\n",
       "    }\n",
       "\n",
       "    .dataframe thead th {\n",
       "        text-align: right;\n",
       "    }\n",
       "</style>\n",
       "<table border=\"1\" class=\"dataframe\">\n",
       "  <thead>\n",
       "    <tr style=\"text-align: right;\">\n",
       "      <th></th>\n",
       "      <th>join_index</th>\n",
       "      <th>event_cin reds</th>\n",
       "      <th>bet_amount_cin reds</th>\n",
       "      <th>money_line_odds_cin reds</th>\n",
       "      <th>decimal_odds_cin reds</th>\n",
       "      <th>fractional_odds_cin reds</th>\n",
       "      <th>implied_prob_cin reds</th>\n",
       "      <th>payout_cin reds</th>\n",
       "      <th>expected_value_cin reds</th>\n",
       "      <th>event_sf giants</th>\n",
       "      <th>bet_amount_sf giants</th>\n",
       "      <th>money_line_odds_sf giants</th>\n",
       "      <th>decimal_odds_sf giants</th>\n",
       "      <th>fractional_odds_sf giants</th>\n",
       "      <th>implied_prob_sf giants</th>\n",
       "      <th>payout_sf giants</th>\n",
       "      <th>expected_value_sf giants</th>\n",
       "      <th>event_parlay</th>\n",
       "      <th>decimal_parlay</th>\n",
       "      <th>implied_prob</th>\n",
       "      <th>money_line_odds_parlay</th>\n",
       "      <th>implied_prob_parlay</th>\n",
       "      <th>fractional_odds_parlay</th>\n",
       "      <th>payout_parlay</th>\n",
       "      <th>expected_value_parlay</th>\n",
       "    </tr>\n",
       "  </thead>\n",
       "  <tbody>\n",
       "    <tr>\n",
       "      <th>0</th>\n",
       "      <td>0</td>\n",
       "      <td>cin reds</td>\n",
       "      <td>100</td>\n",
       "      <td>-125</td>\n",
       "      <td>1.8</td>\n",
       "      <td>9/5</td>\n",
       "      <td>0.555556</td>\n",
       "      <td>180.0</td>\n",
       "      <td>100.0</td>\n",
       "      <td>sf giants</td>\n",
       "      <td>100</td>\n",
       "      <td>-220</td>\n",
       "      <td>1.454545</td>\n",
       "      <td>3/2</td>\n",
       "      <td>0.6875</td>\n",
       "      <td>145.454545</td>\n",
       "      <td>100.0</td>\n",
       "      <td>cin reds_sf giants</td>\n",
       "      <td>2.618182</td>\n",
       "      <td>0.381944</td>\n",
       "      <td>161.818182</td>\n",
       "      <td>0.381944</td>\n",
       "      <td>13/5</td>\n",
       "      <td>261.818182</td>\n",
       "      <td>100.0</td>\n",
       "    </tr>\n",
       "  </tbody>\n",
       "</table>\n",
       "</div>"
      ],
      "text/plain": [
       "   join_index event_cin reds  bet_amount_cin reds  money_line_odds_cin reds  decimal_odds_cin reds fractional_odds_cin reds  implied_prob_cin reds  payout_cin reds  expected_value_cin reds event_sf giants  bet_amount_sf giants  money_line_odds_sf giants  decimal_odds_sf giants fractional_odds_sf giants  implied_prob_sf giants  payout_sf giants  expected_value_sf giants        event_parlay  decimal_parlay  implied_prob  money_line_odds_parlay  implied_prob_parlay fractional_odds_parlay  payout_parlay  expected_value_parlay\n",
       "0           0       cin reds                  100                      -125                    1.8                      9/5               0.555556            180.0                    100.0       sf giants                   100                       -220                1.454545                       3/2                  0.6875        145.454545                     100.0  cin reds_sf giants        2.618182      0.381944              161.818182             0.381944                   13/5     261.818182                  100.0"
      ]
     },
     "metadata": {},
     "execution_count": 13
    }
   ],
   "metadata": {}
  },
  {
   "cell_type": "code",
   "execution_count": 16,
   "source": [
    "parlay = Parlay(money_line_arr=[match_b_team_1, match_b_team_2], bet_amount=100)\n",
    "parlay.update_money_line_odds(new_money_line_odds=(parlay.money_line_odds * 1.5))                                                      \n",
    "parlay.df_stats"
   ],
   "outputs": [
    {
     "output_type": "execute_result",
     "data": {
      "text/html": [
       "<div>\n",
       "<style scoped>\n",
       "    .dataframe tbody tr th:only-of-type {\n",
       "        vertical-align: middle;\n",
       "    }\n",
       "\n",
       "    .dataframe tbody tr th {\n",
       "        vertical-align: top;\n",
       "    }\n",
       "\n",
       "    .dataframe thead th {\n",
       "        text-align: right;\n",
       "    }\n",
       "</style>\n",
       "<table border=\"1\" class=\"dataframe\">\n",
       "  <thead>\n",
       "    <tr style=\"text-align: right;\">\n",
       "      <th></th>\n",
       "      <th>join_index</th>\n",
       "      <th>event_cin reds</th>\n",
       "      <th>bet_amount_cin reds</th>\n",
       "      <th>money_line_odds_cin reds</th>\n",
       "      <th>decimal_odds_cin reds</th>\n",
       "      <th>fractional_odds_cin reds</th>\n",
       "      <th>implied_prob_cin reds</th>\n",
       "      <th>payout_cin reds</th>\n",
       "      <th>expected_value_cin reds</th>\n",
       "      <th>event_sf giants</th>\n",
       "      <th>bet_amount_sf giants</th>\n",
       "      <th>money_line_odds_sf giants</th>\n",
       "      <th>decimal_odds_sf giants</th>\n",
       "      <th>fractional_odds_sf giants</th>\n",
       "      <th>implied_prob_sf giants</th>\n",
       "      <th>payout_sf giants</th>\n",
       "      <th>expected_value_sf giants</th>\n",
       "      <th>event_parlay</th>\n",
       "      <th>decimal_parlay</th>\n",
       "      <th>implied_prob</th>\n",
       "      <th>money_line_odds_parlay</th>\n",
       "      <th>implied_prob_parlay</th>\n",
       "      <th>fractional_odds_parlay</th>\n",
       "      <th>payout_parlay</th>\n",
       "      <th>expected_value_parlay</th>\n",
       "    </tr>\n",
       "  </thead>\n",
       "  <tbody>\n",
       "    <tr>\n",
       "      <th>0</th>\n",
       "      <td>0</td>\n",
       "      <td>cin reds</td>\n",
       "      <td>100</td>\n",
       "      <td>-125</td>\n",
       "      <td>1.8</td>\n",
       "      <td>9/5</td>\n",
       "      <td>0.555556</td>\n",
       "      <td>180.0</td>\n",
       "      <td>100.0</td>\n",
       "      <td>sf giants</td>\n",
       "      <td>100</td>\n",
       "      <td>-220</td>\n",
       "      <td>1.454545</td>\n",
       "      <td>3/2</td>\n",
       "      <td>0.6875</td>\n",
       "      <td>145.454545</td>\n",
       "      <td>100.0</td>\n",
       "      <td>cin reds_sf giants</td>\n",
       "      <td>3.427273</td>\n",
       "      <td>0.381944</td>\n",
       "      <td>242.727273</td>\n",
       "      <td>0.291777</td>\n",
       "      <td>17/5</td>\n",
       "      <td>342.727273</td>\n",
       "      <td>100.0</td>\n",
       "    </tr>\n",
       "  </tbody>\n",
       "</table>\n",
       "</div>"
      ],
      "text/plain": [
       "   join_index event_cin reds  bet_amount_cin reds  money_line_odds_cin reds  decimal_odds_cin reds fractional_odds_cin reds  implied_prob_cin reds  payout_cin reds  expected_value_cin reds event_sf giants  bet_amount_sf giants  money_line_odds_sf giants  decimal_odds_sf giants fractional_odds_sf giants  implied_prob_sf giants  payout_sf giants  expected_value_sf giants        event_parlay  decimal_parlay  implied_prob  money_line_odds_parlay  implied_prob_parlay fractional_odds_parlay  payout_parlay  expected_value_parlay\n",
       "0           0       cin reds                  100                      -125                    1.8                      9/5               0.555556            180.0                    100.0       sf giants                   100                       -220                1.454545                       3/2                  0.6875        145.454545                     100.0  cin reds_sf giants        3.427273      0.381944              242.727273             0.291777                   17/5     342.727273                  100.0"
      ]
     },
     "metadata": {},
     "execution_count": 16
    }
   ],
   "metadata": {}
  },
  {
   "cell_type": "code",
   "execution_count": null,
   "source": [],
   "outputs": [],
   "metadata": {}
  }
 ],
 "metadata": {
  "kernelspec": {
   "name": "python3",
   "display_name": "Python 3.7.10 64-bit ('sports_book2-XNYDZ0u0': pipenv)"
  },
  "language_info": {
   "codemirror_mode": {
    "name": "ipython",
    "version": 3
   },
   "file_extension": ".py",
   "mimetype": "text/x-python",
   "name": "python",
   "nbconvert_exporter": "python",
   "pygments_lexer": "ipython3",
   "version": "3.7.10"
  },
  "interpreter": {
   "hash": "7f2eb1d2e80d0edcbfffa5e6e7b1da9cf64b46c836d91354f7bbc5d93327dc81"
  }
 },
 "nbformat": 4,
 "nbformat_minor": 1
}