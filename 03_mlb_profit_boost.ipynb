{
 "cells": [
  {
   "cell_type": "code",
   "execution_count": 1,
   "metadata": {},
   "outputs": [],
   "source": [
    "import os\n",
    "import numpy as np\n"
   ]
  },
  {
   "cell_type": "code",
   "execution_count": 2,
   "metadata": {},
   "outputs": [],
   "source": [
    "from classes.money_line import MoneyLine\n",
    "from classes.parlay_system import ParlaySystem"
   ]
  },
  {
   "cell_type": "code",
   "execution_count": 3,
   "metadata": {
    "pycharm": {
     "name": "#%%\n"
    }
   },
   "outputs": [],
   "source": [
    "match_a_team_1 = MoneyLine(event=\"min\", \n",
    "                           bet_amount=100, \n",
    "                           money_line_odds=130)\n",
    "\n",
    "# match_a_team_1.df_stats\n"
   ]
  },
  {
   "cell_type": "code",
   "execution_count": 4,
   "metadata": {
    "pycharm": {
     "name": "#%%\n"
    }
   },
   "outputs": [],
   "source": [
    "match_a_team_2 = MoneyLine(event=\"ny\",\n",
    "                           bet_amount=100,\n",
    "                           money_line_odds=-150)\n",
    "# match_a_team_2.df_stats"
   ]
  },
  {
   "cell_type": "code",
   "execution_count": 5,
   "metadata": {
    "pycharm": {
     "name": "#%%\n"
    }
   },
   "outputs": [],
   "source": [
    "match_b_team_1 = MoneyLine(event=\"mia\",\n",
    "                           bet_amount=100,\n",
    "                           money_line_odds=110)\n",
    "\n",
    "# match_b_team_1.df_stats\n"
   ]
  },
  {
   "cell_type": "code",
   "execution_count": 6,
   "metadata": {
    "pycharm": {
     "name": "#%%\n"
    }
   },
   "outputs": [],
   "source": [
    "match_b_team_2 = MoneyLine(event=\"was\",\n",
    "                           bet_amount=100,\n",
    "                           money_line_odds=-130)\n",
    "\n",
    "# match_b_team_2.df_stats"
   ]
  },
  {
   "cell_type": "code",
   "execution_count": 7,
   "metadata": {
    "pycharm": {
     "name": "#%%\n"
    }
   },
   "outputs": [],
   "source": [
    "match_c_team_1 = MoneyLine(event=\"sd\",\n",
    "                           bet_amount=100,\n",
    "                           money_line_odds=-120)\n",
    "\n",
    "# match_c_team_1.df_stats"
   ]
  },
  {
   "cell_type": "code",
   "execution_count": 24,
   "metadata": {},
   "outputs": [],
   "source": [
    "match_c_team_2 = MoneyLine(event=\"sf\",\n",
    "                           bet_amount=100,\n",
    "                           money_line_odds=100)\n",
    "\n",
    "# match_c_team_2.df_stats"
   ]
  },
  {
   "cell_type": "code",
   "execution_count": 9,
   "metadata": {
    "pycharm": {
     "name": "#%%\n"
    }
   },
   "outputs": [],
   "source": [
    "binaries = [\n",
    "    [match_a_team_1, match_a_team_2],\n",
    "    [match_b_team_1, match_b_team_2],\n",
    "    [match_c_team_1, match_c_team_2]\n",
    "]"
   ]
  },
  {
   "cell_type": "code",
   "execution_count": 10,
   "metadata": {
    "pycharm": {
     "name": "#%%\n"
    }
   },
   "outputs": [
    {
     "name": "stdout",
     "output_type": "stream",
     "text": [
      "\n",
      "            constraints:\n",
      "            [{'type': 'ineq', 'fun': <function ParlaySystem.slsqp_solver.<locals>.<listcomp>.<lambda> at 0x143e47f80>}, {'type': 'ineq', 'fun': <function ParlaySystem.slsqp_solver.<locals>.<listcomp>.<lambda> at 0x143e6b050>}, {'type': 'ineq', 'fun': <function ParlaySystem.slsqp_solver.<locals>.<listcomp>.<lambda> at 0x143e6b0e0>}, {'type': 'ineq', 'fun': <function ParlaySystem.slsqp_solver.<locals>.<listcomp>.<lambda> at 0x143e6b170>}, {'type': 'ineq', 'fun': <function ParlaySystem.slsqp_solver.<locals>.<listcomp>.<lambda> at 0x143e6b200>}, {'type': 'ineq', 'fun': <function ParlaySystem.slsqp_solver.<locals>.<listcomp>.<lambda> at 0x143e6b290>}, {'type': 'ineq', 'fun': <function ParlaySystem.slsqp_solver.<locals>.<listcomp>.<lambda> at 0x143e6b320>}, {'type': 'ineq', 'fun': <function ParlaySystem.slsqp_solver.<locals>.<listcomp>.<lambda> at 0x143e6b3b0>}]\n",
      "        \n",
      "\n",
      "            final_val:\n",
      "                 fun: 0.0030599465666497514\n",
      "     jac: array([0.01582675, 0.01582675, 0.01582675, 0.01582675, 0.01582675,\n",
      "       0.01582675, 0.01582675, 0.01582675])\n",
      " message: 'Positive directional derivative for linesearch'\n",
      "    nfev: 219\n",
      "     nit: 19\n",
      "    njev: 15\n",
      "  status: 8\n",
      " success: False\n",
      "       x: array([0.02777849, 0.03030381, 0.03297186, 0.02935367, 0.02600493,\n",
      "       0.02107044, 0.01585703, 0.01      ])\n",
      "        \n",
      "\n",
      "            ['mia_min_sixers', 'mia_min_sd', 'min_sixers_was', 'min_sd_was', 'mia_ny_sixers', 'mia_ny_sd', 'ny_sixers_was', 'ny_sd_was']\n",
      "            [866.0, 785.5, 713.8461538461538, 646.025641025641, 600.0, 541.6666666666667, 489.74358974358967, 440.59829059829065]\n",
      "            [0.0278, 0.0303, 0.033, 0.0294, 0.026, 0.0211, 0.0159, 0.01]\n",
      "            [9.66, 8.855, 8.1385, 7.4603, 7.0, 6.4167, 5.8974, 5.406]\n",
      "            [0.10351966873706005, 0.11293054771315642, 0.1228733459357278, 0.13404365011170305, 0.14285714285714285, 0.1558441558441558, 0.1695652173913044, 0.18498023715415018]\n",
      "            [0.2683, 0.2683, 0.2683, 0.219, 0.182, 0.1352, 0.0935, 0.0541]\n",
      "            [0.075, 0.075, 0.075, 0.026, -0.011, -0.058, -0.1, -0.139]\n",
      "        \n",
      "\n",
      "            Parlay system total bet 0.19:\n",
      "        \n"
     ]
    }
   ],
   "source": [
    "parlay_system = ParlaySystem(binaries=binaries,\n",
    "                             target_profit=0.075,\n",
    "                             bounds=(0.01, 50))\n",
    "\n",
    "results = parlay_system.slsqp_solver(profit_type='avg_implied_profit')\n",
    "# results = parlay_system.slsqp_solver(profit_type='avg_profit')"
   ]
  },
  {
   "cell_type": "code",
   "execution_count": 11,
   "metadata": {
    "pycharm": {
     "name": "#%%\n"
    }
   },
   "outputs": [],
   "source": [
    "results.head(10)\n",
    "results.to_csv('/Users/ramp/Desktop/projects/sports_book2/data/mlb_profit_boost.csv', header=True, index=False)\n",
    "\n",
    "# results_implied_profit.head(10)"
   ]
  },
  {
   "cell_type": "code",
   "execution_count": 12,
   "metadata": {
    "pycharm": {
     "name": "#%%\n"
    }
   },
   "outputs": [
    {
     "name": "stdout",
     "output_type": "stream",
     "text": [
      "\n",
      "    Total Bet Amount: 0.1935\n",
      "    Total Implied Probability: 1.1266139657444005\n",
      "    Average Profit: -0.007125000000000006\n",
      "\n"
     ]
    }
   ],
   "source": [
    "print(f'''\n",
    "    Total Bet Amount: {results['bet'].sum()}\n",
    "    Total Implied Probability: {results['implied_prob'].sum()}\n",
    "    Average Profit: {results['profit'].mean()}\n",
    "''')"
   ]
  },
  {
   "cell_type": "code",
   "execution_count": 13,
   "metadata": {
    "pycharm": {
     "name": "#%%\n"
    }
   },
   "outputs": [
    {
     "data": {
      "text/html": [
       "<div>\n",
       "<style scoped>\n",
       "    .dataframe tbody tr th:only-of-type {\n",
       "        vertical-align: middle;\n",
       "    }\n",
       "\n",
       "    .dataframe tbody tr th {\n",
       "        vertical-align: top;\n",
       "    }\n",
       "\n",
       "    .dataframe thead th {\n",
       "        text-align: right;\n",
       "    }\n",
       "</style>\n",
       "<table border=\"1\" class=\"dataframe\">\n",
       "  <thead>\n",
       "    <tr style=\"text-align: right;\">\n",
       "      <th></th>\n",
       "      <th>event</th>\n",
       "      <th>bet</th>\n",
       "      <th>dec_odds</th>\n",
       "      <th>implied_prob</th>\n",
       "      <th>payout</th>\n",
       "      <th>profit</th>\n",
       "      <th>expected_value</th>\n",
       "    </tr>\n",
       "  </thead>\n",
       "  <tbody>\n",
       "    <tr>\n",
       "      <th>0</th>\n",
       "      <td>mia_min_sixers</td>\n",
       "      <td>0.0278</td>\n",
       "      <td>9.6600</td>\n",
       "      <td>0.103520</td>\n",
       "      <td>0.2683</td>\n",
       "      <td>0.075</td>\n",
       "      <td>0.007764</td>\n",
       "    </tr>\n",
       "    <tr>\n",
       "      <th>1</th>\n",
       "      <td>mia_min_sd</td>\n",
       "      <td>0.0303</td>\n",
       "      <td>8.8550</td>\n",
       "      <td>0.112931</td>\n",
       "      <td>0.2683</td>\n",
       "      <td>0.075</td>\n",
       "      <td>0.008470</td>\n",
       "    </tr>\n",
       "    <tr>\n",
       "      <th>2</th>\n",
       "      <td>min_sixers_was</td>\n",
       "      <td>0.0330</td>\n",
       "      <td>8.1385</td>\n",
       "      <td>0.122873</td>\n",
       "      <td>0.2683</td>\n",
       "      <td>0.075</td>\n",
       "      <td>0.009216</td>\n",
       "    </tr>\n",
       "    <tr>\n",
       "      <th>3</th>\n",
       "      <td>min_sd_was</td>\n",
       "      <td>0.0294</td>\n",
       "      <td>7.4603</td>\n",
       "      <td>0.134044</td>\n",
       "      <td>0.2190</td>\n",
       "      <td>0.026</td>\n",
       "      <td>0.003485</td>\n",
       "    </tr>\n",
       "    <tr>\n",
       "      <th>4</th>\n",
       "      <td>mia_ny_sixers</td>\n",
       "      <td>0.0260</td>\n",
       "      <td>7.0000</td>\n",
       "      <td>0.142857</td>\n",
       "      <td>0.1820</td>\n",
       "      <td>-0.011</td>\n",
       "      <td>-0.001571</td>\n",
       "    </tr>\n",
       "    <tr>\n",
       "      <th>5</th>\n",
       "      <td>mia_ny_sd</td>\n",
       "      <td>0.0211</td>\n",
       "      <td>6.4167</td>\n",
       "      <td>0.155844</td>\n",
       "      <td>0.1352</td>\n",
       "      <td>-0.058</td>\n",
       "      <td>-0.009039</td>\n",
       "    </tr>\n",
       "    <tr>\n",
       "      <th>6</th>\n",
       "      <td>ny_sixers_was</td>\n",
       "      <td>0.0159</td>\n",
       "      <td>5.8974</td>\n",
       "      <td>0.169565</td>\n",
       "      <td>0.0935</td>\n",
       "      <td>-0.100</td>\n",
       "      <td>-0.016957</td>\n",
       "    </tr>\n",
       "    <tr>\n",
       "      <th>7</th>\n",
       "      <td>ny_sd_was</td>\n",
       "      <td>0.0100</td>\n",
       "      <td>5.4060</td>\n",
       "      <td>0.184980</td>\n",
       "      <td>0.0541</td>\n",
       "      <td>-0.139</td>\n",
       "      <td>-0.025712</td>\n",
       "    </tr>\n",
       "  </tbody>\n",
       "</table>\n",
       "</div>"
      ],
      "text/plain": [
       "            event     bet  dec_odds  implied_prob  payout  profit  expected_value\n",
       "0  mia_min_sixers  0.0278    9.6600      0.103520  0.2683   0.075        0.007764\n",
       "1      mia_min_sd  0.0303    8.8550      0.112931  0.2683   0.075        0.008470\n",
       "2  min_sixers_was  0.0330    8.1385      0.122873  0.2683   0.075        0.009216\n",
       "3      min_sd_was  0.0294    7.4603      0.134044  0.2190   0.026        0.003485\n",
       "4   mia_ny_sixers  0.0260    7.0000      0.142857  0.1820  -0.011       -0.001571\n",
       "5       mia_ny_sd  0.0211    6.4167      0.155844  0.1352  -0.058       -0.009039\n",
       "6   ny_sixers_was  0.0159    5.8974      0.169565  0.0935  -0.100       -0.016957\n",
       "7       ny_sd_was  0.0100    5.4060      0.184980  0.0541  -0.139       -0.025712"
      ]
     },
     "execution_count": 13,
     "metadata": {},
     "output_type": "execute_result"
    }
   ],
   "source": [
    "results['expected_value'] = results['implied_prob'] * results['profit']\n",
    "results[['event', 'bet', 'dec_odds', 'implied_prob', 'payout','profit', 'expected_value']].head(10)"
   ]
  },
  {
   "cell_type": "code",
   "execution_count": 14,
   "metadata": {
    "pycharm": {
     "name": "#%%\n"
    }
   },
   "outputs": [
    {
     "name": "stdout",
     "output_type": "stream",
     "text": [
      "\n",
      "    Total Bet           : 0.1935\n",
      "    Total Expected value: -0.024344762232096834\n",
      "\n"
     ]
    }
   ],
   "source": [
    "\n",
    "print(f'''\n",
    "    Total Bet           : {results['bet'].sum()}\n",
    "    Total Expected value: {results['expected_value'].sum()}\n",
    "''')"
   ]
  },
  {
   "cell_type": "code",
   "execution_count": 19,
   "metadata": {},
   "outputs": [
    {
     "data": {
      "text/html": [
       "<div>\n",
       "<style scoped>\n",
       "    .dataframe tbody tr th:only-of-type {\n",
       "        vertical-align: middle;\n",
       "    }\n",
       "\n",
       "    .dataframe tbody tr th {\n",
       "        vertical-align: top;\n",
       "    }\n",
       "\n",
       "    .dataframe thead th {\n",
       "        text-align: right;\n",
       "    }\n",
       "</style>\n",
       "<table border=\"1\" class=\"dataframe\">\n",
       "  <thead>\n",
       "    <tr style=\"text-align: right;\">\n",
       "      <th></th>\n",
       "      <th>event</th>\n",
       "      <th>ml_odds</th>\n",
       "      <th>dec_odds</th>\n",
       "      <th>bet</th>\n",
       "      <th>implied_prob</th>\n",
       "      <th>payout</th>\n",
       "      <th>profit</th>\n",
       "      <th>expected_value</th>\n",
       "    </tr>\n",
       "  </thead>\n",
       "  <tbody>\n",
       "    <tr>\n",
       "      <th>0</th>\n",
       "      <td>mia_min_sixers</td>\n",
       "      <td>866.000000</td>\n",
       "      <td>9.6600</td>\n",
       "      <td>0.0278</td>\n",
       "      <td>0.103520</td>\n",
       "      <td>0.2683</td>\n",
       "      <td>0.075</td>\n",
       "      <td>0.007764</td>\n",
       "    </tr>\n",
       "    <tr>\n",
       "      <th>1</th>\n",
       "      <td>mia_min_sd</td>\n",
       "      <td>785.500000</td>\n",
       "      <td>8.8550</td>\n",
       "      <td>0.0303</td>\n",
       "      <td>0.112931</td>\n",
       "      <td>0.2683</td>\n",
       "      <td>0.075</td>\n",
       "      <td>0.008470</td>\n",
       "    </tr>\n",
       "    <tr>\n",
       "      <th>2</th>\n",
       "      <td>min_sixers_was</td>\n",
       "      <td>713.846154</td>\n",
       "      <td>8.1385</td>\n",
       "      <td>0.0330</td>\n",
       "      <td>0.122873</td>\n",
       "      <td>0.2683</td>\n",
       "      <td>0.075</td>\n",
       "      <td>0.009216</td>\n",
       "    </tr>\n",
       "    <tr>\n",
       "      <th>3</th>\n",
       "      <td>min_sd_was</td>\n",
       "      <td>646.025641</td>\n",
       "      <td>7.4603</td>\n",
       "      <td>0.0294</td>\n",
       "      <td>0.134044</td>\n",
       "      <td>0.2190</td>\n",
       "      <td>0.026</td>\n",
       "      <td>0.003485</td>\n",
       "    </tr>\n",
       "    <tr>\n",
       "      <th>4</th>\n",
       "      <td>mia_ny_sixers</td>\n",
       "      <td>600.000000</td>\n",
       "      <td>7.0000</td>\n",
       "      <td>0.0260</td>\n",
       "      <td>0.142857</td>\n",
       "      <td>0.1820</td>\n",
       "      <td>-0.011</td>\n",
       "      <td>-0.001571</td>\n",
       "    </tr>\n",
       "    <tr>\n",
       "      <th>5</th>\n",
       "      <td>mia_ny_sd</td>\n",
       "      <td>541.666667</td>\n",
       "      <td>6.4167</td>\n",
       "      <td>0.0211</td>\n",
       "      <td>0.155844</td>\n",
       "      <td>0.1352</td>\n",
       "      <td>-0.058</td>\n",
       "      <td>-0.009039</td>\n",
       "    </tr>\n",
       "    <tr>\n",
       "      <th>6</th>\n",
       "      <td>ny_sixers_was</td>\n",
       "      <td>489.743590</td>\n",
       "      <td>5.8974</td>\n",
       "      <td>0.0159</td>\n",
       "      <td>0.169565</td>\n",
       "      <td>0.0935</td>\n",
       "      <td>-0.100</td>\n",
       "      <td>-0.016957</td>\n",
       "    </tr>\n",
       "    <tr>\n",
       "      <th>7</th>\n",
       "      <td>ny_sd_was</td>\n",
       "      <td>440.598291</td>\n",
       "      <td>5.4060</td>\n",
       "      <td>0.0100</td>\n",
       "      <td>0.184980</td>\n",
       "      <td>0.0541</td>\n",
       "      <td>-0.139</td>\n",
       "      <td>-0.025712</td>\n",
       "    </tr>\n",
       "  </tbody>\n",
       "</table>\n",
       "</div>"
      ],
      "text/plain": [
       "            event     ml_odds  dec_odds     bet  implied_prob  payout  profit  expected_value\n",
       "0  mia_min_sixers  866.000000    9.6600  0.0278      0.103520  0.2683   0.075        0.007764\n",
       "1      mia_min_sd  785.500000    8.8550  0.0303      0.112931  0.2683   0.075        0.008470\n",
       "2  min_sixers_was  713.846154    8.1385  0.0330      0.122873  0.2683   0.075        0.009216\n",
       "3      min_sd_was  646.025641    7.4603  0.0294      0.134044  0.2190   0.026        0.003485\n",
       "4   mia_ny_sixers  600.000000    7.0000  0.0260      0.142857  0.1820  -0.011       -0.001571\n",
       "5       mia_ny_sd  541.666667    6.4167  0.0211      0.155844  0.1352  -0.058       -0.009039\n",
       "6   ny_sixers_was  489.743590    5.8974  0.0159      0.169565  0.0935  -0.100       -0.016957\n",
       "7       ny_sd_was  440.598291    5.4060  0.0100      0.184980  0.0541  -0.139       -0.025712"
      ]
     },
     "execution_count": 19,
     "metadata": {},
     "output_type": "execute_result"
    }
   ],
   "source": [
    "all_results = results.loc[results['profit'] != 0.000000000] \n",
    "all_results"
   ]
  },
  {
   "cell_type": "code",
   "execution_count": 15,
   "metadata": {
    "pycharm": {
     "name": "#%%\n"
    }
   },
   "outputs": [
    {
     "data": {
      "text/html": [
       "<div>\n",
       "<style scoped>\n",
       "    .dataframe tbody tr th:only-of-type {\n",
       "        vertical-align: middle;\n",
       "    }\n",
       "\n",
       "    .dataframe tbody tr th {\n",
       "        vertical-align: top;\n",
       "    }\n",
       "\n",
       "    .dataframe thead th {\n",
       "        text-align: right;\n",
       "    }\n",
       "</style>\n",
       "<table border=\"1\" class=\"dataframe\">\n",
       "  <thead>\n",
       "    <tr style=\"text-align: right;\">\n",
       "      <th></th>\n",
       "      <th>event</th>\n",
       "      <th>ml_odds</th>\n",
       "      <th>dec_odds</th>\n",
       "      <th>bet</th>\n",
       "      <th>implied_prob</th>\n",
       "      <th>payout</th>\n",
       "      <th>profit</th>\n",
       "      <th>expected_value</th>\n",
       "    </tr>\n",
       "  </thead>\n",
       "  <tbody>\n",
       "    <tr>\n",
       "      <th>0</th>\n",
       "      <td>mia_min_sixers</td>\n",
       "      <td>866.000000</td>\n",
       "      <td>9.6600</td>\n",
       "      <td>0.0278</td>\n",
       "      <td>0.103520</td>\n",
       "      <td>0.2683</td>\n",
       "      <td>0.075</td>\n",
       "      <td>0.007764</td>\n",
       "    </tr>\n",
       "    <tr>\n",
       "      <th>1</th>\n",
       "      <td>mia_min_sd</td>\n",
       "      <td>785.500000</td>\n",
       "      <td>8.8550</td>\n",
       "      <td>0.0303</td>\n",
       "      <td>0.112931</td>\n",
       "      <td>0.2683</td>\n",
       "      <td>0.075</td>\n",
       "      <td>0.008470</td>\n",
       "    </tr>\n",
       "    <tr>\n",
       "      <th>2</th>\n",
       "      <td>min_sixers_was</td>\n",
       "      <td>713.846154</td>\n",
       "      <td>8.1385</td>\n",
       "      <td>0.0330</td>\n",
       "      <td>0.122873</td>\n",
       "      <td>0.2683</td>\n",
       "      <td>0.075</td>\n",
       "      <td>0.009216</td>\n",
       "    </tr>\n",
       "    <tr>\n",
       "      <th>3</th>\n",
       "      <td>min_sd_was</td>\n",
       "      <td>646.025641</td>\n",
       "      <td>7.4603</td>\n",
       "      <td>0.0294</td>\n",
       "      <td>0.134044</td>\n",
       "      <td>0.2190</td>\n",
       "      <td>0.026</td>\n",
       "      <td>0.003485</td>\n",
       "    </tr>\n",
       "  </tbody>\n",
       "</table>\n",
       "</div>"
      ],
      "text/plain": [
       "            event     ml_odds  dec_odds     bet  implied_prob  payout  profit  expected_value\n",
       "0  mia_min_sixers  866.000000    9.6600  0.0278      0.103520  0.2683   0.075        0.007764\n",
       "1      mia_min_sd  785.500000    8.8550  0.0303      0.112931  0.2683   0.075        0.008470\n",
       "2  min_sixers_was  713.846154    8.1385  0.0330      0.122873  0.2683   0.075        0.009216\n",
       "3      min_sd_was  646.025641    7.4603  0.0294      0.134044  0.2190   0.026        0.003485"
      ]
     },
     "execution_count": 15,
     "metadata": {},
     "output_type": "execute_result"
    }
   ],
   "source": [
    "pos_results = results.loc[results['profit'] > -0.005] \n",
    "pos_results"
   ]
  },
  {
   "cell_type": "code",
   "execution_count": 16,
   "metadata": {},
   "outputs": [
    {
     "data": {
      "text/plain": [
       "0.4733672124976473"
      ]
     },
     "execution_count": 16,
     "metadata": {},
     "output_type": "execute_result"
    }
   ],
   "source": [
    "pos_results['implied_prob'].sum()"
   ]
  }
 ],
 "metadata": {
  "interpreter": {
   "hash": "7f2eb1d2e80d0edcbfffa5e6e7b1da9cf64b46c836d91354f7bbc5d93327dc81"
  },
  "kernelspec": {
   "display_name": "Python 3 (ipykernel)",
   "language": "python",
   "name": "python3"
  },
  "language_info": {
   "codemirror_mode": {
    "name": "ipython",
    "version": 3
   },
   "file_extension": ".py",
   "mimetype": "text/x-python",
   "name": "python",
   "nbconvert_exporter": "python",
   "pygments_lexer": "ipython3",
   "version": "3.9.10"
  }
 },
 "nbformat": 4,
 "nbformat_minor": 1
}
