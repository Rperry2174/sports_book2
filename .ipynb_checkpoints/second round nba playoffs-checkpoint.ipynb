{
 "cells": [
  {
   "cell_type": "code",
   "execution_count": 1,
   "metadata": {},
   "outputs": [],
   "source": [
    "import os\n",
    "import numpy as np"
   ]
  },
  {
   "cell_type": "code",
   "execution_count": 2,
   "metadata": {},
   "outputs": [],
   "source": [
    "from classes.money_line import MoneyLine\n",
    "from classes.parlay_system import ParlaySystem"
   ]
  },
  {
   "cell_type": "code",
   "execution_count": 3,
   "metadata": {
    "pycharm": {
     "name": "#%%\n"
    }
   },
   "outputs": [],
   "source": [
    "match_a_team_1 = MoneyLine(event=\"clippers\",\n",
    "                           bet_amount=100,\n",
    "                           money_line_odds=-136)\n",
    "# match_a_team_1.df_stats"
   ]
  },
  {
   "cell_type": "code",
   "execution_count": 4,
   "metadata": {
    "pycharm": {
     "name": "#%%\n"
    }
   },
   "outputs": [],
   "source": [
    "match_a_team_2 = MoneyLine(event=\"mavs\",\n",
    "                           bet_amount=100,\n",
    "                           money_line_odds=114)\n",
    "# match_a_team_2.df_stats"
   ]
  },
  {
   "cell_type": "code",
   "execution_count": 5,
   "metadata": {
    "pycharm": {
     "name": "#%%\n"
    }
   },
   "outputs": [],
   "source": [
    "match_b_team_1 = MoneyLine(event=\"bucks\",\n",
    "                           bet_amount=100,\n",
    "                           money_line_odds=145)\n",
    "\n",
    "# match_b_team_1.df_stats"
   ]
  },
  {
   "cell_type": "code",
   "execution_count": 6,
   "metadata": {
    "pycharm": {
     "name": "#%%\n"
    }
   },
   "outputs": [],
   "source": [
    "match_b_team_2 = MoneyLine(event=\"nets\",\n",
    "                           bet_amount=100,\n",
    "                           money_line_odds=-177)\n",
    "\n",
    "# match_b_team_2.df_stats"
   ]
  },
  {
   "cell_type": "code",
   "execution_count": 7,
   "metadata": {
    "pycharm": {
     "name": "#%%\n"
    }
   },
   "outputs": [],
   "source": [
    "match_c_team_1 = MoneyLine(event=\"hawks\",\n",
    "                           bet_amount=100,\n",
    "                           money_line_odds=116)\n",
    "\n",
    "# match_c_team_1.df_stats"
   ]
  },
  {
   "cell_type": "code",
   "execution_count": 8,
   "metadata": {},
   "outputs": [],
   "source": [
    "match_c_team_2 = MoneyLine(event=\"sixers\",\n",
    "                           bet_amount=100,\n",
    "                           money_line_odds=-137)\n",
    "\n",
    "# match_c_team_2.df_stats"
   ]
  },
  {
   "cell_type": "code",
   "execution_count": 9,
   "metadata": {
    "pycharm": {
     "name": "#%%\n"
    }
   },
   "outputs": [],
   "source": [
    "binaries = [\n",
    "    [match_a_team_1, match_a_team_2],\n",
    "    [match_b_team_1, match_b_team_2],\n",
    "    [match_c_team_1, match_c_team_2]\n",
    "]"
   ]
  },
  {
   "cell_type": "code",
   "execution_count": 31,
   "metadata": {
    "pycharm": {
     "name": "#%%\n"
    }
   },
   "outputs": [
    {
     "name": "stdout",
     "output_type": "stream",
     "text": [
      "\n",
      "            constraints:\n",
      "            [{'type': 'ineq', 'fun': <function ParlaySystem.slsqp_solver.<locals>.<listcomp>.<lambda> at 0x13e6a8290>}, {'type': 'ineq', 'fun': <function ParlaySystem.slsqp_solver.<locals>.<listcomp>.<lambda> at 0x13e6a8320>}, {'type': 'ineq', 'fun': <function ParlaySystem.slsqp_solver.<locals>.<listcomp>.<lambda> at 0x13e6a83b0>}, {'type': 'ineq', 'fun': <function ParlaySystem.slsqp_solver.<locals>.<listcomp>.<lambda> at 0x13e753680>}, {'type': 'ineq', 'fun': <function ParlaySystem.slsqp_solver.<locals>.<listcomp>.<lambda> at 0x13e753710>}, {'type': 'ineq', 'fun': <function ParlaySystem.slsqp_solver.<locals>.<listcomp>.<lambda> at 0x13e753c20>}, {'type': 'ineq', 'fun': <function ParlaySystem.slsqp_solver.<locals>.<listcomp>.<lambda> at 0x13e753d40>}, {'type': 'ineq', 'fun': <function ParlaySystem.slsqp_solver.<locals>.<listcomp>.<lambda> at 0x13e753cb0>}]\n",
      "        \n",
      "\n",
      "            final_val:\n",
      "                 fun: 0.003337778497308015\n",
      "     jac: array([0.01719936, 0.01719936, 0.01719936, 0.01719936, 0.01719936,\n",
      "       0.01719936, 0.01719936, 0.01719936])\n",
      " message: 'Positive directional derivative for linesearch'\n",
      "    nfev: 433\n",
      "     nit: 33\n",
      "    njev: 29\n",
      "  status: 8\n",
      " success: False\n",
      "       x: array([0.02375867, 0.02929968, 0.02966526, 0.0301435 , 0.02954865,\n",
      "       0.02110279, 0.02054556, 0.01      ])\n",
      "        \n",
      "\n",
      "            ['bucks_hawks_mavs', 'bucks_clippers_hawks', 'bucks_mavs_sixers', 'bucks_clippers_sixers', 'hawks_mavs_nets', 'clippers_hawks_nets', 'mavs_nets_sixers', 'clippers_nets_sixers']\n",
      "            [1032.488, 818.3176470588237, 807.0007299270072, 635.4733791326751, 623.3925423728814, 486.5882352941177, 479.3593962637634, 369.79390296264495]\n",
      "            [0.0238, 0.0293, 0.0297, 0.0301, 0.0295, 0.0211, 0.0205, 0.01]\n",
      "            [11.3249, 9.1832, 9.07, 7.3547, 7.2339, 5.8659, 5.7936, 4.6979]\n",
      "            [0.08830115639194411, 0.10889478201826869, 0.11025349451267553, 0.13596685187698765, 0.1382375323803847, 0.17047733654231847, 0.17260443283545757, 0.21285929717132018]\n",
      "            [0.2691, 0.2691, 0.2691, 0.2217, 0.2138, 0.1238, 0.119, 0.047]\n",
      "            [0.075, 0.075, 0.075, 0.028, 0.02, -0.07, -0.075, -0.147]\n",
      "        \n",
      "\n",
      "            Parlay system total bet 0.19:\n",
      "        \n"
     ]
    }
   ],
   "source": [
    "parlay_system = ParlaySystem(binaries=binaries,\n",
    "                             target_profit=0.075,\n",
    "                             bounds=(0.01, 50))\n",
    "\n",
    "results = parlay_system.slsqp_solver(profit_type='avg_implied_profit')\n",
    "# results = parlay_system.slsqp_solver(profit_type='avg_profit')"
   ]
  },
  {
   "cell_type": "code",
   "execution_count": 32,
   "metadata": {
    "pycharm": {
     "name": "#%%\n"
    }
   },
   "outputs": [],
   "source": [
    "results.head(10)\n",
    "results.to_csv('/Users/ramp/Desktop/projects/sports_book2/data/spread_betting.csv', header=True, index=False)\n",
    "\n",
    "# results_implied_profit.head(10)"
   ]
  },
  {
   "cell_type": "code",
   "execution_count": 33,
   "metadata": {
    "pycharm": {
     "name": "#%%\n"
    }
   },
   "outputs": [
    {
     "name": "stdout",
     "output_type": "stream",
     "text": [
      "\n",
      "    Total Bet Amount: 0.194\n",
      "    Total Implied Probability: 1.1375948837293568\n",
      "    Average Profit: -0.002374999999999995\n",
      "\n"
     ]
    }
   ],
   "source": [
    "print(f'''\n",
    "    Total Bet Amount: {results['bet'].sum()}\n",
    "    Total Implied Probability: {results['implied_prob'].sum()}\n",
    "    Average Profit: {results['profit'].mean()}\n",
    "''')"
   ]
  },
  {
   "cell_type": "code",
   "execution_count": 34,
   "metadata": {
    "pycharm": {
     "name": "#%%\n"
    }
   },
   "outputs": [
    {
     "data": {
      "text/html": [
       "<div>\n",
       "<style scoped>\n",
       "    .dataframe tbody tr th:only-of-type {\n",
       "        vertical-align: middle;\n",
       "    }\n",
       "\n",
       "    .dataframe tbody tr th {\n",
       "        vertical-align: top;\n",
       "    }\n",
       "\n",
       "    .dataframe thead th {\n",
       "        text-align: right;\n",
       "    }\n",
       "</style>\n",
       "<table border=\"1\" class=\"dataframe\">\n",
       "  <thead>\n",
       "    <tr style=\"text-align: right;\">\n",
       "      <th></th>\n",
       "      <th>event</th>\n",
       "      <th>bet</th>\n",
       "      <th>dec_odds</th>\n",
       "      <th>implied_prob</th>\n",
       "      <th>payout</th>\n",
       "      <th>profit</th>\n",
       "      <th>expected_value</th>\n",
       "    </tr>\n",
       "  </thead>\n",
       "  <tbody>\n",
       "    <tr>\n",
       "      <th>0</th>\n",
       "      <td>bucks_hawks_mavs</td>\n",
       "      <td>0.0238</td>\n",
       "      <td>11.3249</td>\n",
       "      <td>0.088301</td>\n",
       "      <td>0.2691</td>\n",
       "      <td>0.075</td>\n",
       "      <td>0.006623</td>\n",
       "    </tr>\n",
       "    <tr>\n",
       "      <th>1</th>\n",
       "      <td>bucks_clippers_hawks</td>\n",
       "      <td>0.0293</td>\n",
       "      <td>9.1832</td>\n",
       "      <td>0.108895</td>\n",
       "      <td>0.2691</td>\n",
       "      <td>0.075</td>\n",
       "      <td>0.008167</td>\n",
       "    </tr>\n",
       "    <tr>\n",
       "      <th>2</th>\n",
       "      <td>bucks_mavs_sixers</td>\n",
       "      <td>0.0297</td>\n",
       "      <td>9.0700</td>\n",
       "      <td>0.110253</td>\n",
       "      <td>0.2691</td>\n",
       "      <td>0.075</td>\n",
       "      <td>0.008269</td>\n",
       "    </tr>\n",
       "    <tr>\n",
       "      <th>3</th>\n",
       "      <td>bucks_clippers_sixers</td>\n",
       "      <td>0.0301</td>\n",
       "      <td>7.3547</td>\n",
       "      <td>0.135967</td>\n",
       "      <td>0.2217</td>\n",
       "      <td>0.028</td>\n",
       "      <td>0.003807</td>\n",
       "    </tr>\n",
       "    <tr>\n",
       "      <th>4</th>\n",
       "      <td>hawks_mavs_nets</td>\n",
       "      <td>0.0295</td>\n",
       "      <td>7.2339</td>\n",
       "      <td>0.138238</td>\n",
       "      <td>0.2138</td>\n",
       "      <td>0.020</td>\n",
       "      <td>0.002765</td>\n",
       "    </tr>\n",
       "    <tr>\n",
       "      <th>5</th>\n",
       "      <td>clippers_hawks_nets</td>\n",
       "      <td>0.0211</td>\n",
       "      <td>5.8659</td>\n",
       "      <td>0.170477</td>\n",
       "      <td>0.1238</td>\n",
       "      <td>-0.070</td>\n",
       "      <td>-0.011933</td>\n",
       "    </tr>\n",
       "    <tr>\n",
       "      <th>6</th>\n",
       "      <td>mavs_nets_sixers</td>\n",
       "      <td>0.0205</td>\n",
       "      <td>5.7936</td>\n",
       "      <td>0.172604</td>\n",
       "      <td>0.1190</td>\n",
       "      <td>-0.075</td>\n",
       "      <td>-0.012945</td>\n",
       "    </tr>\n",
       "    <tr>\n",
       "      <th>7</th>\n",
       "      <td>clippers_nets_sixers</td>\n",
       "      <td>0.0100</td>\n",
       "      <td>4.6979</td>\n",
       "      <td>0.212859</td>\n",
       "      <td>0.0470</td>\n",
       "      <td>-0.147</td>\n",
       "      <td>-0.031290</td>\n",
       "    </tr>\n",
       "  </tbody>\n",
       "</table>\n",
       "</div>"
      ],
      "text/plain": [
       "                   event     bet  dec_odds  implied_prob  payout  profit  expected_value\n",
       "0       bucks_hawks_mavs  0.0238   11.3249      0.088301  0.2691   0.075        0.006623\n",
       "1   bucks_clippers_hawks  0.0293    9.1832      0.108895  0.2691   0.075        0.008167\n",
       "2      bucks_mavs_sixers  0.0297    9.0700      0.110253  0.2691   0.075        0.008269\n",
       "3  bucks_clippers_sixers  0.0301    7.3547      0.135967  0.2217   0.028        0.003807\n",
       "4        hawks_mavs_nets  0.0295    7.2339      0.138238  0.2138   0.020        0.002765\n",
       "5    clippers_hawks_nets  0.0211    5.8659      0.170477  0.1238  -0.070       -0.011933\n",
       "6       mavs_nets_sixers  0.0205    5.7936      0.172604  0.1190  -0.075       -0.012945\n",
       "7   clippers_nets_sixers  0.0100    4.6979      0.212859  0.0470  -0.147       -0.031290"
      ]
     },
     "execution_count": 34,
     "metadata": {},
     "output_type": "execute_result"
    }
   ],
   "source": [
    "results['expected_value'] = results['implied_prob'] * results['profit']\n",
    "results[['event', 'bet', 'dec_odds', 'implied_prob', 'payout','profit', 'expected_value']].head(10)"
   ]
  },
  {
   "cell_type": "code",
   "execution_count": 35,
   "metadata": {
    "pycharm": {
     "name": "#%%\n"
    }
   },
   "outputs": [
    {
     "name": "stdout",
     "output_type": "stream",
     "text": [
      "\n",
      "    Total Bet           : 0.194\n",
      "    Total Expected value: -0.0265385327354257\n",
      "\n"
     ]
    }
   ],
   "source": [
    "\n",
    "print(f'''\n",
    "    Total Bet           : {results['bet'].sum()}\n",
    "    Total Expected value: {results['expected_value'].sum()}\n",
    "''')"
   ]
  },
  {
   "cell_type": "code",
   "execution_count": 36,
   "metadata": {
    "pycharm": {
     "name": "#%%\n"
    }
   },
   "outputs": [
    {
     "data": {
      "text/html": [
       "<div>\n",
       "<style scoped>\n",
       "    .dataframe tbody tr th:only-of-type {\n",
       "        vertical-align: middle;\n",
       "    }\n",
       "\n",
       "    .dataframe tbody tr th {\n",
       "        vertical-align: top;\n",
       "    }\n",
       "\n",
       "    .dataframe thead th {\n",
       "        text-align: right;\n",
       "    }\n",
       "</style>\n",
       "<table border=\"1\" class=\"dataframe\">\n",
       "  <thead>\n",
       "    <tr style=\"text-align: right;\">\n",
       "      <th></th>\n",
       "      <th>event</th>\n",
       "      <th>ml_odds</th>\n",
       "      <th>dec_odds</th>\n",
       "      <th>bet</th>\n",
       "      <th>implied_prob</th>\n",
       "      <th>payout</th>\n",
       "      <th>profit</th>\n",
       "      <th>expected_value</th>\n",
       "    </tr>\n",
       "  </thead>\n",
       "  <tbody>\n",
       "    <tr>\n",
       "      <th>0</th>\n",
       "      <td>bucks_hawks_mavs</td>\n",
       "      <td>1032.488000</td>\n",
       "      <td>11.3249</td>\n",
       "      <td>0.0238</td>\n",
       "      <td>0.088301</td>\n",
       "      <td>0.2691</td>\n",
       "      <td>0.075</td>\n",
       "      <td>0.006623</td>\n",
       "    </tr>\n",
       "    <tr>\n",
       "      <th>1</th>\n",
       "      <td>bucks_clippers_hawks</td>\n",
       "      <td>818.317647</td>\n",
       "      <td>9.1832</td>\n",
       "      <td>0.0293</td>\n",
       "      <td>0.108895</td>\n",
       "      <td>0.2691</td>\n",
       "      <td>0.075</td>\n",
       "      <td>0.008167</td>\n",
       "    </tr>\n",
       "    <tr>\n",
       "      <th>2</th>\n",
       "      <td>bucks_mavs_sixers</td>\n",
       "      <td>807.000730</td>\n",
       "      <td>9.0700</td>\n",
       "      <td>0.0297</td>\n",
       "      <td>0.110253</td>\n",
       "      <td>0.2691</td>\n",
       "      <td>0.075</td>\n",
       "      <td>0.008269</td>\n",
       "    </tr>\n",
       "    <tr>\n",
       "      <th>3</th>\n",
       "      <td>bucks_clippers_sixers</td>\n",
       "      <td>635.473379</td>\n",
       "      <td>7.3547</td>\n",
       "      <td>0.0301</td>\n",
       "      <td>0.135967</td>\n",
       "      <td>0.2217</td>\n",
       "      <td>0.028</td>\n",
       "      <td>0.003807</td>\n",
       "    </tr>\n",
       "    <tr>\n",
       "      <th>4</th>\n",
       "      <td>hawks_mavs_nets</td>\n",
       "      <td>623.392542</td>\n",
       "      <td>7.2339</td>\n",
       "      <td>0.0295</td>\n",
       "      <td>0.138238</td>\n",
       "      <td>0.2138</td>\n",
       "      <td>0.020</td>\n",
       "      <td>0.002765</td>\n",
       "    </tr>\n",
       "  </tbody>\n",
       "</table>\n",
       "</div>"
      ],
      "text/plain": [
       "                   event      ml_odds  dec_odds     bet  implied_prob  payout  profit  expected_value\n",
       "0       bucks_hawks_mavs  1032.488000   11.3249  0.0238      0.088301  0.2691   0.075        0.006623\n",
       "1   bucks_clippers_hawks   818.317647    9.1832  0.0293      0.108895  0.2691   0.075        0.008167\n",
       "2      bucks_mavs_sixers   807.000730    9.0700  0.0297      0.110253  0.2691   0.075        0.008269\n",
       "3  bucks_clippers_sixers   635.473379    7.3547  0.0301      0.135967  0.2217   0.028        0.003807\n",
       "4        hawks_mavs_nets   623.392542    7.2339  0.0295      0.138238  0.2138   0.020        0.002765"
      ]
     },
     "execution_count": 36,
     "metadata": {},
     "output_type": "execute_result"
    }
   ],
   "source": [
    "pos_results = results.loc[results['profit'] > -0.005] \n",
    "pos_results"
   ]
  },
  {
   "cell_type": "code",
   "execution_count": 37,
   "metadata": {},
   "outputs": [
    {
     "data": {
      "text/plain": [
       "0.5816538171802607"
      ]
     },
     "execution_count": 37,
     "metadata": {},
     "output_type": "execute_result"
    }
   ],
   "source": [
    "pos_results['implied_prob'].sum()"
   ]
  },
  {
   "cell_type": "code",
   "execution_count": null,
   "metadata": {},
   "outputs": [],
   "source": []
  }
 ],
 "metadata": {
  "kernelspec": {
   "display_name": "Python 3",
   "language": "python",
   "name": "python3"
  },
  "language_info": {
   "codemirror_mode": {
    "name": "ipython",
    "version": 3
   },
   "file_extension": ".py",
   "mimetype": "text/x-python",
   "name": "python",
   "nbconvert_exporter": "python",
   "pygments_lexer": "ipython3",
   "version": "3.7.10"
  }
 },
 "nbformat": 4,
 "nbformat_minor": 1
}
