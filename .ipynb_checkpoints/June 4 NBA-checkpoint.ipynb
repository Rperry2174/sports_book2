{
 "cells": [
  {
   "cell_type": "code",
   "execution_count": 26,
   "metadata": {},
   "outputs": [],
   "source": [
    "import os\n",
    "import numpy as np"
   ]
  },
  {
   "cell_type": "code",
   "execution_count": 27,
   "metadata": {},
   "outputs": [],
   "source": [
    "from classes.money_line import MoneyLine\n",
    "from classes.parlay_system import ParlaySystem"
   ]
  },
  {
   "cell_type": "code",
   "execution_count": 28,
   "metadata": {
    "pycharm": {
     "name": "#%%\n"
    }
   },
   "outputs": [],
   "source": [
    "match_a_team_1 = MoneyLine(event=\"nuggets\",\n",
    "                           bet_amount=100,\n",
    "                           money_line_odds=170)\n",
    "# match_a_team_1.df_stats"
   ]
  },
  {
   "cell_type": "code",
   "execution_count": 29,
   "metadata": {
    "pycharm": {
     "name": "#%%\n"
    }
   },
   "outputs": [],
   "source": [
    "match_a_team_2 = MoneyLine(event=\"blazers\",\n",
    "                           bet_amount=100,\n",
    "                           money_line_odds=-210)\n",
    "# match_a_team_2.df_stats"
   ]
  },
  {
   "cell_type": "code",
   "execution_count": 30,
   "metadata": {
    "pycharm": {
     "name": "#%%\n"
    }
   },
   "outputs": [],
   "source": [
    "match_b_team_1 = MoneyLine(event=\"suns\",\n",
    "                           bet_amount=100,\n",
    "                           money_line_odds=114)\n",
    "\n",
    "# match_b_team_1.df_stats"
   ]
  },
  {
   "cell_type": "code",
   "execution_count": 31,
   "metadata": {
    "pycharm": {
     "name": "#%%\n"
    }
   },
   "outputs": [],
   "source": [
    "match_b_team_2 = MoneyLine(event=\"lakers\",\n",
    "                           bet_amount=100,\n",
    "                           money_line_odds=-136)\n",
    "\n",
    "# match_b_team_2.df_stats"
   ]
  },
  {
   "cell_type": "code",
   "execution_count": 32,
   "metadata": {
    "pycharm": {
     "name": "#%%\n"
    }
   },
   "outputs": [],
   "source": [
    "match_c_team_1 = MoneyLine(event=\"clippers\",\n",
    "                           bet_amount=100,\n",
    "                           money_line_odds=-136)\n",
    "\n",
    "# match_c_team_1.df_stats"
   ]
  },
  {
   "cell_type": "code",
   "execution_count": 33,
   "metadata": {},
   "outputs": [],
   "source": [
    "match_c_team_2 = MoneyLine(event=\"mavs\",\n",
    "                           bet_amount=100,\n",
    "                           money_line_odds=114)\n",
    "\n",
    "# match_c_team_2.df_stats"
   ]
  },
  {
   "cell_type": "code",
   "execution_count": 34,
   "metadata": {
    "pycharm": {
     "name": "#%%\n"
    }
   },
   "outputs": [],
   "source": [
    "binaries = [\n",
    "    [match_a_team_1, match_a_team_2],\n",
    "    [match_b_team_1, match_b_team_2],\n",
    "    [match_c_team_1, match_c_team_2]\n",
    "]"
   ]
  },
  {
   "cell_type": "code",
   "execution_count": 57,
   "metadata": {
    "pycharm": {
     "name": "#%%\n"
    }
   },
   "outputs": [
    {
     "name": "stdout",
     "output_type": "stream",
     "text": [
      "\n",
      "            constraints:\n",
      "            [{'type': 'ineq', 'fun': <function ParlaySystem.slsqp_solver.<locals>.<listcomp>.<lambda> at 0x1391907a0>}, {'type': 'ineq', 'fun': <function ParlaySystem.slsqp_solver.<locals>.<listcomp>.<lambda> at 0x139190b00>}, {'type': 'ineq', 'fun': <function ParlaySystem.slsqp_solver.<locals>.<listcomp>.<lambda> at 0x139190b90>}, {'type': 'ineq', 'fun': <function ParlaySystem.slsqp_solver.<locals>.<listcomp>.<lambda> at 0x139190c20>}, {'type': 'ineq', 'fun': <function ParlaySystem.slsqp_solver.<locals>.<listcomp>.<lambda> at 0x139190cb0>}, {'type': 'ineq', 'fun': <function ParlaySystem.slsqp_solver.<locals>.<listcomp>.<lambda> at 0x139190d40>}, {'type': 'ineq', 'fun': <function ParlaySystem.slsqp_solver.<locals>.<listcomp>.<lambda> at 0x139190dd0>}, {'type': 'ineq', 'fun': <function ParlaySystem.slsqp_solver.<locals>.<listcomp>.<lambda> at 0x138ff1050>}]\n",
      "        \n",
      "\n",
      "            final_val:\n",
      "                 fun: 0.0030609285827983093\n",
      "     jac: array([0.01763291, 0.01763291, 0.01763291, 0.01763291, 0.01763291,\n",
      "       0.01763291, 0.01763291, 0.01763291])\n",
      " message: 'Positive directional derivative for linesearch'\n",
      "    nfev: 234\n",
      "     nit: 19\n",
      "    njev: 15\n",
      "  status: 8\n",
      " success: False\n",
      "       x: array([0.0201046 , 0.0247934 , 0.0247934 , 0.03057573, 0.02583546,\n",
      "       0.01874459, 0.01874459, 0.01      ])\n",
      "        \n",
      "\n",
      "            ['mavs_nuggets_suns', 'clippers_nuggets_suns', 'lakers_mavs_nuggets', 'clippers_lakers_nuggets', 'blazers_mavs_suns', 'blazers_clippers_suns', 'blazers_lakers_mavs', 'blazers_clippers_lakers']\n",
      "            [1136.4919999999997, 902.6529411764706, 902.6529411764704, 713.0363321799308, 576.0361904761903, 448.1876750700279, 448.1876750700279, 344.5172186521668]\n",
      "            [0.0201, 0.0248, 0.0248, 0.0306, 0.0258, 0.0187, 0.0187, 0.01]\n",
      "            [12.3649, 10.0265, 10.0265, 8.1304, 6.7604, 5.4819, 5.4819, 4.4452]\n",
      "            [0.08087395632159369, 0.0997354078298162, 0.09973540782981621, 0.12299573345249874, 0.14792107494949555, 0.18241927819195417, 0.18241927819195417, 0.2249631640889251]\n",
      "            [0.2486, 0.2486, 0.2486, 0.2486, 0.1747, 0.1028, 0.1028, 0.0445]\n",
      "            [0.075, 0.075, 0.075, 0.075, 0.001, -0.071, -0.071, -0.129]\n",
      "        \n",
      "\n",
      "            Parlay system total bet 0.17:\n",
      "        \n"
     ]
    }
   ],
   "source": [
    "parlay_system = ParlaySystem(binaries=binaries,\n",
    "                             target_profit=0.075,\n",
    "                             bounds=(0.01, 50))\n",
    "\n",
    "results = parlay_system.slsqp_solver(profit_type='avg_implied_profit')\n",
    "# results = parlay_system.slsqp_solver(profit_type='avg_profit')"
   ]
  },
  {
   "cell_type": "code",
   "execution_count": 58,
   "metadata": {
    "pycharm": {
     "name": "#%%\n"
    }
   },
   "outputs": [],
   "source": [
    "results.head(10)\n",
    "results.to_csv('/Users/ramp/Desktop/projects/sports_book2/data/spread_betting.csv', header=True, index=False)\n",
    "\n",
    "# results_implied_profit.head(10)"
   ]
  },
  {
   "cell_type": "code",
   "execution_count": 59,
   "metadata": {
    "pycharm": {
     "name": "#%%\n"
    }
   },
   "outputs": [
    {
     "name": "stdout",
     "output_type": "stream",
     "text": [
      "\n",
      "    Total Bet Amount: 0.1735\n",
      "    Total Implied Probability: 1.1410633008560538\n",
      "    Average Profit: 0.0037499999999999964\n",
      "\n"
     ]
    }
   ],
   "source": [
    "print(f'''\n",
    "    Total Bet Amount: {results['bet'].sum()}\n",
    "    Total Implied Probability: {results['implied_prob'].sum()}\n",
    "    Average Profit: {results['profit'].mean()}\n",
    "''')"
   ]
  },
  {
   "cell_type": "code",
   "execution_count": 70,
   "metadata": {
    "pycharm": {
     "name": "#%%\n"
    }
   },
   "outputs": [
    {
     "data": {
      "text/html": [
       "<div>\n",
       "<style scoped>\n",
       "    .dataframe tbody tr th:only-of-type {\n",
       "        vertical-align: middle;\n",
       "    }\n",
       "\n",
       "    .dataframe tbody tr th {\n",
       "        vertical-align: top;\n",
       "    }\n",
       "\n",
       "    .dataframe thead th {\n",
       "        text-align: right;\n",
       "    }\n",
       "</style>\n",
       "<table border=\"1\" class=\"dataframe\">\n",
       "  <thead>\n",
       "    <tr style=\"text-align: right;\">\n",
       "      <th></th>\n",
       "      <th>event</th>\n",
       "      <th>bet</th>\n",
       "      <th>dec_odds</th>\n",
       "      <th>implied_prob</th>\n",
       "      <th>payout</th>\n",
       "      <th>profit</th>\n",
       "      <th>expected_value</th>\n",
       "    </tr>\n",
       "  </thead>\n",
       "  <tbody>\n",
       "    <tr>\n",
       "      <th>0</th>\n",
       "      <td>mavs_nuggets_suns</td>\n",
       "      <td>0.0201</td>\n",
       "      <td>12.3649</td>\n",
       "      <td>0.080874</td>\n",
       "      <td>0.2486</td>\n",
       "      <td>0.075</td>\n",
       "      <td>0.006066</td>\n",
       "    </tr>\n",
       "    <tr>\n",
       "      <th>1</th>\n",
       "      <td>clippers_nuggets_suns</td>\n",
       "      <td>0.0248</td>\n",
       "      <td>10.0265</td>\n",
       "      <td>0.099735</td>\n",
       "      <td>0.2486</td>\n",
       "      <td>0.075</td>\n",
       "      <td>0.007480</td>\n",
       "    </tr>\n",
       "    <tr>\n",
       "      <th>2</th>\n",
       "      <td>lakers_mavs_nuggets</td>\n",
       "      <td>0.0248</td>\n",
       "      <td>10.0265</td>\n",
       "      <td>0.099735</td>\n",
       "      <td>0.2486</td>\n",
       "      <td>0.075</td>\n",
       "      <td>0.007480</td>\n",
       "    </tr>\n",
       "    <tr>\n",
       "      <th>3</th>\n",
       "      <td>clippers_lakers_nuggets</td>\n",
       "      <td>0.0306</td>\n",
       "      <td>8.1304</td>\n",
       "      <td>0.122996</td>\n",
       "      <td>0.2486</td>\n",
       "      <td>0.075</td>\n",
       "      <td>0.009225</td>\n",
       "    </tr>\n",
       "    <tr>\n",
       "      <th>4</th>\n",
       "      <td>blazers_mavs_suns</td>\n",
       "      <td>0.0258</td>\n",
       "      <td>6.7604</td>\n",
       "      <td>0.147921</td>\n",
       "      <td>0.1747</td>\n",
       "      <td>0.001</td>\n",
       "      <td>0.000148</td>\n",
       "    </tr>\n",
       "    <tr>\n",
       "      <th>5</th>\n",
       "      <td>blazers_clippers_suns</td>\n",
       "      <td>0.0187</td>\n",
       "      <td>5.4819</td>\n",
       "      <td>0.182419</td>\n",
       "      <td>0.1028</td>\n",
       "      <td>-0.071</td>\n",
       "      <td>-0.012952</td>\n",
       "    </tr>\n",
       "    <tr>\n",
       "      <th>6</th>\n",
       "      <td>blazers_lakers_mavs</td>\n",
       "      <td>0.0187</td>\n",
       "      <td>5.4819</td>\n",
       "      <td>0.182419</td>\n",
       "      <td>0.1028</td>\n",
       "      <td>-0.071</td>\n",
       "      <td>-0.012952</td>\n",
       "    </tr>\n",
       "    <tr>\n",
       "      <th>7</th>\n",
       "      <td>blazers_clippers_lakers</td>\n",
       "      <td>0.0100</td>\n",
       "      <td>4.4452</td>\n",
       "      <td>0.224963</td>\n",
       "      <td>0.0445</td>\n",
       "      <td>-0.129</td>\n",
       "      <td>-0.029020</td>\n",
       "    </tr>\n",
       "  </tbody>\n",
       "</table>\n",
       "</div>"
      ],
      "text/plain": [
       "                     event     bet  dec_odds  implied_prob  payout  profit  expected_value\n",
       "0        mavs_nuggets_suns  0.0201   12.3649      0.080874  0.2486   0.075        0.006066\n",
       "1    clippers_nuggets_suns  0.0248   10.0265      0.099735  0.2486   0.075        0.007480\n",
       "2      lakers_mavs_nuggets  0.0248   10.0265      0.099735  0.2486   0.075        0.007480\n",
       "3  clippers_lakers_nuggets  0.0306    8.1304      0.122996  0.2486   0.075        0.009225\n",
       "4        blazers_mavs_suns  0.0258    6.7604      0.147921  0.1747   0.001        0.000148\n",
       "5    blazers_clippers_suns  0.0187    5.4819      0.182419  0.1028  -0.071       -0.012952\n",
       "6      blazers_lakers_mavs  0.0187    5.4819      0.182419  0.1028  -0.071       -0.012952\n",
       "7  blazers_clippers_lakers  0.0100    4.4452      0.224963  0.0445  -0.129       -0.029020"
      ]
     },
     "execution_count": 70,
     "metadata": {},
     "output_type": "execute_result"
    }
   ],
   "source": [
    "results['expected_value'] = results['implied_prob'] * results['profit']\n",
    "results[['event', 'bet', 'dec_odds', 'implied_prob', 'payout','profit', 'expected_value']].head(10)"
   ]
  },
  {
   "cell_type": "code",
   "execution_count": 54,
   "metadata": {
    "pycharm": {
     "name": "#%%\n"
    }
   },
   "outputs": [
    {
     "name": "stdout",
     "output_type": "stream",
     "text": [
      "\n",
      "    Total Bet           : 0.2106\n",
      "    Total Expected value: -0.029914301176425746\n",
      "\n"
     ]
    }
   ],
   "source": [
    "\n",
    "print(f'''\n",
    "    Total Bet           : {results['bet'].sum()}\n",
    "    Total Expected value: {results['expected_value'].sum()}\n",
    "''')"
   ]
  },
  {
   "cell_type": "code",
   "execution_count": 68,
   "metadata": {
    "pycharm": {
     "name": "#%%\n"
    }
   },
   "outputs": [
    {
     "data": {
      "text/html": [
       "<div>\n",
       "<style scoped>\n",
       "    .dataframe tbody tr th:only-of-type {\n",
       "        vertical-align: middle;\n",
       "    }\n",
       "\n",
       "    .dataframe tbody tr th {\n",
       "        vertical-align: top;\n",
       "    }\n",
       "\n",
       "    .dataframe thead th {\n",
       "        text-align: right;\n",
       "    }\n",
       "</style>\n",
       "<table border=\"1\" class=\"dataframe\">\n",
       "  <thead>\n",
       "    <tr style=\"text-align: right;\">\n",
       "      <th></th>\n",
       "      <th>event</th>\n",
       "      <th>ml_odds</th>\n",
       "      <th>dec_odds</th>\n",
       "      <th>bet</th>\n",
       "      <th>implied_prob</th>\n",
       "      <th>payout</th>\n",
       "      <th>profit</th>\n",
       "      <th>expected_value</th>\n",
       "    </tr>\n",
       "  </thead>\n",
       "  <tbody>\n",
       "    <tr>\n",
       "      <th>0</th>\n",
       "      <td>mavs_nuggets_suns</td>\n",
       "      <td>1136.492000</td>\n",
       "      <td>12.3649</td>\n",
       "      <td>0.0201</td>\n",
       "      <td>0.080874</td>\n",
       "      <td>0.2486</td>\n",
       "      <td>0.075</td>\n",
       "      <td>0.006066</td>\n",
       "    </tr>\n",
       "    <tr>\n",
       "      <th>1</th>\n",
       "      <td>clippers_nuggets_suns</td>\n",
       "      <td>902.652941</td>\n",
       "      <td>10.0265</td>\n",
       "      <td>0.0248</td>\n",
       "      <td>0.099735</td>\n",
       "      <td>0.2486</td>\n",
       "      <td>0.075</td>\n",
       "      <td>0.007480</td>\n",
       "    </tr>\n",
       "    <tr>\n",
       "      <th>2</th>\n",
       "      <td>lakers_mavs_nuggets</td>\n",
       "      <td>902.652941</td>\n",
       "      <td>10.0265</td>\n",
       "      <td>0.0248</td>\n",
       "      <td>0.099735</td>\n",
       "      <td>0.2486</td>\n",
       "      <td>0.075</td>\n",
       "      <td>0.007480</td>\n",
       "    </tr>\n",
       "    <tr>\n",
       "      <th>3</th>\n",
       "      <td>clippers_lakers_nuggets</td>\n",
       "      <td>713.036332</td>\n",
       "      <td>8.1304</td>\n",
       "      <td>0.0306</td>\n",
       "      <td>0.122996</td>\n",
       "      <td>0.2486</td>\n",
       "      <td>0.075</td>\n",
       "      <td>0.009225</td>\n",
       "    </tr>\n",
       "    <tr>\n",
       "      <th>4</th>\n",
       "      <td>blazers_mavs_suns</td>\n",
       "      <td>576.036190</td>\n",
       "      <td>6.7604</td>\n",
       "      <td>0.0258</td>\n",
       "      <td>0.147921</td>\n",
       "      <td>0.1747</td>\n",
       "      <td>0.001</td>\n",
       "      <td>0.000148</td>\n",
       "    </tr>\n",
       "  </tbody>\n",
       "</table>\n",
       "</div>"
      ],
      "text/plain": [
       "                     event      ml_odds  dec_odds     bet  implied_prob  payout  profit  expected_value\n",
       "0        mavs_nuggets_suns  1136.492000   12.3649  0.0201      0.080874  0.2486   0.075        0.006066\n",
       "1    clippers_nuggets_suns   902.652941   10.0265  0.0248      0.099735  0.2486   0.075        0.007480\n",
       "2      lakers_mavs_nuggets   902.652941   10.0265  0.0248      0.099735  0.2486   0.075        0.007480\n",
       "3  clippers_lakers_nuggets   713.036332    8.1304  0.0306      0.122996  0.2486   0.075        0.009225\n",
       "4        blazers_mavs_suns   576.036190    6.7604  0.0258      0.147921  0.1747   0.001        0.000148"
      ]
     },
     "execution_count": 68,
     "metadata": {},
     "output_type": "execute_result"
    }
   ],
   "source": [
    "pos_results = results.loc[results['profit'] > -0.005] \n",
    "pos_results"
   ]
  },
  {
   "cell_type": "code",
   "execution_count": 69,
   "metadata": {},
   "outputs": [
    {
     "data": {
      "text/plain": [
       "0.5512615803832204"
      ]
     },
     "execution_count": 69,
     "metadata": {},
     "output_type": "execute_result"
    }
   ],
   "source": [
    "pos_results['implied_prob'].sum()"
   ]
  },
  {
   "cell_type": "code",
   "execution_count": null,
   "metadata": {},
   "outputs": [],
   "source": []
  }
 ],
 "metadata": {
  "kernelspec": {
   "display_name": "Python 3",
   "language": "python",
   "name": "python3"
  },
  "language_info": {
   "codemirror_mode": {
    "name": "ipython",
    "version": 3
   },
   "file_extension": ".py",
   "mimetype": "text/x-python",
   "name": "python",
   "nbconvert_exporter": "python",
   "pygments_lexer": "ipython3",
   "version": "3.7.10"
  }
 },
 "nbformat": 4,
 "nbformat_minor": 1
}
