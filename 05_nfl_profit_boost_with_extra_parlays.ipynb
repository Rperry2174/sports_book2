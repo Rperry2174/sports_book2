{
 "cells": [
  {
   "cell_type": "code",
   "execution_count": 54,
   "metadata": {},
   "outputs": [],
   "source": [
    "import os\n",
    "import numpy as np\n"
   ]
  },
  {
   "cell_type": "code",
   "execution_count": 55,
   "metadata": {},
   "outputs": [],
   "source": [
    "from classes.money_line import MoneyLine\n",
    "from classes.parlay import Parlay\n",
    "from classes.parlay_system import ParlaySystem"
   ]
  },
  {
   "cell_type": "code",
   "execution_count": 56,
   "metadata": {
    "pycharm": {
     "name": "#%%\n"
    }
   },
   "outputs": [],
   "source": [
    "match_a_team_1 = MoneyLine(event=\"KC\", \n",
    "                           bet_amount=100, \n",
    "                        #    money_line_odds=100) # with profit boost\n",
    "                           money_line_odds=-550)\n",
    "\n",
    "match_a_team_1_with_boost = MoneyLine(event=\"KC\", \n",
    "                                      bet_amount=100, \n",
    "                                      money_line_odds=100) # with profit boost\n",
    "\n",
    "\n",
    "extra_parlay = Parlay(money_line_arr=[match_a_team_1_with_boost], bet_amount=100)\n",
    "\n",
    "# match_a_team_1.df_stats\n"
   ]
  },
  {
   "cell_type": "code",
   "execution_count": 57,
   "metadata": {
    "pycharm": {
     "name": "#%%\n"
    }
   },
   "outputs": [],
   "source": [
    "match_a_team_2 = MoneyLine(event=\"ny\",\n",
    "                           bet_amount=100,\n",
    "                           money_line_odds=400)\n",
    "# match_a_team_2.df_stats"
   ]
  },
  {
   "cell_type": "code",
   "execution_count": 58,
   "metadata": {
    "pycharm": {
     "name": "#%%\n"
    }
   },
   "outputs": [],
   "source": [
    "match_b_team_1 = MoneyLine(event=\"pats\",\n",
    "                           bet_amount=100,\n",
    "                           money_line_odds=-190)\n",
    "\n",
    "# match_b_team_1.df_stats\n"
   ]
  },
  {
   "cell_type": "code",
   "execution_count": 59,
   "metadata": {
    "pycharm": {
     "name": "#%%\n"
    }
   },
   "outputs": [],
   "source": [
    "match_b_team_2 = MoneyLine(event=\"panthers\",\n",
    "                           bet_amount=100,\n",
    "                           money_line_odds=160)\n",
    "\n",
    "# match_b_team_2.df_stats"
   ]
  },
  {
   "cell_type": "code",
   "execution_count": 60,
   "metadata": {
    "pycharm": {
     "name": "#%%\n"
    }
   },
   "outputs": [],
   "source": [
    "match_c_team_1 = MoneyLine(event=\"ATL\",\n",
    "                           bet_amount=100,\n",
    "                           money_line_odds=215)\n",
    "\n",
    "# match_c_team_1.df_stats"
   ]
  },
  {
   "cell_type": "code",
   "execution_count": 61,
   "metadata": {},
   "outputs": [],
   "source": [
    "match_c_team_2 = MoneyLine(event=\"saints\",\n",
    "                           bet_amount=100,\n",
    "                           money_line_odds=-265)\n",
    "\n",
    "# match_c_team_2.df_stats"
   ]
  },
  {
   "cell_type": "code",
   "execution_count": 62,
   "metadata": {
    "pycharm": {
     "name": "#%%\n"
    }
   },
   "outputs": [],
   "source": [
    "binaries = [\n",
    "    [match_a_team_1, match_a_team_2],\n",
    "    [match_b_team_1, match_b_team_2],\n",
    "    [match_c_team_1, match_c_team_2]\n",
    "]"
   ]
  },
  {
   "cell_type": "code",
   "execution_count": 63,
   "metadata": {
    "pycharm": {
     "name": "#%%\n"
    }
   },
   "outputs": [
    {
     "name": "stdout",
     "output_type": "stream",
     "text": [
      "\n",
      "            constraints:\n",
      "            [{'type': 'ineq', 'fun': <function ParlaySystem.slsqp_solver.<locals>.<lambda> at 0x13612d290>}, {'type': 'ineq', 'fun': <function ParlaySystem.slsqp_solver.<locals>.<lambda> at 0x13612d8c0>}, {'type': 'ineq', 'fun': <function ParlaySystem.slsqp_solver.<locals>.<lambda> at 0x13612d4d0>}, {'type': 'ineq', 'fun': <function ParlaySystem.slsqp_solver.<locals>.<lambda> at 0x1360db4d0>}, {'type': 'ineq', 'fun': <function ParlaySystem.slsqp_solver.<locals>.<lambda> at 0x136002ef0>}, {'type': 'ineq', 'fun': <function ParlaySystem.slsqp_solver.<locals>.<lambda> at 0x1360b88c0>}, {'type': 'ineq', 'fun': <function ParlaySystem.slsqp_solver.<locals>.<lambda> at 0x136161f80>}, {'type': 'ineq', 'fun': <function ParlaySystem.slsqp_solver.<locals>.<lambda> at 0x136161ef0>}, {'type': 'ineq', 'fun': <function ParlaySystem.slsqp_solver.<locals>.<lambda> at 0x136161e60>}]\n",
      "\n",
      "            bounds:\n",
      "            ((0.01, 50), (0.01, 50), (0.01, 50), (0.01, 50), (0.01, 50), (0.01, 50), (0.01, 50), (0.01, 50), (0.01, 50))\n",
      "        \n",
      "looiking at x: [1. 1. 1. 1. 1. 1. 1. 1. 1.]\n",
      "looiking at x: [1.00000001 1.         1.         1.         1.         1.\n",
      " 1.         1.         1.        ]\n",
      "looiking at x: [1.         1.00000001 1.         1.         1.         1.\n",
      " 1.         1.         1.        ]\n",
      "looiking at x: [1.         1.         1.00000001 1.         1.         1.\n",
      " 1.         1.         1.        ]\n",
      "looiking at x: [1.         1.         1.         1.00000001 1.         1.\n",
      " 1.         1.         1.        ]\n",
      "looiking at x: [1.         1.         1.         1.         1.00000001 1.\n",
      " 1.         1.         1.        ]\n",
      "looiking at x: [1.         1.         1.         1.         1.         1.00000001\n",
      " 1.         1.         1.        ]\n",
      "looiking at x: [1.         1.         1.         1.         1.         1.\n",
      " 1.00000001 1.         1.        ]\n",
      "looiking at x: [1.         1.         1.         1.         1.         1.\n",
      " 1.         1.00000001 1.        ]\n",
      "looiking at x: [1.         1.         1.         1.         1.         1.\n",
      " 1.         1.         1.00000001]\n",
      "looiking at x: [0.01       0.01       0.0113597  0.01935066 0.02101467 0.01961913\n",
      " 0.01705876 0.01       0.01      ]\n",
      "looiking at x: [0.01000001 0.01       0.0113597  0.01935066 0.02101467 0.01961913\n",
      " 0.01705876 0.01       0.01      ]\n",
      "looiking at x: [0.01       0.01000001 0.0113597  0.01935066 0.02101467 0.01961913\n",
      " 0.01705876 0.01       0.01      ]\n",
      "looiking at x: [0.01       0.01       0.01135971 0.01935066 0.02101467 0.01961913\n",
      " 0.01705876 0.01       0.01      ]\n",
      "looiking at x: [0.01       0.01       0.0113597  0.01935067 0.02101467 0.01961913\n",
      " 0.01705876 0.01       0.01      ]\n",
      "looiking at x: [0.01       0.01       0.0113597  0.01935066 0.02101468 0.01961913\n",
      " 0.01705876 0.01       0.01      ]\n",
      "looiking at x: [0.01       0.01       0.0113597  0.01935066 0.02101467 0.01961915\n",
      " 0.01705876 0.01       0.01      ]\n",
      "looiking at x: [0.01       0.01       0.0113597  0.01935066 0.02101467 0.01961913\n",
      " 0.01705878 0.01       0.01      ]\n",
      "looiking at x: [0.01       0.01       0.0113597  0.01935066 0.02101467 0.01961913\n",
      " 0.01705876 0.01000001 0.01      ]\n",
      "looiking at x: [0.01       0.01       0.0113597  0.01935066 0.02101467 0.01961913\n",
      " 0.01705876 0.01       0.01000001]\n",
      "looiking at x: [0.01       0.01       0.0113597  0.01935066 0.02101467 0.01961913\n",
      " 0.01705876 0.01       0.01      ]\n",
      "looiking at x: [0.01000001 0.01       0.0113597  0.01935066 0.02101467 0.01961913\n",
      " 0.01705876 0.01       0.01      ]\n",
      "looiking at x: [0.01       0.01000001 0.0113597  0.01935066 0.02101467 0.01961913\n",
      " 0.01705876 0.01       0.01      ]\n",
      "looiking at x: [0.01       0.01       0.01135971 0.01935066 0.02101467 0.01961913\n",
      " 0.01705876 0.01       0.01      ]\n",
      "looiking at x: [0.01       0.01       0.0113597  0.01935067 0.02101467 0.01961913\n",
      " 0.01705876 0.01       0.01      ]\n",
      "looiking at x: [0.01       0.01       0.0113597  0.01935066 0.02101468 0.01961913\n",
      " 0.01705876 0.01       0.01      ]\n",
      "looiking at x: [0.01       0.01       0.0113597  0.01935066 0.02101467 0.01961915\n",
      " 0.01705876 0.01       0.01      ]\n",
      "looiking at x: [0.01       0.01       0.0113597  0.01935066 0.02101467 0.01961913\n",
      " 0.01705878 0.01       0.01      ]\n",
      "looiking at x: [0.01       0.01       0.0113597  0.01935066 0.02101467 0.01961913\n",
      " 0.01705876 0.01000001 0.01      ]\n",
      "looiking at x: [0.01       0.01       0.0113597  0.01935066 0.02101467 0.01961913\n",
      " 0.01705876 0.01       0.01000001]\n",
      "looiking at x: [0.01       0.01       0.0113597  0.01935066 0.02101467 0.01961913\n",
      " 0.01705876 0.01       0.01      ]\n",
      "looiking at x: [0.01000001 0.01       0.0113597  0.01935066 0.02101467 0.01961913\n",
      " 0.01705876 0.01       0.01      ]\n",
      "looiking at x: [0.01       0.01000001 0.0113597  0.01935066 0.02101467 0.01961913\n",
      " 0.01705876 0.01       0.01      ]\n",
      "looiking at x: [0.01       0.01       0.01135971 0.01935066 0.02101467 0.01961913\n",
      " 0.01705876 0.01       0.01      ]\n",
      "looiking at x: [0.01       0.01       0.0113597  0.01935067 0.02101467 0.01961913\n",
      " 0.01705876 0.01       0.01      ]\n",
      "looiking at x: [0.01       0.01       0.0113597  0.01935066 0.02101468 0.01961913\n",
      " 0.01705876 0.01       0.01      ]\n",
      "looiking at x: [0.01       0.01       0.0113597  0.01935066 0.02101467 0.01961915\n",
      " 0.01705876 0.01       0.01      ]\n",
      "looiking at x: [0.01       0.01       0.0113597  0.01935066 0.02101467 0.01961913\n",
      " 0.01705878 0.01       0.01      ]\n",
      "looiking at x: [0.01       0.01       0.0113597  0.01935066 0.02101467 0.01961913\n",
      " 0.01705876 0.01000001 0.01      ]\n",
      "looiking at x: [0.01       0.01       0.0113597  0.01935066 0.02101467 0.01961913\n",
      " 0.01705876 0.01       0.01000001]\n",
      "looiking at x: [0.01       0.01       0.0113597  0.01935066 0.02101467 0.01961913\n",
      " 0.01705876 0.01       0.01      ]\n",
      "looiking at x: [0.01       0.01       0.0113597  0.01935066 0.02101467 0.01961913\n",
      " 0.01705876 0.01       0.01      ]\n",
      "looiking at x: [0.01       0.01       0.0113597  0.01935066 0.02101467 0.01961913\n",
      " 0.01705876 0.01       0.01      ]\n",
      "looiking at x: [0.01       0.01       0.0113597  0.01935066 0.02101467 0.01961913\n",
      " 0.01705876 0.01       0.01      ]\n",
      "looiking at x: [0.01       0.01       0.0113597  0.01935066 0.02101467 0.01961913\n",
      " 0.01705876 0.01       0.01      ]\n",
      "looiking at x: [0.01       0.01       0.0113597  0.01935066 0.02101467 0.01961913\n",
      " 0.01705876 0.01       0.01      ]\n",
      "looiking at x: [0.01       0.01       0.0113597  0.01935066 0.02101467 0.01961913\n",
      " 0.01705876 0.01       0.01      ]\n",
      "looiking at x: [0.01       0.01       0.0113597  0.01935066 0.02101467 0.01961913\n",
      " 0.01705876 0.01       0.01      ]\n",
      "looiking at x: [0.01       0.01       0.0113597  0.01935066 0.02101467 0.01961913\n",
      " 0.01705876 0.01       0.01      ]\n",
      "looiking at x: [0.01000001 0.01       0.0113597  0.01935066 0.02101467 0.01961913\n",
      " 0.01705876 0.01       0.01      ]\n",
      "looiking at x: [0.01       0.01000001 0.0113597  0.01935066 0.02101467 0.01961913\n",
      " 0.01705876 0.01       0.01      ]\n",
      "looiking at x: [0.01       0.01       0.01135971 0.01935066 0.02101467 0.01961913\n",
      " 0.01705876 0.01       0.01      ]\n",
      "looiking at x: [0.01       0.01       0.0113597  0.01935067 0.02101467 0.01961913\n",
      " 0.01705876 0.01       0.01      ]\n",
      "looiking at x: [0.01       0.01       0.0113597  0.01935066 0.02101468 0.01961913\n",
      " 0.01705876 0.01       0.01      ]\n",
      "looiking at x: [0.01       0.01       0.0113597  0.01935066 0.02101467 0.01961915\n",
      " 0.01705876 0.01       0.01      ]\n",
      "looiking at x: [0.01       0.01       0.0113597  0.01935066 0.02101467 0.01961913\n",
      " 0.01705878 0.01       0.01      ]\n",
      "looiking at x: [0.01       0.01       0.0113597  0.01935066 0.02101467 0.01961913\n",
      " 0.01705876 0.01000001 0.01      ]\n",
      "looiking at x: [0.01       0.01       0.0113597  0.01935066 0.02101467 0.01961913\n",
      " 0.01705876 0.01       0.01000001]\n",
      "looiking at x: [0.01       0.01       0.0113597  0.01935066 0.02101467 0.01961913\n",
      " 0.01705876 0.01       0.01      ]\n",
      "looiking at x: [0.01000001 0.01       0.0113597  0.01935066 0.02101467 0.01961913\n",
      " 0.01705876 0.01       0.01      ]\n",
      "looiking at x: [0.01       0.01000001 0.0113597  0.01935066 0.02101467 0.01961913\n",
      " 0.01705876 0.01       0.01      ]\n",
      "looiking at x: [0.01       0.01       0.01135971 0.01935066 0.02101467 0.01961913\n",
      " 0.01705876 0.01       0.01      ]\n",
      "looiking at x: [0.01       0.01       0.0113597  0.01935067 0.02101467 0.01961913\n",
      " 0.01705876 0.01       0.01      ]\n",
      "looiking at x: [0.01       0.01       0.0113597  0.01935066 0.02101468 0.01961913\n",
      " 0.01705876 0.01       0.01      ]\n",
      "looiking at x: [0.01       0.01       0.0113597  0.01935066 0.02101467 0.01961915\n",
      " 0.01705876 0.01       0.01      ]\n",
      "looiking at x: [0.01       0.01       0.0113597  0.01935066 0.02101467 0.01961913\n",
      " 0.01705878 0.01       0.01      ]\n",
      "looiking at x: [0.01       0.01       0.0113597  0.01935066 0.02101467 0.01961913\n",
      " 0.01705876 0.01000001 0.01      ]\n",
      "looiking at x: [0.01       0.01       0.0113597  0.01935066 0.02101467 0.01961913\n",
      " 0.01705876 0.01       0.01000001]\n",
      "looiking at x: [0.01       0.01       0.01135967 0.01935062 0.02101447 0.01961909\n",
      " 0.01705872 0.01       0.01      ]\n",
      "looiking at x: [0.01000001 0.01       0.01135967 0.01935062 0.02101447 0.01961909\n",
      " 0.01705872 0.01       0.01      ]\n",
      "looiking at x: [0.01       0.01000001 0.01135967 0.01935062 0.02101447 0.01961909\n",
      " 0.01705872 0.01       0.01      ]\n",
      "looiking at x: [0.01       0.01       0.01135968 0.01935062 0.02101447 0.01961909\n",
      " 0.01705872 0.01       0.01      ]\n",
      "looiking at x: [0.01       0.01       0.01135967 0.01935064 0.02101447 0.01961909\n",
      " 0.01705872 0.01       0.01      ]\n",
      "looiking at x: [0.01       0.01       0.01135967 0.01935062 0.02101448 0.01961909\n",
      " 0.01705872 0.01       0.01      ]\n",
      "looiking at x: [0.01       0.01       0.01135967 0.01935062 0.02101447 0.0196191\n",
      " 0.01705872 0.01       0.01      ]\n",
      "looiking at x: [0.01       0.01       0.01135967 0.01935062 0.02101447 0.01961909\n",
      " 0.01705873 0.01       0.01      ]\n",
      "looiking at x: [0.01       0.01       0.01135967 0.01935062 0.02101447 0.01961909\n",
      " 0.01705872 0.01000001 0.01      ]\n",
      "looiking at x: [0.01       0.01       0.01135967 0.01935062 0.02101447 0.01961909\n",
      " 0.01705872 0.01       0.01000001]\n",
      "\n",
      "            final_val:\n",
      "                 fun: 0.009060697855476257\n",
      "     jac: array([0.07056478, 0.07056478, 0.07056478, 0.07056478, 0.07056478,\n",
      "       0.07056478, 0.07056478, 0.07056478, 0.07056478])\n",
      " message: 'Positive directional derivative for linesearch'\n",
      "    nfev: 78\n",
      "     nit: 11\n",
      "    njev: 7\n",
      "  status: 8\n",
      " success: False\n",
      "       x: array([0.01      , 0.01      , 0.01135967, 0.01935062, 0.02101447,\n",
      "       0.01961909, 0.01705872, 0.01      , 0.01      ])\n",
      "        \n",
      "\n",
      "            ['ATL_ny_panthers', 'ATL_ny_pats', 'ny_panthers_saints', 'ny_pats_saints', 'ATL_KC_panthers', 'ATL_KC_pats', 'KC_panthers_saints', 'KC_pats_saints', 'KC']\n",
      "            [3994.9999999999995, 2303.9473684210525, 1690.566037735849, 951.1420059582917, 867.909090909091, 468.20574162679424, 323.2246998284735, 148.451746862869, 100]\n",
      "            [0.01, 0.01, 0.0114, 0.0194, 0.021, 0.0196, 0.0171, 0.01, 0.01]\n",
      "            [40.95, 24.0395, 17.9057, 10.5114, 9.6791, 5.6821, 4.2322, 2.4845, 2.0]\n",
      "            [0.024420024420024423, 0.04159824849480022, 0.05584826132771338, 0.09513462446858764, 0.10331548793087254, 0.17599258978569327, 0.23628110561724888, 0.40249264198248613, 0.5]\n",
      "            [0.4095, 0.2404, 0.2034, 0.2034, 0.2034, 0.1115, 0.0722, 0.0248, 0.02]\n",
      "            [0, 0, 0, 0, 0, 0, 0, 0, 0]\n",
      "            [0.281, 0.112, 0.075, 0.075, 0.075, -0.017, -0.056, -0.104, -0.108]\n",
      "        \n",
      "\n",
      "            Parlay system total bet 0.13:\n",
      "        \n"
     ]
    }
   ],
   "source": [
    "parlay_system = ParlaySystem(binaries=binaries,\n",
    "                             target_profit=0.075,\n",
    "                             bounds=(0.01, 50),\n",
    "                             extra_parlays=[match_a_team_1_with_boost])\n",
    "\n",
    "results = parlay_system.slsqp_solver(profit_type='avg_implied_profit')\n",
    "# results = parlay_system.slsqp_solver(profit_type='avg_profit')"
   ]
  },
  {
   "cell_type": "code",
   "execution_count": 64,
   "metadata": {
    "pycharm": {
     "name": "#%%\n"
    }
   },
   "outputs": [],
   "source": [
    "results.head(10)\n",
    "results.to_csv('/Users/ramp/Desktop/projects/sports_book2/data/nfl_profit_boost.csv', header=True, index=False)\n",
    "\n",
    "# results_implied_profit.head(10)"
   ]
  },
  {
   "cell_type": "code",
   "execution_count": 65,
   "metadata": {
    "pycharm": {
     "name": "#%%\n"
    }
   },
   "outputs": [
    {
     "name": "stdout",
     "output_type": "stream",
     "text": [
      "\n",
      "    Total Bet Amount: 0.1285\n",
      "    Total Implied Probability: 1.6350829840274264\n",
      "    Average Profit: 0.037000000000000005\n",
      "\n"
     ]
    }
   ],
   "source": [
    "print(f'''\n",
    "    Total Bet Amount: {results['bet'].sum()}\n",
    "    Total Implied Probability: {results['implied_prob'].sum()}\n",
    "    Average Profit: {results['profit'].mean()}\n",
    "''')"
   ]
  },
  {
   "cell_type": "code",
   "execution_count": 66,
   "metadata": {
    "pycharm": {
     "name": "#%%\n"
    }
   },
   "outputs": [
    {
     "data": {
      "text/html": [
       "<div>\n",
       "<style scoped>\n",
       "    .dataframe tbody tr th:only-of-type {\n",
       "        vertical-align: middle;\n",
       "    }\n",
       "\n",
       "    .dataframe tbody tr th {\n",
       "        vertical-align: top;\n",
       "    }\n",
       "\n",
       "    .dataframe thead th {\n",
       "        text-align: right;\n",
       "    }\n",
       "</style>\n",
       "<table border=\"1\" class=\"dataframe\">\n",
       "  <thead>\n",
       "    <tr style=\"text-align: right;\">\n",
       "      <th></th>\n",
       "      <th>event</th>\n",
       "      <th>bet</th>\n",
       "      <th>dec_odds</th>\n",
       "      <th>implied_prob</th>\n",
       "      <th>payout</th>\n",
       "      <th>profit</th>\n",
       "      <th>expected_value</th>\n",
       "    </tr>\n",
       "  </thead>\n",
       "  <tbody>\n",
       "    <tr>\n",
       "      <th>0</th>\n",
       "      <td>ATL_ny_panthers</td>\n",
       "      <td>0.0100</td>\n",
       "      <td>40.9500</td>\n",
       "      <td>0.024420</td>\n",
       "      <td>0.4095</td>\n",
       "      <td>0.281</td>\n",
       "      <td>0.006862</td>\n",
       "    </tr>\n",
       "    <tr>\n",
       "      <th>1</th>\n",
       "      <td>ATL_ny_pats</td>\n",
       "      <td>0.0100</td>\n",
       "      <td>24.0395</td>\n",
       "      <td>0.041598</td>\n",
       "      <td>0.2404</td>\n",
       "      <td>0.112</td>\n",
       "      <td>0.004659</td>\n",
       "    </tr>\n",
       "    <tr>\n",
       "      <th>2</th>\n",
       "      <td>ny_panthers_saints</td>\n",
       "      <td>0.0114</td>\n",
       "      <td>17.9057</td>\n",
       "      <td>0.055848</td>\n",
       "      <td>0.2034</td>\n",
       "      <td>0.075</td>\n",
       "      <td>0.004189</td>\n",
       "    </tr>\n",
       "    <tr>\n",
       "      <th>3</th>\n",
       "      <td>ny_pats_saints</td>\n",
       "      <td>0.0194</td>\n",
       "      <td>10.5114</td>\n",
       "      <td>0.095135</td>\n",
       "      <td>0.2034</td>\n",
       "      <td>0.075</td>\n",
       "      <td>0.007135</td>\n",
       "    </tr>\n",
       "    <tr>\n",
       "      <th>4</th>\n",
       "      <td>ATL_KC_panthers</td>\n",
       "      <td>0.0210</td>\n",
       "      <td>9.6791</td>\n",
       "      <td>0.103315</td>\n",
       "      <td>0.2034</td>\n",
       "      <td>0.075</td>\n",
       "      <td>0.007749</td>\n",
       "    </tr>\n",
       "    <tr>\n",
       "      <th>5</th>\n",
       "      <td>ATL_KC_pats</td>\n",
       "      <td>0.0196</td>\n",
       "      <td>5.6821</td>\n",
       "      <td>0.175993</td>\n",
       "      <td>0.1115</td>\n",
       "      <td>-0.017</td>\n",
       "      <td>-0.002992</td>\n",
       "    </tr>\n",
       "    <tr>\n",
       "      <th>6</th>\n",
       "      <td>KC_panthers_saints</td>\n",
       "      <td>0.0171</td>\n",
       "      <td>4.2322</td>\n",
       "      <td>0.236281</td>\n",
       "      <td>0.0722</td>\n",
       "      <td>-0.056</td>\n",
       "      <td>-0.013232</td>\n",
       "    </tr>\n",
       "    <tr>\n",
       "      <th>7</th>\n",
       "      <td>KC_pats_saints</td>\n",
       "      <td>0.0100</td>\n",
       "      <td>2.4845</td>\n",
       "      <td>0.402493</td>\n",
       "      <td>0.0248</td>\n",
       "      <td>-0.104</td>\n",
       "      <td>-0.041859</td>\n",
       "    </tr>\n",
       "    <tr>\n",
       "      <th>8</th>\n",
       "      <td>KC</td>\n",
       "      <td>0.0100</td>\n",
       "      <td>2.0000</td>\n",
       "      <td>0.500000</td>\n",
       "      <td>0.0200</td>\n",
       "      <td>-0.108</td>\n",
       "      <td>-0.054000</td>\n",
       "    </tr>\n",
       "  </tbody>\n",
       "</table>\n",
       "</div>"
      ],
      "text/plain": [
       "                event     bet  dec_odds  implied_prob  payout  profit  expected_value\n",
       "0     ATL_ny_panthers  0.0100   40.9500      0.024420  0.4095   0.281        0.006862\n",
       "1         ATL_ny_pats  0.0100   24.0395      0.041598  0.2404   0.112        0.004659\n",
       "2  ny_panthers_saints  0.0114   17.9057      0.055848  0.2034   0.075        0.004189\n",
       "3      ny_pats_saints  0.0194   10.5114      0.095135  0.2034   0.075        0.007135\n",
       "4     ATL_KC_panthers  0.0210    9.6791      0.103315  0.2034   0.075        0.007749\n",
       "5         ATL_KC_pats  0.0196    5.6821      0.175993  0.1115  -0.017       -0.002992\n",
       "6  KC_panthers_saints  0.0171    4.2322      0.236281  0.0722  -0.056       -0.013232\n",
       "7      KC_pats_saints  0.0100    2.4845      0.402493  0.0248  -0.104       -0.041859\n",
       "8                  KC  0.0100    2.0000      0.500000  0.0200  -0.108       -0.054000"
      ]
     },
     "execution_count": 66,
     "metadata": {},
     "output_type": "execute_result"
    }
   ],
   "source": [
    "results['expected_value'] = results['implied_prob'] * results['profit']\n",
    "results[['event', 'bet', 'dec_odds', 'implied_prob', 'payout','profit', 'expected_value']].head(10)"
   ]
  },
  {
   "cell_type": "code",
   "execution_count": 67,
   "metadata": {
    "pycharm": {
     "name": "#%%\n"
    }
   },
   "outputs": [
    {
     "name": "stdout",
     "output_type": "stream",
     "text": [
      "\n",
      "    Total Bet           : 0.1285\n",
      "    Total Expected value: -0.08148944198411877\n",
      "\n"
     ]
    }
   ],
   "source": [
    "\n",
    "print(f'''\n",
    "    Total Bet           : {results['bet'].sum()}\n",
    "    Total Expected value: {results['expected_value'].sum()}\n",
    "''')"
   ]
  },
  {
   "cell_type": "code",
   "execution_count": 68,
   "metadata": {},
   "outputs": [
    {
     "data": {
      "text/html": [
       "<div>\n",
       "<style scoped>\n",
       "    .dataframe tbody tr th:only-of-type {\n",
       "        vertical-align: middle;\n",
       "    }\n",
       "\n",
       "    .dataframe tbody tr th {\n",
       "        vertical-align: top;\n",
       "    }\n",
       "\n",
       "    .dataframe thead th {\n",
       "        text-align: right;\n",
       "    }\n",
       "</style>\n",
       "<table border=\"1\" class=\"dataframe\">\n",
       "  <thead>\n",
       "    <tr style=\"text-align: right;\">\n",
       "      <th></th>\n",
       "      <th>event</th>\n",
       "      <th>ml_odds</th>\n",
       "      <th>dec_odds</th>\n",
       "      <th>bet</th>\n",
       "      <th>implied_prob</th>\n",
       "      <th>payout</th>\n",
       "      <th>override</th>\n",
       "      <th>profit</th>\n",
       "      <th>expected_value</th>\n",
       "    </tr>\n",
       "  </thead>\n",
       "  <tbody>\n",
       "    <tr>\n",
       "      <th>0</th>\n",
       "      <td>ATL_ny_panthers</td>\n",
       "      <td>3995.000000</td>\n",
       "      <td>40.9500</td>\n",
       "      <td>0.0100</td>\n",
       "      <td>0.024420</td>\n",
       "      <td>0.4095</td>\n",
       "      <td>0</td>\n",
       "      <td>0.281</td>\n",
       "      <td>0.006862</td>\n",
       "    </tr>\n",
       "    <tr>\n",
       "      <th>1</th>\n",
       "      <td>ATL_ny_pats</td>\n",
       "      <td>2303.947368</td>\n",
       "      <td>24.0395</td>\n",
       "      <td>0.0100</td>\n",
       "      <td>0.041598</td>\n",
       "      <td>0.2404</td>\n",
       "      <td>0</td>\n",
       "      <td>0.112</td>\n",
       "      <td>0.004659</td>\n",
       "    </tr>\n",
       "    <tr>\n",
       "      <th>2</th>\n",
       "      <td>ny_panthers_saints</td>\n",
       "      <td>1690.566038</td>\n",
       "      <td>17.9057</td>\n",
       "      <td>0.0114</td>\n",
       "      <td>0.055848</td>\n",
       "      <td>0.2034</td>\n",
       "      <td>0</td>\n",
       "      <td>0.075</td>\n",
       "      <td>0.004189</td>\n",
       "    </tr>\n",
       "    <tr>\n",
       "      <th>3</th>\n",
       "      <td>ny_pats_saints</td>\n",
       "      <td>951.142006</td>\n",
       "      <td>10.5114</td>\n",
       "      <td>0.0194</td>\n",
       "      <td>0.095135</td>\n",
       "      <td>0.2034</td>\n",
       "      <td>0</td>\n",
       "      <td>0.075</td>\n",
       "      <td>0.007135</td>\n",
       "    </tr>\n",
       "    <tr>\n",
       "      <th>4</th>\n",
       "      <td>ATL_KC_panthers</td>\n",
       "      <td>867.909091</td>\n",
       "      <td>9.6791</td>\n",
       "      <td>0.0210</td>\n",
       "      <td>0.103315</td>\n",
       "      <td>0.2034</td>\n",
       "      <td>0</td>\n",
       "      <td>0.075</td>\n",
       "      <td>0.007749</td>\n",
       "    </tr>\n",
       "    <tr>\n",
       "      <th>5</th>\n",
       "      <td>ATL_KC_pats</td>\n",
       "      <td>468.205742</td>\n",
       "      <td>5.6821</td>\n",
       "      <td>0.0196</td>\n",
       "      <td>0.175993</td>\n",
       "      <td>0.1115</td>\n",
       "      <td>0</td>\n",
       "      <td>-0.017</td>\n",
       "      <td>-0.002992</td>\n",
       "    </tr>\n",
       "    <tr>\n",
       "      <th>6</th>\n",
       "      <td>KC_panthers_saints</td>\n",
       "      <td>323.224700</td>\n",
       "      <td>4.2322</td>\n",
       "      <td>0.0171</td>\n",
       "      <td>0.236281</td>\n",
       "      <td>0.0722</td>\n",
       "      <td>0</td>\n",
       "      <td>-0.056</td>\n",
       "      <td>-0.013232</td>\n",
       "    </tr>\n",
       "    <tr>\n",
       "      <th>7</th>\n",
       "      <td>KC_pats_saints</td>\n",
       "      <td>148.451747</td>\n",
       "      <td>2.4845</td>\n",
       "      <td>0.0100</td>\n",
       "      <td>0.402493</td>\n",
       "      <td>0.0248</td>\n",
       "      <td>0</td>\n",
       "      <td>-0.104</td>\n",
       "      <td>-0.041859</td>\n",
       "    </tr>\n",
       "    <tr>\n",
       "      <th>8</th>\n",
       "      <td>KC</td>\n",
       "      <td>100.000000</td>\n",
       "      <td>2.0000</td>\n",
       "      <td>0.0100</td>\n",
       "      <td>0.500000</td>\n",
       "      <td>0.0200</td>\n",
       "      <td>0</td>\n",
       "      <td>-0.108</td>\n",
       "      <td>-0.054000</td>\n",
       "    </tr>\n",
       "  </tbody>\n",
       "</table>\n",
       "</div>"
      ],
      "text/plain": [
       "                event      ml_odds  dec_odds     bet  implied_prob  payout  override  profit  expected_value\n",
       "0     ATL_ny_panthers  3995.000000   40.9500  0.0100      0.024420  0.4095         0   0.281        0.006862\n",
       "1         ATL_ny_pats  2303.947368   24.0395  0.0100      0.041598  0.2404         0   0.112        0.004659\n",
       "2  ny_panthers_saints  1690.566038   17.9057  0.0114      0.055848  0.2034         0   0.075        0.004189\n",
       "3      ny_pats_saints   951.142006   10.5114  0.0194      0.095135  0.2034         0   0.075        0.007135\n",
       "4     ATL_KC_panthers   867.909091    9.6791  0.0210      0.103315  0.2034         0   0.075        0.007749\n",
       "5         ATL_KC_pats   468.205742    5.6821  0.0196      0.175993  0.1115         0  -0.017       -0.002992\n",
       "6  KC_panthers_saints   323.224700    4.2322  0.0171      0.236281  0.0722         0  -0.056       -0.013232\n",
       "7      KC_pats_saints   148.451747    2.4845  0.0100      0.402493  0.0248         0  -0.104       -0.041859\n",
       "8                  KC   100.000000    2.0000  0.0100      0.500000  0.0200         0  -0.108       -0.054000"
      ]
     },
     "execution_count": 68,
     "metadata": {},
     "output_type": "execute_result"
    }
   ],
   "source": [
    "all_results = results.loc[results['profit'] != 0.000000000] \n",
    "all_results"
   ]
  },
  {
   "cell_type": "code",
   "execution_count": 69,
   "metadata": {
    "pycharm": {
     "name": "#%%\n"
    }
   },
   "outputs": [
    {
     "data": {
      "text/html": [
       "<div>\n",
       "<style scoped>\n",
       "    .dataframe tbody tr th:only-of-type {\n",
       "        vertical-align: middle;\n",
       "    }\n",
       "\n",
       "    .dataframe tbody tr th {\n",
       "        vertical-align: top;\n",
       "    }\n",
       "\n",
       "    .dataframe thead th {\n",
       "        text-align: right;\n",
       "    }\n",
       "</style>\n",
       "<table border=\"1\" class=\"dataframe\">\n",
       "  <thead>\n",
       "    <tr style=\"text-align: right;\">\n",
       "      <th></th>\n",
       "      <th>event</th>\n",
       "      <th>ml_odds</th>\n",
       "      <th>dec_odds</th>\n",
       "      <th>bet</th>\n",
       "      <th>implied_prob</th>\n",
       "      <th>payout</th>\n",
       "      <th>override</th>\n",
       "      <th>profit</th>\n",
       "      <th>expected_value</th>\n",
       "    </tr>\n",
       "  </thead>\n",
       "  <tbody>\n",
       "    <tr>\n",
       "      <th>0</th>\n",
       "      <td>ATL_ny_panthers</td>\n",
       "      <td>3995.000000</td>\n",
       "      <td>40.9500</td>\n",
       "      <td>0.0100</td>\n",
       "      <td>0.024420</td>\n",
       "      <td>0.4095</td>\n",
       "      <td>0</td>\n",
       "      <td>0.281</td>\n",
       "      <td>0.006862</td>\n",
       "    </tr>\n",
       "    <tr>\n",
       "      <th>1</th>\n",
       "      <td>ATL_ny_pats</td>\n",
       "      <td>2303.947368</td>\n",
       "      <td>24.0395</td>\n",
       "      <td>0.0100</td>\n",
       "      <td>0.041598</td>\n",
       "      <td>0.2404</td>\n",
       "      <td>0</td>\n",
       "      <td>0.112</td>\n",
       "      <td>0.004659</td>\n",
       "    </tr>\n",
       "    <tr>\n",
       "      <th>2</th>\n",
       "      <td>ny_panthers_saints</td>\n",
       "      <td>1690.566038</td>\n",
       "      <td>17.9057</td>\n",
       "      <td>0.0114</td>\n",
       "      <td>0.055848</td>\n",
       "      <td>0.2034</td>\n",
       "      <td>0</td>\n",
       "      <td>0.075</td>\n",
       "      <td>0.004189</td>\n",
       "    </tr>\n",
       "    <tr>\n",
       "      <th>3</th>\n",
       "      <td>ny_pats_saints</td>\n",
       "      <td>951.142006</td>\n",
       "      <td>10.5114</td>\n",
       "      <td>0.0194</td>\n",
       "      <td>0.095135</td>\n",
       "      <td>0.2034</td>\n",
       "      <td>0</td>\n",
       "      <td>0.075</td>\n",
       "      <td>0.007135</td>\n",
       "    </tr>\n",
       "    <tr>\n",
       "      <th>4</th>\n",
       "      <td>ATL_KC_panthers</td>\n",
       "      <td>867.909091</td>\n",
       "      <td>9.6791</td>\n",
       "      <td>0.0210</td>\n",
       "      <td>0.103315</td>\n",
       "      <td>0.2034</td>\n",
       "      <td>0</td>\n",
       "      <td>0.075</td>\n",
       "      <td>0.007749</td>\n",
       "    </tr>\n",
       "  </tbody>\n",
       "</table>\n",
       "</div>"
      ],
      "text/plain": [
       "                event      ml_odds  dec_odds     bet  implied_prob  payout  override  profit  expected_value\n",
       "0     ATL_ny_panthers  3995.000000   40.9500  0.0100      0.024420  0.4095         0   0.281        0.006862\n",
       "1         ATL_ny_pats  2303.947368   24.0395  0.0100      0.041598  0.2404         0   0.112        0.004659\n",
       "2  ny_panthers_saints  1690.566038   17.9057  0.0114      0.055848  0.2034         0   0.075        0.004189\n",
       "3      ny_pats_saints   951.142006   10.5114  0.0194      0.095135  0.2034         0   0.075        0.007135\n",
       "4     ATL_KC_panthers   867.909091    9.6791  0.0210      0.103315  0.2034         0   0.075        0.007749"
      ]
     },
     "execution_count": 69,
     "metadata": {},
     "output_type": "execute_result"
    }
   ],
   "source": [
    "pos_results = results.loc[results['profit'] > -0.005] \n",
    "pos_results"
   ]
  },
  {
   "cell_type": "code",
   "execution_count": 70,
   "metadata": {},
   "outputs": [
    {
     "data": {
      "text/plain": [
       "0.3203166466419982"
      ]
     },
     "execution_count": 70,
     "metadata": {},
     "output_type": "execute_result"
    }
   ],
   "source": [
    "pos_results['implied_prob'].sum()"
   ]
  },
  {
   "cell_type": "code",
   "execution_count": null,
   "metadata": {},
   "outputs": [],
   "source": []
  }
 ],
 "metadata": {
  "interpreter": {
   "hash": "99531256b8050aeca1ee543c35617bdcaff069eb0f8b650f182f40d1e58f5678"
  },
  "kernelspec": {
   "display_name": "Python 3.7.10 64-bit ('sports_book2-XNYDZ0u0': pipenv)",
   "name": "python3"
  },
  "language_info": {
   "codemirror_mode": {
    "name": "ipython",
    "version": 3
   },
   "file_extension": ".py",
   "mimetype": "text/x-python",
   "name": "python",
   "nbconvert_exporter": "python",
   "pygments_lexer": "ipython3",
   "version": "3.7.10"
  }
 },
 "nbformat": 4,
 "nbformat_minor": 1
}
