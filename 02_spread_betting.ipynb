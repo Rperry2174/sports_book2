{
 "cells": [
  {
   "cell_type": "code",
   "execution_count": 1,
   "source": [
    "import os\n",
    "import numpy as np"
   ],
   "outputs": [],
   "metadata": {}
  },
  {
   "cell_type": "code",
   "execution_count": 2,
   "source": [
    "from classes.money_line import MoneyLine\n",
    "from classes.parlay_system import ParlaySystem"
   ],
   "outputs": [],
   "metadata": {}
  },
  {
   "cell_type": "code",
   "execution_count": 3,
   "source": [
    "bills = MoneyLine(event=\"bills\",\n",
    "                   bet_amount=50,\n",
    "                   money_line_odds=-175)\n",
    "bills.df_stats"
   ],
   "outputs": [
    {
     "output_type": "execute_result",
     "data": {
      "text/html": [
       "<div>\n",
       "<style scoped>\n",
       "    .dataframe tbody tr th:only-of-type {\n",
       "        vertical-align: middle;\n",
       "    }\n",
       "\n",
       "    .dataframe tbody tr th {\n",
       "        vertical-align: top;\n",
       "    }\n",
       "\n",
       "    .dataframe thead th {\n",
       "        text-align: right;\n",
       "    }\n",
       "</style>\n",
       "<table border=\"1\" class=\"dataframe\">\n",
       "  <thead>\n",
       "    <tr style=\"text-align: right;\">\n",
       "      <th></th>\n",
       "      <th>event_bills</th>\n",
       "      <th>bet_amount_bills</th>\n",
       "      <th>money_line_odds_bills</th>\n",
       "      <th>decimal_odds_bills</th>\n",
       "      <th>fractional_odds_bills</th>\n",
       "      <th>implied_prob_bills</th>\n",
       "      <th>payout_bills</th>\n",
       "      <th>expected_value_bills</th>\n",
       "    </tr>\n",
       "    <tr>\n",
       "      <th>join_index</th>\n",
       "      <th></th>\n",
       "      <th></th>\n",
       "      <th></th>\n",
       "      <th></th>\n",
       "      <th></th>\n",
       "      <th></th>\n",
       "      <th></th>\n",
       "      <th></th>\n",
       "    </tr>\n",
       "  </thead>\n",
       "  <tbody>\n",
       "    <tr>\n",
       "      <th>0</th>\n",
       "      <td>bills</td>\n",
       "      <td>50</td>\n",
       "      <td>-175</td>\n",
       "      <td>1.571429</td>\n",
       "      <td>8/5</td>\n",
       "      <td>0.636364</td>\n",
       "      <td>78.571429</td>\n",
       "      <td>50.0</td>\n",
       "    </tr>\n",
       "  </tbody>\n",
       "</table>\n",
       "</div>"
      ],
      "text/plain": [
       "           event_bills  bet_amount_bills  money_line_odds_bills  decimal_odds_bills fractional_odds_bills  implied_prob_bills  payout_bills  expected_value_bills\n",
       "join_index                                                                                                                                                       \n",
       "0                bills                50                   -175            1.571429                   8/5            0.636364     78.571429                  50.0"
      ]
     },
     "metadata": {},
     "execution_count": 3
    }
   ],
   "metadata": {
    "pycharm": {
     "name": "#%%\n"
    }
   }
  },
  {
   "cell_type": "code",
   "execution_count": 4,
   "source": [
    "# new_bills_ml = bills.apply_percent_boost(0.2)\n",
    "# bills.update_money_line_odds(new_bills_ml)\n",
    "# bills.df_stats"
   ],
   "outputs": [],
   "metadata": {
    "pycharm": {
     "name": "#%%\n"
    }
   }
  },
  {
   "cell_type": "code",
   "execution_count": 5,
   "source": [
    "raiders = MoneyLine(event=\"raiders\",\n",
    "                 bet_amount=100,\n",
    "                 money_line_odds=143)\n"
   ],
   "outputs": [],
   "metadata": {
    "pycharm": {
     "name": "#%%\n"
    }
   }
  },
  {
   "cell_type": "code",
   "execution_count": 6,
   "source": [
    "colts = MoneyLine(event=\"colts\",\n",
    "                    bet_amount=100,\n",
    "                    money_line_odds=-175)\n",
    "\n",
    "colts.df_stats"
   ],
   "outputs": [
    {
     "output_type": "execute_result",
     "data": {
      "text/html": [
       "<div>\n",
       "<style scoped>\n",
       "    .dataframe tbody tr th:only-of-type {\n",
       "        vertical-align: middle;\n",
       "    }\n",
       "\n",
       "    .dataframe tbody tr th {\n",
       "        vertical-align: top;\n",
       "    }\n",
       "\n",
       "    .dataframe thead th {\n",
       "        text-align: right;\n",
       "    }\n",
       "</style>\n",
       "<table border=\"1\" class=\"dataframe\">\n",
       "  <thead>\n",
       "    <tr style=\"text-align: right;\">\n",
       "      <th></th>\n",
       "      <th>event_colts</th>\n",
       "      <th>bet_amount_colts</th>\n",
       "      <th>money_line_odds_colts</th>\n",
       "      <th>decimal_odds_colts</th>\n",
       "      <th>fractional_odds_colts</th>\n",
       "      <th>implied_prob_colts</th>\n",
       "      <th>payout_colts</th>\n",
       "      <th>expected_value_colts</th>\n",
       "    </tr>\n",
       "    <tr>\n",
       "      <th>join_index</th>\n",
       "      <th></th>\n",
       "      <th></th>\n",
       "      <th></th>\n",
       "      <th></th>\n",
       "      <th></th>\n",
       "      <th></th>\n",
       "      <th></th>\n",
       "      <th></th>\n",
       "    </tr>\n",
       "  </thead>\n",
       "  <tbody>\n",
       "    <tr>\n",
       "      <th>0</th>\n",
       "      <td>colts</td>\n",
       "      <td>100</td>\n",
       "      <td>-175</td>\n",
       "      <td>1.571429</td>\n",
       "      <td>8/5</td>\n",
       "      <td>0.636364</td>\n",
       "      <td>157.142857</td>\n",
       "      <td>100.0</td>\n",
       "    </tr>\n",
       "  </tbody>\n",
       "</table>\n",
       "</div>"
      ],
      "text/plain": [
       "           event_colts  bet_amount_colts  money_line_odds_colts  decimal_odds_colts fractional_odds_colts  implied_prob_colts  payout_colts  expected_value_colts\n",
       "join_index                                                                                                                                                       \n",
       "0                colts               100                   -175            1.571429                   8/5            0.636364    157.142857                 100.0"
      ]
     },
     "metadata": {},
     "execution_count": 6
    }
   ],
   "metadata": {
    "pycharm": {
     "name": "#%%\n"
    }
   }
  },
  {
   "cell_type": "code",
   "execution_count": 7,
   "source": [
    "# colts.update_money_line_odds(200)\n",
    "# colts.df_stats"
   ],
   "outputs": [],
   "metadata": {
    "pycharm": {
     "name": "#%%\n"
    }
   }
  },
  {
   "cell_type": "code",
   "execution_count": 8,
   "source": [
    "bears = MoneyLine(event=\"bears\",\n",
    "                   bet_amount=100,\n",
    "                   money_line_odds=150)\n"
   ],
   "outputs": [],
   "metadata": {
    "pycharm": {
     "name": "#%%\n"
    }
   }
  },
  {
   "cell_type": "code",
   "execution_count": 9,
   "source": [
    "eagles = MoneyLine(event=\"eagles\",\n",
    "                 bet_amount=100,\n",
    "                 money_line_odds=-110)\n",
    "\n",
    "niners = MoneyLine(event=\"niners\",\n",
    "                    bet_amount=100,\n",
    "                    money_line_odds=-110)\n"
   ],
   "outputs": [],
   "metadata": {
    "pycharm": {
     "name": "#%%\n"
    }
   }
  },
  {
   "cell_type": "code",
   "execution_count": 10,
   "source": [
    "binaries = [\n",
    "    [bills, raiders],\n",
    "    [colts, bears],\n",
    "    [eagles, niners]\n",
    "]"
   ],
   "outputs": [],
   "metadata": {
    "pycharm": {
     "name": "#%%\n"
    }
   }
  },
  {
   "cell_type": "code",
   "execution_count": 11,
   "source": [
    "parlay_system = ParlaySystem(binaries=binaries,\n",
    "                             target_profit=0.1,\n",
    "                             bounds=(0.5, 50))\n",
    "\n",
    "results = parlay_system.slsqp_solver(profit_type='avg_profit')"
   ],
   "outputs": [
    {
     "output_type": "stream",
     "name": "stdout",
     "text": [
      "\n",
      "            constraints:\n",
      "            [{'type': 'ineq', 'fun': <function ParlaySystem.slsqp_solver.<locals>.<listcomp>.<lambda> at 0x142b5a5f0>}, {'type': 'ineq', 'fun': <function ParlaySystem.slsqp_solver.<locals>.<listcomp>.<lambda> at 0x142b5a680>}, {'type': 'ineq', 'fun': <function ParlaySystem.slsqp_solver.<locals>.<listcomp>.<lambda> at 0x142b5a710>}, {'type': 'ineq', 'fun': <function ParlaySystem.slsqp_solver.<locals>.<listcomp>.<lambda> at 0x142b5a7a0>}, {'type': 'ineq', 'fun': <function ParlaySystem.slsqp_solver.<locals>.<listcomp>.<lambda> at 0x142b5a830>}, {'type': 'ineq', 'fun': <function ParlaySystem.slsqp_solver.<locals>.<listcomp>.<lambda> at 0x142b5a8c0>}, {'type': 'ineq', 'fun': <function ParlaySystem.slsqp_solver.<locals>.<listcomp>.<lambda> at 0x142b5a950>}, {'type': 'ineq', 'fun': <function ParlaySystem.slsqp_solver.<locals>.<listcomp>.<lambda> at 0x142b5a9e0>}]\n",
      "        \n",
      "\n",
      "            final_val:\n",
      "                 fun: 0.4923706873990672\n",
      "     jac: array([-0.4497159 , -0.44971591,  0.0625    ,  0.0625    ,  0.08875   ,\n",
      "        0.08875   ,  0.41071429,  0.41071429])\n",
      " message: 'Positive directional derivative for linesearch'\n",
      "    nfev: 100\n",
      "     nit: 12\n",
      "    njev: 8\n",
      "  status: 8\n",
      " success: False\n",
      "       x: array([0.5       , 0.5       , 0.73365515, 0.73365515, 0.74055639,\n",
      "       0.74055639, 0.87522028, 0.87522028])\n",
      "        \n",
      "\n",
      "            ['bears_eagles_raiders', 'bears_niners_raiders', 'bears_bills_eagles', 'bears_bills_niners', 'colts_eagles_raiders', 'colts_niners_raiders', 'bills_colts_eagles', 'bills_colts_niners']\n",
      "            [1059.7727272727273, 1059.7727272727273, 650.0, 650.0, 628.9999999999999, 628.9999999999999, 371.42857142857144, 371.42857142857144]\n",
      "            [0.5, 0.5, 0.7337, 0.7337, 0.7406, 0.7406, 0.8752, 0.8752]\n",
      "            [11.5977, 11.5977, 7.5, 7.5, 7.29, 7.29, 4.7143, 4.7143]\n",
      "            [0.08622378992749363, 0.08622378992749363, 0.13333333333333333, 0.13333333333333333, 0.13717421124828535, 0.13717421124828535, 0.21212121212121213, 0.21212121212121213]\n",
      "            [5.7989, 5.7989, 5.5024, 5.5024, 5.3987, 5.3987, 4.126, 4.126]\n",
      "            [0.1, 0.1, -0.196, -0.196, -0.3, -0.3, -1.573, -1.573]\n",
      "        \n",
      "\n",
      "            Parlay system total bet 5.7:\n",
      "        \n"
     ]
    }
   ],
   "metadata": {
    "pycharm": {
     "name": "#%%\n"
    }
   }
  },
  {
   "cell_type": "code",
   "execution_count": 14,
   "source": [
    "results.head(10)\n",
    "results.to_csv('/Users/ramp/Desktop/projects/sports_book2/data/spread_betting.csv', header=True, index=False)\n",
    "\n",
    "# results_implied_profit.head(10)"
   ],
   "outputs": [],
   "metadata": {
    "pycharm": {
     "name": "#%%\n"
    }
   }
  },
  {
   "cell_type": "code",
   "execution_count": 15,
   "source": [
    "print(f'''\n",
    "    Total Bet Amount: {results['bet'].sum()}\n",
    "    Total Implied Probability: {results['implied_prob'].sum()}\n",
    "    Average Profit: {results['profit'].mean()}\n",
    "''')"
   ],
   "outputs": [
    {
     "output_type": "stream",
     "name": "stdout",
     "text": [
      "\n",
      "    Total Bet Amount: 5.699\n",
      "    Total Implied Probability: 1.137705093260649\n",
      "    Average Profit: -0.49225\n",
      "\n"
     ]
    }
   ],
   "metadata": {
    "pycharm": {
     "name": "#%%\n"
    }
   }
  },
  {
   "cell_type": "code",
   "execution_count": 16,
   "source": [
    "results['expected_value'] = results['implied_prob'] * results['profit']\n",
    "results[['event', 'bet', 'dec_odds', 'implied_prob', 'profit', 'expected_value']].head(10)"
   ],
   "outputs": [
    {
     "output_type": "execute_result",
     "data": {
      "text/html": [
       "<div>\n",
       "<style scoped>\n",
       "    .dataframe tbody tr th:only-of-type {\n",
       "        vertical-align: middle;\n",
       "    }\n",
       "\n",
       "    .dataframe tbody tr th {\n",
       "        vertical-align: top;\n",
       "    }\n",
       "\n",
       "    .dataframe thead th {\n",
       "        text-align: right;\n",
       "    }\n",
       "</style>\n",
       "<table border=\"1\" class=\"dataframe\">\n",
       "  <thead>\n",
       "    <tr style=\"text-align: right;\">\n",
       "      <th></th>\n",
       "      <th>event</th>\n",
       "      <th>bet</th>\n",
       "      <th>dec_odds</th>\n",
       "      <th>implied_prob</th>\n",
       "      <th>profit</th>\n",
       "      <th>expected_value</th>\n",
       "    </tr>\n",
       "  </thead>\n",
       "  <tbody>\n",
       "    <tr>\n",
       "      <th>0</th>\n",
       "      <td>bears_eagles_raiders</td>\n",
       "      <td>0.5000</td>\n",
       "      <td>11.5977</td>\n",
       "      <td>0.086224</td>\n",
       "      <td>0.100</td>\n",
       "      <td>0.008622</td>\n",
       "    </tr>\n",
       "    <tr>\n",
       "      <th>1</th>\n",
       "      <td>bears_niners_raiders</td>\n",
       "      <td>0.5000</td>\n",
       "      <td>11.5977</td>\n",
       "      <td>0.086224</td>\n",
       "      <td>0.100</td>\n",
       "      <td>0.008622</td>\n",
       "    </tr>\n",
       "    <tr>\n",
       "      <th>2</th>\n",
       "      <td>bears_bills_eagles</td>\n",
       "      <td>0.7337</td>\n",
       "      <td>7.5000</td>\n",
       "      <td>0.133333</td>\n",
       "      <td>-0.196</td>\n",
       "      <td>-0.026133</td>\n",
       "    </tr>\n",
       "    <tr>\n",
       "      <th>3</th>\n",
       "      <td>bears_bills_niners</td>\n",
       "      <td>0.7337</td>\n",
       "      <td>7.5000</td>\n",
       "      <td>0.133333</td>\n",
       "      <td>-0.196</td>\n",
       "      <td>-0.026133</td>\n",
       "    </tr>\n",
       "    <tr>\n",
       "      <th>4</th>\n",
       "      <td>colts_eagles_raiders</td>\n",
       "      <td>0.7406</td>\n",
       "      <td>7.2900</td>\n",
       "      <td>0.137174</td>\n",
       "      <td>-0.300</td>\n",
       "      <td>-0.041152</td>\n",
       "    </tr>\n",
       "    <tr>\n",
       "      <th>5</th>\n",
       "      <td>colts_niners_raiders</td>\n",
       "      <td>0.7406</td>\n",
       "      <td>7.2900</td>\n",
       "      <td>0.137174</td>\n",
       "      <td>-0.300</td>\n",
       "      <td>-0.041152</td>\n",
       "    </tr>\n",
       "    <tr>\n",
       "      <th>6</th>\n",
       "      <td>bills_colts_eagles</td>\n",
       "      <td>0.8752</td>\n",
       "      <td>4.7143</td>\n",
       "      <td>0.212121</td>\n",
       "      <td>-1.573</td>\n",
       "      <td>-0.333667</td>\n",
       "    </tr>\n",
       "    <tr>\n",
       "      <th>7</th>\n",
       "      <td>bills_colts_niners</td>\n",
       "      <td>0.8752</td>\n",
       "      <td>4.7143</td>\n",
       "      <td>0.212121</td>\n",
       "      <td>-1.573</td>\n",
       "      <td>-0.333667</td>\n",
       "    </tr>\n",
       "  </tbody>\n",
       "</table>\n",
       "</div>"
      ],
      "text/plain": [
       "                  event     bet  dec_odds  implied_prob  profit  expected_value\n",
       "0  bears_eagles_raiders  0.5000   11.5977      0.086224   0.100        0.008622\n",
       "1  bears_niners_raiders  0.5000   11.5977      0.086224   0.100        0.008622\n",
       "2    bears_bills_eagles  0.7337    7.5000      0.133333  -0.196       -0.026133\n",
       "3    bears_bills_niners  0.7337    7.5000      0.133333  -0.196       -0.026133\n",
       "4  colts_eagles_raiders  0.7406    7.2900      0.137174  -0.300       -0.041152\n",
       "5  colts_niners_raiders  0.7406    7.2900      0.137174  -0.300       -0.041152\n",
       "6    bills_colts_eagles  0.8752    4.7143      0.212121  -1.573       -0.333667\n",
       "7    bills_colts_niners  0.8752    4.7143      0.212121  -1.573       -0.333667"
      ]
     },
     "metadata": {},
     "execution_count": 16
    }
   ],
   "metadata": {
    "pycharm": {
     "name": "#%%\n"
    }
   }
  },
  {
   "cell_type": "code",
   "execution_count": 17,
   "source": [
    "\n",
    "print(f'''\n",
    "    Total Bet           : {results['bet'].sum()}\n",
    "    Total Expected value: {results['expected_value'].sum()}\n",
    "''')"
   ],
   "outputs": [
    {
     "output_type": "stream",
     "name": "stdout",
     "text": [
      "\n",
      "    Total Bet           : 5.699\n",
      "    Total Expected value: -0.7846597687634725\n",
      "\n"
     ]
    }
   ],
   "metadata": {
    "pycharm": {
     "name": "#%%\n"
    }
   }
  },
  {
   "cell_type": "code",
   "execution_count": null,
   "source": [],
   "outputs": [],
   "metadata": {
    "pycharm": {
     "name": "#%%\n"
    }
   }
  }
 ],
 "metadata": {
  "kernelspec": {
   "name": "python3",
   "display_name": "Python 3.7.10 64-bit ('sports_book2-XNYDZ0u0': pipenv)"
  },
  "language_info": {
   "codemirror_mode": {
    "name": "ipython",
    "version": 3
   },
   "file_extension": ".py",
   "mimetype": "text/x-python",
   "name": "python",
   "nbconvert_exporter": "python",
   "pygments_lexer": "ipython3",
   "version": "3.7.10"
  },
  "interpreter": {
   "hash": "7f2eb1d2e80d0edcbfffa5e6e7b1da9cf64b46c836d91354f7bbc5d93327dc81"
  }
 },
 "nbformat": 4,
 "nbformat_minor": 1
}