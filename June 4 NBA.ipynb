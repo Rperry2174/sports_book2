{
 "cells": [
  {
   "cell_type": "code",
   "execution_count": 1,
   "metadata": {},
   "outputs": [],
   "source": [
    "import os\n",
    "import numpy as np"
   ]
  },
  {
   "cell_type": "code",
   "execution_count": 2,
   "metadata": {},
   "outputs": [],
   "source": [
    "from classes.money_line import MoneyLine\n",
    "from classes.parlay_system import ParlaySystem"
   ]
  },
  {
   "cell_type": "code",
   "execution_count": 3,
   "metadata": {
    "pycharm": {
     "name": "#%%\n"
    }
   },
   "outputs": [],
   "source": [
    "match_a_team_1 = MoneyLine(event=\"clippers\",\n",
    "                           bet_amount=100,\n",
    "                           money_line_odds=-136)\n",
    "# match_a_team_1.df_stats"
   ]
  },
  {
   "cell_type": "code",
   "execution_count": 4,
   "metadata": {
    "pycharm": {
     "name": "#%%\n"
    }
   },
   "outputs": [],
   "source": [
    "match_a_team_2 = MoneyLine(event=\"mavs\",\n",
    "                           bet_amount=100,\n",
    "                           money_line_odds=114)\n",
    "# match_a_team_2.df_stats"
   ]
  },
  {
   "cell_type": "code",
   "execution_count": 5,
   "metadata": {
    "pycharm": {
     "name": "#%%\n"
    }
   },
   "outputs": [],
   "source": [
    "match_b_team_1 = MoneyLine(event=\"bucks\",\n",
    "                           bet_amount=100,\n",
    "                           money_line_odds=110)\n",
    "\n",
    "# match_b_team_1.df_stats"
   ]
  },
  {
   "cell_type": "code",
   "execution_count": 6,
   "metadata": {
    "pycharm": {
     "name": "#%%\n"
    }
   },
   "outputs": [],
   "source": [
    "match_b_team_2 = MoneyLine(event=\"nets\",\n",
    "                           bet_amount=100,\n",
    "                           money_line_odds=-132)\n",
    "\n",
    "# match_b_team_2.df_stats"
   ]
  },
  {
   "cell_type": "code",
   "execution_count": 7,
   "metadata": {
    "pycharm": {
     "name": "#%%\n"
    }
   },
   "outputs": [],
   "source": [
    "match_c_team_1 = MoneyLine(event=\"hawks\",\n",
    "                           bet_amount=100,\n",
    "                           money_line_odds=116)\n",
    "\n",
    "# match_c_team_1.df_stats"
   ]
  },
  {
   "cell_type": "code",
   "execution_count": 8,
   "metadata": {},
   "outputs": [],
   "source": [
    "match_c_team_2 = MoneyLine(event=\"sixers\",\n",
    "                           bet_amount=100,\n",
    "                           money_line_odds=-137)\n",
    "\n",
    "# match_c_team_2.df_stats"
   ]
  },
  {
   "cell_type": "code",
   "execution_count": 9,
   "metadata": {
    "pycharm": {
     "name": "#%%\n"
    }
   },
   "outputs": [],
   "source": [
    "binaries = [\n",
    "    [match_a_team_1, match_a_team_2],\n",
    "    [match_b_team_1, match_b_team_2],\n",
    "    [match_c_team_1, match_c_team_2]\n",
    "]"
   ]
  },
  {
   "cell_type": "code",
   "execution_count": 10,
   "metadata": {
    "pycharm": {
     "name": "#%%\n"
    }
   },
   "outputs": [
    {
     "name": "stdout",
     "output_type": "stream",
     "text": [
      "\n",
      "            constraints:\n",
      "            [{'type': 'ineq', 'fun': <function ParlaySystem.slsqp_solver.<locals>.<listcomp>.<lambda> at 0x13deaa9e0>}, {'type': 'ineq', 'fun': <function ParlaySystem.slsqp_solver.<locals>.<listcomp>.<lambda> at 0x13deaaa70>}, {'type': 'ineq', 'fun': <function ParlaySystem.slsqp_solver.<locals>.<listcomp>.<lambda> at 0x13deaab00>}, {'type': 'ineq', 'fun': <function ParlaySystem.slsqp_solver.<locals>.<listcomp>.<lambda> at 0x13deaab90>}, {'type': 'ineq', 'fun': <function ParlaySystem.slsqp_solver.<locals>.<listcomp>.<lambda> at 0x13deaac20>}, {'type': 'ineq', 'fun': <function ParlaySystem.slsqp_solver.<locals>.<listcomp>.<lambda> at 0x13deaacb0>}, {'type': 'ineq', 'fun': <function ParlaySystem.slsqp_solver.<locals>.<listcomp>.<lambda> at 0x13deaad40>}, {'type': 'ineq', 'fun': <function ParlaySystem.slsqp_solver.<locals>.<listcomp>.<lambda> at 0x13deaadd0>}]\n",
      "        \n",
      "\n",
      "            final_val:\n",
      "                 fun: 0.0036621319065781007\n",
      "     jac: array([0.01692825, 0.01692825, 0.01692825, 0.01692825, 0.01692825,\n",
      "       0.01692825, 0.01692825, 0.01692825])\n",
      " message: 'Positive directional derivative for linesearch'\n",
      "    nfev: 241\n",
      "     nit: 20\n",
      "    njev: 16\n",
      "  status: 8\n",
      " success: False\n",
      "       x: array([0.03001235, 0.03585974, 0.03480616, 0.03417688, 0.02498049,\n",
      "       0.02422869, 0.02226825, 0.01      ])\n",
      "        \n",
      "\n",
      "            ['bucks_hawks_mavs', 'hawks_mavs_nets', 'bucks_clippers_hawks', 'bucks_mavs_sixers', 'clippers_hawks_nets', 'mavs_nets_sixers', 'bucks_clippers_sixers', 'clippers_nets_sixers']\n",
      "            [870.7040000000001, 712.4218181818181, 687.129411764706, 677.4291970802919, 558.7807486631016, 550.6622428666224, 530.4057535422929, 427.6123189820055]\n",
      "            [0.03, 0.0359, 0.0348, 0.0342, 0.025, 0.0242, 0.0223, 0.01]\n",
      "            [9.707, 8.1242, 7.8713, 7.7743, 6.5878, 6.5066, 6.3041, 5.2761]\n",
      "            [0.10301801579060145, 0.1230887671429083, 0.1270439123546468, 0.12862907693145478, 0.1517955711409832, 0.15368956950603133, 0.15862799385648557, 0.1895331030043871]\n",
      "            [0.2913, 0.2913, 0.274, 0.2657, 0.1646, 0.1576, 0.1404, 0.0528]\n",
      "            [0.075, 0.075, 0.058, 0.049, -0.052, -0.059, -0.076, -0.164]\n",
      "        \n",
      "\n",
      "            Parlay system total bet 0.22:\n",
      "        \n"
     ]
    }
   ],
   "source": [
    "parlay_system = ParlaySystem(binaries=binaries,\n",
    "                             target_profit=0.075,\n",
    "                             bounds=(0.01, 50))\n",
    "\n",
    "results = parlay_system.slsqp_solver(profit_type='avg_implied_profit')\n",
    "# results = parlay_system.slsqp_solver(profit_type='avg_profit')"
   ]
  },
  {
   "cell_type": "code",
   "execution_count": 11,
   "metadata": {
    "pycharm": {
     "name": "#%%\n"
    }
   },
   "outputs": [],
   "source": [
    "results.head(10)\n",
    "results.to_csv('/Users/ramp/Desktop/projects/sports_book2/data/spread_betting.csv', header=True, index=False)\n",
    "\n",
    "# results_implied_profit.head(10)"
   ]
  },
  {
   "cell_type": "code",
   "execution_count": 12,
   "metadata": {
    "pycharm": {
     "name": "#%%\n"
    }
   },
   "outputs": [
    {
     "name": "stdout",
     "output_type": "stream",
     "text": [
      "\n",
      "    Total Bet Amount: 0.21640000000000004\n",
      "    Total Implied Probability: 1.1354260097274986\n",
      "    Average Profit: -0.011749999999999997\n",
      "\n"
     ]
    }
   ],
   "source": [
    "print(f'''\n",
    "    Total Bet Amount: {results['bet'].sum()}\n",
    "    Total Implied Probability: {results['implied_prob'].sum()}\n",
    "    Average Profit: {results['profit'].mean()}\n",
    "''')"
   ]
  },
  {
   "cell_type": "code",
   "execution_count": 13,
   "metadata": {
    "pycharm": {
     "name": "#%%\n"
    }
   },
   "outputs": [
    {
     "data": {
      "text/html": [
       "<div>\n",
       "<style scoped>\n",
       "    .dataframe tbody tr th:only-of-type {\n",
       "        vertical-align: middle;\n",
       "    }\n",
       "\n",
       "    .dataframe tbody tr th {\n",
       "        vertical-align: top;\n",
       "    }\n",
       "\n",
       "    .dataframe thead th {\n",
       "        text-align: right;\n",
       "    }\n",
       "</style>\n",
       "<table border=\"1\" class=\"dataframe\">\n",
       "  <thead>\n",
       "    <tr style=\"text-align: right;\">\n",
       "      <th></th>\n",
       "      <th>event</th>\n",
       "      <th>bet</th>\n",
       "      <th>dec_odds</th>\n",
       "      <th>implied_prob</th>\n",
       "      <th>payout</th>\n",
       "      <th>profit</th>\n",
       "      <th>expected_value</th>\n",
       "    </tr>\n",
       "  </thead>\n",
       "  <tbody>\n",
       "    <tr>\n",
       "      <th>0</th>\n",
       "      <td>bucks_hawks_mavs</td>\n",
       "      <td>0.0300</td>\n",
       "      <td>9.7070</td>\n",
       "      <td>0.103018</td>\n",
       "      <td>0.2913</td>\n",
       "      <td>0.075</td>\n",
       "      <td>0.007726</td>\n",
       "    </tr>\n",
       "    <tr>\n",
       "      <th>1</th>\n",
       "      <td>hawks_mavs_nets</td>\n",
       "      <td>0.0359</td>\n",
       "      <td>8.1242</td>\n",
       "      <td>0.123089</td>\n",
       "      <td>0.2913</td>\n",
       "      <td>0.075</td>\n",
       "      <td>0.009232</td>\n",
       "    </tr>\n",
       "    <tr>\n",
       "      <th>2</th>\n",
       "      <td>bucks_clippers_hawks</td>\n",
       "      <td>0.0348</td>\n",
       "      <td>7.8713</td>\n",
       "      <td>0.127044</td>\n",
       "      <td>0.2740</td>\n",
       "      <td>0.058</td>\n",
       "      <td>0.007369</td>\n",
       "    </tr>\n",
       "    <tr>\n",
       "      <th>3</th>\n",
       "      <td>bucks_mavs_sixers</td>\n",
       "      <td>0.0342</td>\n",
       "      <td>7.7743</td>\n",
       "      <td>0.128629</td>\n",
       "      <td>0.2657</td>\n",
       "      <td>0.049</td>\n",
       "      <td>0.006303</td>\n",
       "    </tr>\n",
       "    <tr>\n",
       "      <th>4</th>\n",
       "      <td>clippers_hawks_nets</td>\n",
       "      <td>0.0250</td>\n",
       "      <td>6.5878</td>\n",
       "      <td>0.151796</td>\n",
       "      <td>0.1646</td>\n",
       "      <td>-0.052</td>\n",
       "      <td>-0.007893</td>\n",
       "    </tr>\n",
       "    <tr>\n",
       "      <th>5</th>\n",
       "      <td>mavs_nets_sixers</td>\n",
       "      <td>0.0242</td>\n",
       "      <td>6.5066</td>\n",
       "      <td>0.153690</td>\n",
       "      <td>0.1576</td>\n",
       "      <td>-0.059</td>\n",
       "      <td>-0.009068</td>\n",
       "    </tr>\n",
       "    <tr>\n",
       "      <th>6</th>\n",
       "      <td>bucks_clippers_sixers</td>\n",
       "      <td>0.0223</td>\n",
       "      <td>6.3041</td>\n",
       "      <td>0.158628</td>\n",
       "      <td>0.1404</td>\n",
       "      <td>-0.076</td>\n",
       "      <td>-0.012056</td>\n",
       "    </tr>\n",
       "    <tr>\n",
       "      <th>7</th>\n",
       "      <td>clippers_nets_sixers</td>\n",
       "      <td>0.0100</td>\n",
       "      <td>5.2761</td>\n",
       "      <td>0.189533</td>\n",
       "      <td>0.0528</td>\n",
       "      <td>-0.164</td>\n",
       "      <td>-0.031083</td>\n",
       "    </tr>\n",
       "  </tbody>\n",
       "</table>\n",
       "</div>"
      ],
      "text/plain": [
       "                   event     bet  dec_odds  implied_prob  payout  profit  expected_value\n",
       "0       bucks_hawks_mavs  0.0300    9.7070      0.103018  0.2913   0.075        0.007726\n",
       "1        hawks_mavs_nets  0.0359    8.1242      0.123089  0.2913   0.075        0.009232\n",
       "2   bucks_clippers_hawks  0.0348    7.8713      0.127044  0.2740   0.058        0.007369\n",
       "3      bucks_mavs_sixers  0.0342    7.7743      0.128629  0.2657   0.049        0.006303\n",
       "4    clippers_hawks_nets  0.0250    6.5878      0.151796  0.1646  -0.052       -0.007893\n",
       "5       mavs_nets_sixers  0.0242    6.5066      0.153690  0.1576  -0.059       -0.009068\n",
       "6  bucks_clippers_sixers  0.0223    6.3041      0.158628  0.1404  -0.076       -0.012056\n",
       "7   clippers_nets_sixers  0.0100    5.2761      0.189533  0.0528  -0.164       -0.031083"
      ]
     },
     "execution_count": 13,
     "metadata": {},
     "output_type": "execute_result"
    }
   ],
   "source": [
    "results['expected_value'] = results['implied_prob'] * results['profit']\n",
    "results[['event', 'bet', 'dec_odds', 'implied_prob', 'payout','profit', 'expected_value']].head(10)"
   ]
  },
  {
   "cell_type": "code",
   "execution_count": 14,
   "metadata": {
    "pycharm": {
     "name": "#%%\n"
    }
   },
   "outputs": [
    {
     "name": "stdout",
     "output_type": "stream",
     "text": [
      "\n",
      "    Total Bet           : 0.21640000000000004\n",
      "    Total Expected value: -0.02947083031977533\n",
      "\n"
     ]
    }
   ],
   "source": [
    "\n",
    "print(f'''\n",
    "    Total Bet           : {results['bet'].sum()}\n",
    "    Total Expected value: {results['expected_value'].sum()}\n",
    "''')"
   ]
  },
  {
   "cell_type": "code",
   "execution_count": 15,
   "metadata": {
    "pycharm": {
     "name": "#%%\n"
    }
   },
   "outputs": [
    {
     "data": {
      "text/html": [
       "<div>\n",
       "<style scoped>\n",
       "    .dataframe tbody tr th:only-of-type {\n",
       "        vertical-align: middle;\n",
       "    }\n",
       "\n",
       "    .dataframe tbody tr th {\n",
       "        vertical-align: top;\n",
       "    }\n",
       "\n",
       "    .dataframe thead th {\n",
       "        text-align: right;\n",
       "    }\n",
       "</style>\n",
       "<table border=\"1\" class=\"dataframe\">\n",
       "  <thead>\n",
       "    <tr style=\"text-align: right;\">\n",
       "      <th></th>\n",
       "      <th>event</th>\n",
       "      <th>ml_odds</th>\n",
       "      <th>dec_odds</th>\n",
       "      <th>bet</th>\n",
       "      <th>implied_prob</th>\n",
       "      <th>payout</th>\n",
       "      <th>profit</th>\n",
       "      <th>expected_value</th>\n",
       "    </tr>\n",
       "  </thead>\n",
       "  <tbody>\n",
       "    <tr>\n",
       "      <th>0</th>\n",
       "      <td>bucks_hawks_mavs</td>\n",
       "      <td>870.704000</td>\n",
       "      <td>9.7070</td>\n",
       "      <td>0.0300</td>\n",
       "      <td>0.103018</td>\n",
       "      <td>0.2913</td>\n",
       "      <td>0.075</td>\n",
       "      <td>0.007726</td>\n",
       "    </tr>\n",
       "    <tr>\n",
       "      <th>1</th>\n",
       "      <td>hawks_mavs_nets</td>\n",
       "      <td>712.421818</td>\n",
       "      <td>8.1242</td>\n",
       "      <td>0.0359</td>\n",
       "      <td>0.123089</td>\n",
       "      <td>0.2913</td>\n",
       "      <td>0.075</td>\n",
       "      <td>0.009232</td>\n",
       "    </tr>\n",
       "    <tr>\n",
       "      <th>2</th>\n",
       "      <td>bucks_clippers_hawks</td>\n",
       "      <td>687.129412</td>\n",
       "      <td>7.8713</td>\n",
       "      <td>0.0348</td>\n",
       "      <td>0.127044</td>\n",
       "      <td>0.2740</td>\n",
       "      <td>0.058</td>\n",
       "      <td>0.007369</td>\n",
       "    </tr>\n",
       "    <tr>\n",
       "      <th>3</th>\n",
       "      <td>bucks_mavs_sixers</td>\n",
       "      <td>677.429197</td>\n",
       "      <td>7.7743</td>\n",
       "      <td>0.0342</td>\n",
       "      <td>0.128629</td>\n",
       "      <td>0.2657</td>\n",
       "      <td>0.049</td>\n",
       "      <td>0.006303</td>\n",
       "    </tr>\n",
       "  </tbody>\n",
       "</table>\n",
       "</div>"
      ],
      "text/plain": [
       "                  event     ml_odds  dec_odds     bet  implied_prob  payout  profit  expected_value\n",
       "0      bucks_hawks_mavs  870.704000    9.7070  0.0300      0.103018  0.2913   0.075        0.007726\n",
       "1       hawks_mavs_nets  712.421818    8.1242  0.0359      0.123089  0.2913   0.075        0.009232\n",
       "2  bucks_clippers_hawks  687.129412    7.8713  0.0348      0.127044  0.2740   0.058        0.007369\n",
       "3     bucks_mavs_sixers  677.429197    7.7743  0.0342      0.128629  0.2657   0.049        0.006303"
      ]
     },
     "execution_count": 15,
     "metadata": {},
     "output_type": "execute_result"
    }
   ],
   "source": [
    "pos_results = results.loc[results['profit'] > -0.005] \n",
    "pos_results"
   ]
  },
  {
   "cell_type": "code",
   "execution_count": 16,
   "metadata": {},
   "outputs": [
    {
     "data": {
      "text/plain": [
       "0.4817797722196113"
      ]
     },
     "execution_count": 16,
     "metadata": {},
     "output_type": "execute_result"
    }
   ],
   "source": [
    "pos_results['implied_prob'].sum()"
   ]
  },
  {
   "cell_type": "code",
   "execution_count": null,
   "metadata": {},
   "outputs": [],
   "source": []
  }
 ],
 "metadata": {
  "kernelspec": {
   "display_name": "Python 3 (ipykernel)",
   "language": "python",
   "name": "python3"
  },
  "language_info": {
   "codemirror_mode": {
    "name": "ipython",
    "version": 3
   },
   "file_extension": ".py",
   "mimetype": "text/x-python",
   "name": "python",
   "nbconvert_exporter": "python",
   "pygments_lexer": "ipython3",
   "version": "3.9.5"
  }
 },
 "nbformat": 4,
 "nbformat_minor": 1
}
