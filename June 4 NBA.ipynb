{
 "cells": [
  {
   "cell_type": "code",
   "execution_count": 16,
   "metadata": {},
   "outputs": [],
   "source": [
    "import os\n",
    "import numpy as np"
   ]
  },
  {
   "cell_type": "code",
   "execution_count": 17,
   "metadata": {},
   "outputs": [],
   "source": [
    "from classes.money_line import MoneyLine\n",
    "from classes.parlay_system import ParlaySystem"
   ]
  },
  {
   "cell_type": "code",
   "execution_count": 18,
   "metadata": {
    "pycharm": {
     "name": "#%%\n"
    }
   },
   "outputs": [],
   "source": [
    "match_a_team_1 = MoneyLine(event=\"nrth_bama\",\n",
    "                           bet_amount=100,\n",
    "                           money_line_odds=340)\n",
    "# match_a_team_1.df_stats"
   ]
  },
  {
   "cell_type": "code",
   "execution_count": 19,
   "metadata": {
    "pycharm": {
     "name": "#%%\n"
    }
   },
   "outputs": [],
   "source": [
    "match_a_team_2 = MoneyLine(event=\"sth_utah\",\n",
    "                           bet_amount=100,\n",
    "                           money_line_odds=-425)\n",
    "# match_a_team_2.df_stats"
   ]
  },
  {
   "cell_type": "code",
   "execution_count": 20,
   "metadata": {
    "pycharm": {
     "name": "#%%\n"
    }
   },
   "outputs": [],
   "source": [
    "match_b_team_1 = MoneyLine(event=\"cinci\",\n",
    "                           bet_amount=100,\n",
    "                           money_line_odds=-120)\n",
    "\n",
    "# match_b_team_1.df_stats"
   ]
  },
  {
   "cell_type": "code",
   "execution_count": 21,
   "metadata": {
    "pycharm": {
     "name": "#%%\n"
    }
   },
   "outputs": [],
   "source": [
    "match_b_team_2 = MoneyLine(event=\"hofstra\",\n",
    "                           bet_amount=100,\n",
    "                           money_line_odds=100)\n",
    "\n",
    "# match_b_team_2.df_stats"
   ]
  },
  {
   "cell_type": "code",
   "execution_count": 22,
   "metadata": {
    "pycharm": {
     "name": "#%%\n"
    }
   },
   "outputs": [],
   "source": [
    "match_c_team_1 = MoneyLine(event=\"duke\",\n",
    "                           bet_amount=100,\n",
    "                           money_line_odds=-180)\n",
    "\n",
    "# match_c_team_1.df_stats"
   ]
  },
  {
   "cell_type": "code",
   "execution_count": 23,
   "metadata": {},
   "outputs": [],
   "source": [
    "match_c_team_2 = MoneyLine(event=\"tenn\",\n",
    "                           bet_amount=100,\n",
    "                           money_line_odds=155)\n",
    "\n",
    "# match_c_team_2.df_stats"
   ]
  },
  {
   "cell_type": "code",
   "execution_count": 24,
   "metadata": {
    "pycharm": {
     "name": "#%%\n"
    }
   },
   "outputs": [],
   "source": [
    "binaries = [\n",
    "    [match_a_team_1, match_a_team_2],\n",
    "    [match_b_team_1, match_b_team_2],\n",
    "    [match_c_team_1, match_c_team_2]\n",
    "]"
   ]
  },
  {
   "cell_type": "code",
   "execution_count": 25,
   "metadata": {
    "pycharm": {
     "name": "#%%\n"
    }
   },
   "outputs": [
    {
     "name": "stdout",
     "output_type": "stream",
     "text": [
      "\n",
      "            constraints:\n",
      "            [{'type': 'ineq', 'fun': <function ParlaySystem.slsqp_solver.<locals>.<lambda> at 0x15fefedc0>}, {'type': 'ineq', 'fun': <function ParlaySystem.slsqp_solver.<locals>.<lambda> at 0x13709eee0>}, {'type': 'ineq', 'fun': <function ParlaySystem.slsqp_solver.<locals>.<lambda> at 0x13709ee50>}, {'type': 'ineq', 'fun': <function ParlaySystem.slsqp_solver.<locals>.<lambda> at 0x15ff20af0>}, {'type': 'ineq', 'fun': <function ParlaySystem.slsqp_solver.<locals>.<lambda> at 0x15ff20c10>}, {'type': 'ineq', 'fun': <function ParlaySystem.slsqp_solver.<locals>.<lambda> at 0x15ff20ca0>}, {'type': 'ineq', 'fun': <function ParlaySystem.slsqp_solver.<locals>.<lambda> at 0x15ff20d30>}, {'type': 'ineq', 'fun': <function ParlaySystem.slsqp_solver.<locals>.<lambda> at 0x15ff20e50>}]\n",
      "\n",
      "            bounds:\n",
      "            ((0.01, 50), (0.01, 50), (0.01, 50), (0.01, 50), (0.01, 50), (0.01, 50), (0.01, 50), (0.01, 50))\n",
      "        \n",
      "looiking at x: [1. 1. 1. 1. 1. 1. 1. 1.]\n",
      "looiking at x: [1.00000001 1.         1.         1.         1.         1.\n",
      " 1.         1.        ]\n",
      "looiking at x: [1.         1.00000001 1.         1.         1.         1.\n",
      " 1.         1.        ]\n",
      "looiking at x: [1.         1.         1.00000001 1.         1.         1.\n",
      " 1.         1.        ]\n",
      "looiking at x: [1.         1.         1.         1.00000001 1.         1.\n",
      " 1.         1.        ]\n",
      "looiking at x: [1.         1.         1.         1.         1.00000001 1.\n",
      " 1.         1.        ]\n",
      "looiking at x: [1.         1.         1.         1.         1.         1.00000001\n",
      " 1.         1.        ]\n",
      "looiking at x: [1.         1.         1.         1.         1.         1.\n",
      " 1.00000001 1.        ]\n",
      "looiking at x: [1.         1.         1.         1.         1.         1.\n",
      " 1.         1.00000001]\n",
      "looiking at x: [0.01       0.01       0.01342337 0.01464367 0.01997429 0.01882404\n",
      " 0.01188559 0.01      ]\n",
      "looiking at x: [0.01000001 0.01       0.01342337 0.01464367 0.01997429 0.01882404\n",
      " 0.01188559 0.01      ]\n",
      "looiking at x: [0.01       0.01000001 0.01342337 0.01464367 0.01997429 0.01882404\n",
      " 0.01188559 0.01      ]\n",
      "looiking at x: [0.01       0.01       0.01342338 0.01464367 0.01997429 0.01882404\n",
      " 0.01188559 0.01      ]\n",
      "looiking at x: [0.01       0.01       0.01342337 0.01464369 0.01997429 0.01882404\n",
      " 0.01188559 0.01      ]\n",
      "looiking at x: [0.01       0.01       0.01342337 0.01464367 0.01997431 0.01882404\n",
      " 0.01188559 0.01      ]\n",
      "looiking at x: [0.01       0.01       0.01342337 0.01464367 0.01997429 0.01882406\n",
      " 0.01188559 0.01      ]\n",
      "looiking at x: [0.01       0.01       0.01342337 0.01464367 0.01997429 0.01882404\n",
      " 0.01188561 0.01      ]\n",
      "looiking at x: [0.01       0.01       0.01342337 0.01464367 0.01997429 0.01882404\n",
      " 0.01188559 0.01000001]\n",
      "looiking at x: [0.01       0.01       0.01342337 0.01464367 0.01997429 0.01882404\n",
      " 0.01188559 0.01      ]\n",
      "looiking at x: [0.01000001 0.01       0.01342337 0.01464367 0.01997429 0.01882404\n",
      " 0.01188559 0.01      ]\n",
      "looiking at x: [0.01       0.01000001 0.01342337 0.01464367 0.01997429 0.01882404\n",
      " 0.01188559 0.01      ]\n",
      "looiking at x: [0.01       0.01       0.01342338 0.01464367 0.01997429 0.01882404\n",
      " 0.01188559 0.01      ]\n",
      "looiking at x: [0.01       0.01       0.01342337 0.01464369 0.01997429 0.01882404\n",
      " 0.01188559 0.01      ]\n",
      "looiking at x: [0.01       0.01       0.01342337 0.01464367 0.01997431 0.01882404\n",
      " 0.01188559 0.01      ]\n",
      "looiking at x: [0.01       0.01       0.01342337 0.01464367 0.01997429 0.01882405\n",
      " 0.01188559 0.01      ]\n",
      "looiking at x: [0.01       0.01       0.01342337 0.01464367 0.01997429 0.01882404\n",
      " 0.01188561 0.01      ]\n",
      "looiking at x: [0.01       0.01       0.01342337 0.01464367 0.01997429 0.01882404\n",
      " 0.01188559 0.01000001]\n",
      "looiking at x: [0.01       0.01       0.01342336 0.01464367 0.01997429 0.01882404\n",
      " 0.01188559 0.01      ]\n",
      "looiking at x: [0.01       0.01       0.01342337 0.01464367 0.01997429 0.01882404\n",
      " 0.01188559 0.01      ]\n",
      "looiking at x: [0.01       0.01       0.01342337 0.01464367 0.01997429 0.01882404\n",
      " 0.01188559 0.01      ]\n",
      "looiking at x: [0.01       0.01       0.01342337 0.01464367 0.01997429 0.01882404\n",
      " 0.01188559 0.01      ]\n",
      "looiking at x: [0.01       0.01       0.01342337 0.01464367 0.01997429 0.01882404\n",
      " 0.01188559 0.01      ]\n",
      "looiking at x: [0.01       0.01       0.01342337 0.01464367 0.01997429 0.01882404\n",
      " 0.01188559 0.01      ]\n",
      "looiking at x: [0.01       0.01       0.01342337 0.01464367 0.01997429 0.01882404\n",
      " 0.01188559 0.01      ]\n",
      "looiking at x: [0.01       0.01       0.01342337 0.01464367 0.01997429 0.01882404\n",
      " 0.01188559 0.01      ]\n",
      "looiking at x: [0.01       0.01       0.01342337 0.01464367 0.01997429 0.01882404\n",
      " 0.01188559 0.01      ]\n",
      "looiking at x: [0.01       0.01       0.01342337 0.01464367 0.01997429 0.01882404\n",
      " 0.01188559 0.01      ]\n",
      "looiking at x: [0.01       0.01       0.01342337 0.01464367 0.01997429 0.01882404\n",
      " 0.01188559 0.01      ]\n",
      "looiking at x: [0.01000001 0.01       0.01342337 0.01464367 0.01997429 0.01882404\n",
      " 0.01188559 0.01      ]\n",
      "looiking at x: [0.01       0.01000001 0.01342337 0.01464367 0.01997429 0.01882404\n",
      " 0.01188559 0.01      ]\n",
      "looiking at x: [0.01       0.01       0.01342338 0.01464367 0.01997429 0.01882404\n",
      " 0.01188559 0.01      ]\n",
      "looiking at x: [0.01       0.01       0.01342337 0.01464369 0.01997429 0.01882404\n",
      " 0.01188559 0.01      ]\n",
      "looiking at x: [0.01       0.01       0.01342337 0.01464367 0.01997431 0.01882404\n",
      " 0.01188559 0.01      ]\n",
      "looiking at x: [0.01       0.01       0.01342337 0.01464367 0.01997429 0.01882405\n",
      " 0.01188559 0.01      ]\n",
      "looiking at x: [0.01       0.01       0.01342337 0.01464367 0.01997429 0.01882404\n",
      " 0.01188561 0.01      ]\n",
      "looiking at x: [0.01       0.01       0.01342337 0.01464367 0.01997429 0.01882404\n",
      " 0.01188559 0.01000001]\n",
      "looiking at x: [0.01       0.01       0.01342337 0.01464367 0.01997429 0.01882404\n",
      " 0.01188559 0.01      ]\n",
      "looiking at x: [0.01       0.01       0.01342337 0.01464367 0.01997429 0.01882404\n",
      " 0.01188559 0.01      ]\n",
      "looiking at x: [0.01       0.01       0.01342337 0.01464367 0.01997429 0.01882404\n",
      " 0.01188559 0.01      ]\n",
      "looiking at x: [0.01       0.01       0.01342337 0.01464367 0.01997429 0.01882404\n",
      " 0.01188559 0.01      ]\n",
      "looiking at x: [0.01       0.01       0.01342337 0.01464367 0.01997429 0.01882404\n",
      " 0.01188559 0.01      ]\n",
      "looiking at x: [0.01       0.01       0.01342337 0.01464367 0.01997429 0.01882404\n",
      " 0.01188559 0.01      ]\n",
      "looiking at x: [0.01       0.01       0.01342337 0.01464367 0.01997429 0.01882404\n",
      " 0.01188559 0.01      ]\n",
      "looiking at x: [0.01       0.01       0.01342337 0.01464367 0.01997429 0.01882404\n",
      " 0.01188559 0.01      ]\n",
      "looiking at x: [0.01       0.01       0.01342337 0.01464367 0.01997429 0.01882404\n",
      " 0.01188559 0.01      ]\n",
      "looiking at x: [0.01       0.01       0.01342337 0.01464367 0.01997429 0.01882404\n",
      " 0.01188559 0.01      ]\n",
      "looiking at x: [0.01000001 0.01       0.01342337 0.01464367 0.01997429 0.01882404\n",
      " 0.01188559 0.01      ]\n",
      "looiking at x: [0.01       0.01000001 0.01342337 0.01464367 0.01997429 0.01882404\n",
      " 0.01188559 0.01      ]\n",
      "looiking at x: [0.01       0.01       0.01342338 0.01464367 0.01997429 0.01882404\n",
      " 0.01188559 0.01      ]\n",
      "looiking at x: [0.01       0.01       0.01342337 0.01464369 0.01997429 0.01882404\n",
      " 0.01188559 0.01      ]\n",
      "looiking at x: [0.01       0.01       0.01342337 0.01464367 0.01997431 0.01882404\n",
      " 0.01188559 0.01      ]\n",
      "looiking at x: [0.01       0.01       0.01342337 0.01464367 0.01997429 0.01882405\n",
      " 0.01188559 0.01      ]\n",
      "looiking at x: [0.01       0.01       0.01342337 0.01464367 0.01997429 0.01882404\n",
      " 0.01188561 0.01      ]\n",
      "looiking at x: [0.01       0.01       0.01342337 0.01464367 0.01997429 0.01882404\n",
      " 0.01188559 0.01000001]\n",
      "\n",
      "            final_val:\n",
      "             message: Positive directional derivative for linesearch\n",
      " success: False\n",
      "  status: 8\n",
      "     fun: 0.0016567687543986697\n",
      "       x: [ 1.000e-02  1.000e-02  1.342e-02  1.464e-02  1.997e-02\n",
      "            1.882e-02  1.189e-02  1.000e-02]\n",
      "     nit: 9\n",
      "     jac: [ 1.523e-02  1.523e-02  1.523e-02  1.523e-02  1.523e-02\n",
      "            1.523e-02  1.523e-02  1.523e-02]\n",
      "    nfev: 64\n",
      "    njev: 5\n",
      "        \n",
      "\n",
      "            ['hofstra_nrth_bama_tenn', 'cinci_nrth_bama_tenn', 'duke_hofstra_nrth_bama', 'cinci_duke_nrth_bama', 'hofstra_sth_utah_tenn', 'cinci_sth_utah_tenn', 'duke_hofstra_sth_utah', 'cinci_duke_sth_utah']\n",
      "            [2144.0, 1957.0000000000005, 1268.888888888889, 1154.814814814815, 530.0, 477.50000000000006, 284.3137254901961, 252.28758169934648]\n",
      "            [0.01, 0.01, 0.0134, 0.0146, 0.02, 0.0188, 0.0119, 0.01]\n",
      "            [22.44, 20.57, 13.6889, 12.5481, 6.3, 5.775, 3.8431, 3.5229]\n",
      "            [0.044563279857397504, 0.048614487117160904, 0.07305194805194805, 0.07969303423848877, 0.15873015873015872, 0.17316017316017315, 0.2602040816326531, 0.2838589981447124]\n",
      "            [0.2244, 0.2057, 0.1838, 0.1838, 0.1258, 0.1087, 0.0457, 0.0352]\n",
      "            [0, 0, 0, 0, 0, 0, 0, 0]\n",
      "            [0.116, 0.097, 0.075, 0.075, 0.017, -0.0, -0.063, -0.074]\n",
      "        \n",
      "\n",
      "            Parlay system total bet 0.11:\n",
      "        \n"
     ]
    }
   ],
   "source": [
    "parlay_system = ParlaySystem(binaries=binaries,\n",
    "                             target_profit=0.075,\n",
    "                             bounds=(0.01, 50))\n",
    "\n",
    "results = parlay_system.slsqp_solver(profit_type='avg_implied_profit')\n",
    "# results = parlay_system.slsqp_solver(profit_type='avg_profit')"
   ]
  },
  {
   "cell_type": "code",
   "execution_count": 27,
   "metadata": {
    "pycharm": {
     "name": "#%%\n"
    }
   },
   "outputs": [],
   "source": [
    "results.head(10)\n",
    "results.to_csv('/Users/rperry2174/Desktop/projects/sports_book2/data/spread_betting.csv', header=True, index=False)\n",
    "\n",
    "# results_implied_profit.head(10)"
   ]
  },
  {
   "cell_type": "code",
   "execution_count": 28,
   "metadata": {
    "pycharm": {
     "name": "#%%\n"
    }
   },
   "outputs": [
    {
     "name": "stdout",
     "output_type": "stream",
     "text": [
      "\n",
      "    Total Bet Amount: 0.1087\n",
      "    Total Implied Probability: 1.1218761609326926\n",
      "    Average Profit: 0.030375\n",
      "\n"
     ]
    }
   ],
   "source": [
    "print(f'''\n",
    "    Total Bet Amount: {results['bet'].sum()}\n",
    "    Total Implied Probability: {results['implied_prob'].sum()}\n",
    "    Average Profit: {results['profit'].mean()}\n",
    "''')"
   ]
  },
  {
   "cell_type": "code",
   "execution_count": 29,
   "metadata": {
    "pycharm": {
     "name": "#%%\n"
    }
   },
   "outputs": [
    {
     "data": {
      "text/html": [
       "<div>\n",
       "<style scoped>\n",
       "    .dataframe tbody tr th:only-of-type {\n",
       "        vertical-align: middle;\n",
       "    }\n",
       "\n",
       "    .dataframe tbody tr th {\n",
       "        vertical-align: top;\n",
       "    }\n",
       "\n",
       "    .dataframe thead th {\n",
       "        text-align: right;\n",
       "    }\n",
       "</style>\n",
       "<table border=\"1\" class=\"dataframe\">\n",
       "  <thead>\n",
       "    <tr style=\"text-align: right;\">\n",
       "      <th></th>\n",
       "      <th>event</th>\n",
       "      <th>bet</th>\n",
       "      <th>dec_odds</th>\n",
       "      <th>implied_prob</th>\n",
       "      <th>payout</th>\n",
       "      <th>profit</th>\n",
       "      <th>expected_value</th>\n",
       "    </tr>\n",
       "  </thead>\n",
       "  <tbody>\n",
       "    <tr>\n",
       "      <th>0</th>\n",
       "      <td>hofstra_nrth_bama_tenn</td>\n",
       "      <td>0.0100</td>\n",
       "      <td>22.4400</td>\n",
       "      <td>0.044563</td>\n",
       "      <td>0.2244</td>\n",
       "      <td>0.116</td>\n",
       "      <td>0.005169</td>\n",
       "    </tr>\n",
       "    <tr>\n",
       "      <th>1</th>\n",
       "      <td>cinci_nrth_bama_tenn</td>\n",
       "      <td>0.0100</td>\n",
       "      <td>20.5700</td>\n",
       "      <td>0.048614</td>\n",
       "      <td>0.2057</td>\n",
       "      <td>0.097</td>\n",
       "      <td>0.004716</td>\n",
       "    </tr>\n",
       "    <tr>\n",
       "      <th>2</th>\n",
       "      <td>duke_hofstra_nrth_bama</td>\n",
       "      <td>0.0134</td>\n",
       "      <td>13.6889</td>\n",
       "      <td>0.073052</td>\n",
       "      <td>0.1838</td>\n",
       "      <td>0.075</td>\n",
       "      <td>0.005479</td>\n",
       "    </tr>\n",
       "    <tr>\n",
       "      <th>3</th>\n",
       "      <td>cinci_duke_nrth_bama</td>\n",
       "      <td>0.0146</td>\n",
       "      <td>12.5481</td>\n",
       "      <td>0.079693</td>\n",
       "      <td>0.1838</td>\n",
       "      <td>0.075</td>\n",
       "      <td>0.005977</td>\n",
       "    </tr>\n",
       "    <tr>\n",
       "      <th>4</th>\n",
       "      <td>hofstra_sth_utah_tenn</td>\n",
       "      <td>0.0200</td>\n",
       "      <td>6.3000</td>\n",
       "      <td>0.158730</td>\n",
       "      <td>0.1258</td>\n",
       "      <td>0.017</td>\n",
       "      <td>0.002698</td>\n",
       "    </tr>\n",
       "    <tr>\n",
       "      <th>5</th>\n",
       "      <td>cinci_sth_utah_tenn</td>\n",
       "      <td>0.0188</td>\n",
       "      <td>5.7750</td>\n",
       "      <td>0.173160</td>\n",
       "      <td>0.1087</td>\n",
       "      <td>-0.000</td>\n",
       "      <td>-0.000000</td>\n",
       "    </tr>\n",
       "    <tr>\n",
       "      <th>6</th>\n",
       "      <td>duke_hofstra_sth_utah</td>\n",
       "      <td>0.0119</td>\n",
       "      <td>3.8431</td>\n",
       "      <td>0.260204</td>\n",
       "      <td>0.0457</td>\n",
       "      <td>-0.063</td>\n",
       "      <td>-0.016393</td>\n",
       "    </tr>\n",
       "    <tr>\n",
       "      <th>7</th>\n",
       "      <td>cinci_duke_sth_utah</td>\n",
       "      <td>0.0100</td>\n",
       "      <td>3.5229</td>\n",
       "      <td>0.283859</td>\n",
       "      <td>0.0352</td>\n",
       "      <td>-0.074</td>\n",
       "      <td>-0.021006</td>\n",
       "    </tr>\n",
       "  </tbody>\n",
       "</table>\n",
       "</div>"
      ],
      "text/plain": [
       "                    event     bet  dec_odds  implied_prob  payout  profit  expected_value\n",
       "0  hofstra_nrth_bama_tenn  0.0100   22.4400      0.044563  0.2244   0.116        0.005169\n",
       "1    cinci_nrth_bama_tenn  0.0100   20.5700      0.048614  0.2057   0.097        0.004716\n",
       "2  duke_hofstra_nrth_bama  0.0134   13.6889      0.073052  0.1838   0.075        0.005479\n",
       "3    cinci_duke_nrth_bama  0.0146   12.5481      0.079693  0.1838   0.075        0.005977\n",
       "4   hofstra_sth_utah_tenn  0.0200    6.3000      0.158730  0.1258   0.017        0.002698\n",
       "5     cinci_sth_utah_tenn  0.0188    5.7750      0.173160  0.1087  -0.000       -0.000000\n",
       "6   duke_hofstra_sth_utah  0.0119    3.8431      0.260204  0.0457  -0.063       -0.016393\n",
       "7     cinci_duke_sth_utah  0.0100    3.5229      0.283859  0.0352  -0.074       -0.021006"
      ]
     },
     "execution_count": 29,
     "metadata": {},
     "output_type": "execute_result"
    }
   ],
   "source": [
    "results['expected_value'] = results['implied_prob'] * results['profit']\n",
    "results[['event', 'bet', 'dec_odds', 'implied_prob', 'payout','profit', 'expected_value']].head(10)"
   ]
  },
  {
   "cell_type": "code",
   "execution_count": 30,
   "metadata": {
    "pycharm": {
     "name": "#%%\n"
    }
   },
   "outputs": [
    {
     "name": "stdout",
     "output_type": "stream",
     "text": [
      "\n",
      "    Total Bet           : 0.1087\n",
      "    Total Expected value: -0.013359190921547675\n",
      "\n"
     ]
    }
   ],
   "source": [
    "\n",
    "print(f'''\n",
    "    Total Bet           : {results['bet'].sum()}\n",
    "    Total Expected value: {results['expected_value'].sum()}\n",
    "''')"
   ]
  },
  {
   "cell_type": "code",
   "execution_count": 31,
   "metadata": {
    "pycharm": {
     "name": "#%%\n"
    }
   },
   "outputs": [
    {
     "data": {
      "text/html": [
       "<div>\n",
       "<style scoped>\n",
       "    .dataframe tbody tr th:only-of-type {\n",
       "        vertical-align: middle;\n",
       "    }\n",
       "\n",
       "    .dataframe tbody tr th {\n",
       "        vertical-align: top;\n",
       "    }\n",
       "\n",
       "    .dataframe thead th {\n",
       "        text-align: right;\n",
       "    }\n",
       "</style>\n",
       "<table border=\"1\" class=\"dataframe\">\n",
       "  <thead>\n",
       "    <tr style=\"text-align: right;\">\n",
       "      <th></th>\n",
       "      <th>event</th>\n",
       "      <th>ml_odds</th>\n",
       "      <th>dec_odds</th>\n",
       "      <th>bet</th>\n",
       "      <th>implied_prob</th>\n",
       "      <th>payout</th>\n",
       "      <th>override</th>\n",
       "      <th>profit</th>\n",
       "      <th>expected_value</th>\n",
       "    </tr>\n",
       "  </thead>\n",
       "  <tbody>\n",
       "    <tr>\n",
       "      <th>0</th>\n",
       "      <td>hofstra_nrth_bama_tenn</td>\n",
       "      <td>2144.000000</td>\n",
       "      <td>22.4400</td>\n",
       "      <td>0.0100</td>\n",
       "      <td>0.044563</td>\n",
       "      <td>0.2244</td>\n",
       "      <td>0</td>\n",
       "      <td>0.116</td>\n",
       "      <td>0.005169</td>\n",
       "    </tr>\n",
       "    <tr>\n",
       "      <th>1</th>\n",
       "      <td>cinci_nrth_bama_tenn</td>\n",
       "      <td>1957.000000</td>\n",
       "      <td>20.5700</td>\n",
       "      <td>0.0100</td>\n",
       "      <td>0.048614</td>\n",
       "      <td>0.2057</td>\n",
       "      <td>0</td>\n",
       "      <td>0.097</td>\n",
       "      <td>0.004716</td>\n",
       "    </tr>\n",
       "    <tr>\n",
       "      <th>2</th>\n",
       "      <td>duke_hofstra_nrth_bama</td>\n",
       "      <td>1268.888889</td>\n",
       "      <td>13.6889</td>\n",
       "      <td>0.0134</td>\n",
       "      <td>0.073052</td>\n",
       "      <td>0.1838</td>\n",
       "      <td>0</td>\n",
       "      <td>0.075</td>\n",
       "      <td>0.005479</td>\n",
       "    </tr>\n",
       "    <tr>\n",
       "      <th>3</th>\n",
       "      <td>cinci_duke_nrth_bama</td>\n",
       "      <td>1154.814815</td>\n",
       "      <td>12.5481</td>\n",
       "      <td>0.0146</td>\n",
       "      <td>0.079693</td>\n",
       "      <td>0.1838</td>\n",
       "      <td>0</td>\n",
       "      <td>0.075</td>\n",
       "      <td>0.005977</td>\n",
       "    </tr>\n",
       "    <tr>\n",
       "      <th>4</th>\n",
       "      <td>hofstra_sth_utah_tenn</td>\n",
       "      <td>530.000000</td>\n",
       "      <td>6.3000</td>\n",
       "      <td>0.0200</td>\n",
       "      <td>0.158730</td>\n",
       "      <td>0.1258</td>\n",
       "      <td>0</td>\n",
       "      <td>0.017</td>\n",
       "      <td>0.002698</td>\n",
       "    </tr>\n",
       "    <tr>\n",
       "      <th>5</th>\n",
       "      <td>cinci_sth_utah_tenn</td>\n",
       "      <td>477.500000</td>\n",
       "      <td>5.7750</td>\n",
       "      <td>0.0188</td>\n",
       "      <td>0.173160</td>\n",
       "      <td>0.1087</td>\n",
       "      <td>0</td>\n",
       "      <td>-0.000</td>\n",
       "      <td>-0.000000</td>\n",
       "    </tr>\n",
       "  </tbody>\n",
       "</table>\n",
       "</div>"
      ],
      "text/plain": [
       "                    event      ml_odds  dec_odds     bet  implied_prob  payout  override  profit  expected_value\n",
       "0  hofstra_nrth_bama_tenn  2144.000000   22.4400  0.0100      0.044563  0.2244         0   0.116        0.005169\n",
       "1    cinci_nrth_bama_tenn  1957.000000   20.5700  0.0100      0.048614  0.2057         0   0.097        0.004716\n",
       "2  duke_hofstra_nrth_bama  1268.888889   13.6889  0.0134      0.073052  0.1838         0   0.075        0.005479\n",
       "3    cinci_duke_nrth_bama  1154.814815   12.5481  0.0146      0.079693  0.1838         0   0.075        0.005977\n",
       "4   hofstra_sth_utah_tenn   530.000000    6.3000  0.0200      0.158730  0.1258         0   0.017        0.002698\n",
       "5     cinci_sth_utah_tenn   477.500000    5.7750  0.0188      0.173160  0.1087         0  -0.000       -0.000000"
      ]
     },
     "execution_count": 31,
     "metadata": {},
     "output_type": "execute_result"
    }
   ],
   "source": [
    "pos_results = results.loc[results['profit'] > -0.005] \n",
    "pos_results"
   ]
  },
  {
   "cell_type": "code",
   "execution_count": 32,
   "metadata": {},
   "outputs": [
    {
     "data": {
      "text/plain": [
       "0.5778130811553271"
      ]
     },
     "execution_count": 32,
     "metadata": {},
     "output_type": "execute_result"
    }
   ],
   "source": [
    "pos_results['implied_prob'].sum()"
   ]
  },
  {
   "cell_type": "code",
   "execution_count": null,
   "metadata": {},
   "outputs": [],
   "source": []
  },
  {
   "cell_type": "code",
   "execution_count": null,
   "metadata": {},
   "outputs": [],
   "source": []
  }
 ],
 "metadata": {
  "kernelspec": {
   "display_name": "Python 3 (ipykernel)",
   "language": "python",
   "name": "python3"
  },
  "language_info": {
   "codemirror_mode": {
    "name": "ipython",
    "version": 3
   },
   "file_extension": ".py",
   "mimetype": "text/x-python",
   "name": "python",
   "nbconvert_exporter": "python",
   "pygments_lexer": "ipython3",
   "version": "3.8.16"
  }
 },
 "nbformat": 4,
 "nbformat_minor": 1
}
